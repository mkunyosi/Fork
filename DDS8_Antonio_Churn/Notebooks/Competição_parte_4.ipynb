{
  "cells": [
    {
      "cell_type": "markdown",
      "metadata": {
        "id": "MkBK8qFD-Xmr"
      },
      "source": [
        "# Objetivo.\n",
        " \n",
        "* Foi visto que o Target está desbalanceado, logo será visto o resultados dos modelos quando as classes ficaram equilibradas. \n",
        " \n",
        "* Obs: Foram feitos vários testes com diversos algoritmos para balancear as classes, e aquele que teve o melhor desempenho foi o TomekLinks.\n",
        " \n",
        " \n"
      ]
    },
    {
      "cell_type": "code",
      "execution_count": null,
      "metadata": {
        "id": "LjVN-Lr8-Y4J"
      },
      "outputs": [],
      "source": [
        ""
      ]
    },
    {
      "cell_type": "markdown",
      "metadata": {
        "id": "Nmq7tN9OCi2f"
      },
      "source": [
        "#Funções"
      ]
    },
    {
      "cell_type": "code",
      "execution_count": null,
      "metadata": {
        "id": "KVaqyQDyClMr"
      },
      "outputs": [],
      "source": [
        "def resultados(X_train,y_train,model):\n",
        "  j= 0\n",
        "  acerto_v = np.zeros(10)\n",
        "  for linhas_treino, linhas_valid in kf.split(X_train):\n",
        "    X_t, X_v = X_train.loc[linhas_treino], X_train.loc[linhas_valid]\n",
        "    y_t, y_v = y_train.loc[linhas_treino], y_train.loc[linhas_valid]\n",
        "\n",
        "    model = model.fit(X_t, y_t)\n",
        "    prf = model.predict_proba(X_v)[:,1]\n",
        "    prf_ = (prf > 0.42).astype(int)\n",
        "    acerto_v[j] = f1_score(y_v, prf_)\n",
        "    j = j + 1\n",
        "  return np.mean(acerto_v)\n",
        "\n",
        "def resultados_v2(X_train,y_train,linhas_treino,linhas_valid,model,flag):\n",
        "  \n",
        "  if flag == 1:\n",
        "    smote = TomekLinks()\n",
        "    X_t, X_v = X_train.loc[linhas_treino], X_train.loc[linhas_valid]\n",
        "    y_t, y_v = y_train.loc[linhas_treino], y_train.loc[linhas_valid]\n",
        "    X_t, y_t = smote.fit_resample(X_t, y_t)\n",
        "    print('a')\n",
        "\n",
        "  if flag == 0:\n",
        "    smote = TomekLinks()\n",
        "    X_t, X_v = X_train.loc[linhas_treino], X_train.loc[linhas_valid]\n",
        "    y_t, y_v = y_train.loc[linhas_treino], y_train.loc[linhas_valid]\n",
        "    \n",
        "\n",
        "\n",
        "\n",
        "  model = model.fit(X_t, y_t)\n",
        "  prf = model.predict_proba(X_v)[:,1]\n",
        "  return prf\n",
        "\n",
        "\n",
        "\n",
        "\n"
      ]
    },
    {
      "cell_type": "markdown",
      "metadata": {
        "id": "ZzCYmy5m-iWy"
      },
      "source": [
        "# Bibliotecas"
      ]
    },
    {
      "cell_type": "code",
      "execution_count": null,
      "metadata": {
        "colab": {
          "base_uri": "https://localhost:8080/"
        },
        "id": "FdJ2eUQC-jr6",
        "outputId": "749f1087-a8dd-4f62-c5fd-3d020210f1b7"
      },
      "outputs": [
        {
          "output_type": "stream",
          "name": "stdout",
          "text": [
            "Drive already mounted at /content/drive; to attempt to forcibly remount, call drive.mount(\"/content/drive\", force_remount=True).\n"
          ]
        }
      ],
      "source": [
        "import numpy as np\n",
        "import pandas as pd \n",
        "import seaborn as sns\n",
        "import matplotlib.pyplot as plt\n",
        "%matplotlib inline\n",
        "from google.colab import drive\n",
        "drive.mount('/content/drive')\n",
        "from sklearn.ensemble import RandomForestClassifier\n",
        "from sklearn.preprocessing import StandardScaler, MinMaxScaler\n",
        "from sklearn.model_selection import KFold\n",
        "from sklearn.metrics import log_loss, f1_score\n",
        "from sklearn.pipeline import make_pipeline\n",
        "from xgboost import XGBClassifier\n",
        "from sklearn.neural_network import MLPClassifier\n",
        "from sklearn.neighbors import KNeighborsClassifier\n",
        "from imblearn.under_sampling import TomekLinks\n",
        "from sklearn.model_selection import train_test_split\n",
        "from gokinjo import knn_kfold_extract\n",
        "from gokinjo import knn_extract\n",
        "from sklearn.preprocessing import LabelEncoder"
      ]
    },
    {
      "cell_type": "code",
      "execution_count": null,
      "metadata": {
        "id": "jrx3x2VDURsS"
      },
      "outputs": [],
      "source": [
        ""
      ]
    },
    {
      "cell_type": "markdown",
      "metadata": {
        "id": "ayU3BvMuANZX"
      },
      "source": [
        "# Importando os dados"
      ]
    },
    {
      "cell_type": "code",
      "source": [
        ""
      ],
      "metadata": {
        "id": "cWHYrPTAk4Ca"
      },
      "execution_count": null,
      "outputs": []
    },
    {
      "cell_type": "code",
      "source": [
        "def encoder_var(df,flag):\n",
        "  if flag == 1:\n",
        "    ind = df.columns[df.dtypes == 'object']\n",
        "  if flag == 0:\n",
        "     ind = df.columns[df.dtypes == 'category']\n",
        "\n",
        "  for i in range(len(ind)):\n",
        "    enc = LabelEncoder()\n",
        "    inteiros = enc.fit_transform(df[ind[i]])\n",
        "    df[ind[i]] = inteiros\n",
        "\n",
        "  return df\n",
        "\n",
        "\n",
        "def tratamento(df, flag):\n",
        "\n",
        "  df['func_idade_log'] = np.log(df['func_idade'])\n",
        "  df['contrato_horastrabalho_log'] = np.log(df['contrato_horastrabalho'] + 1)\n",
        "  df['contrato_salario_log'] = np.log10(df['contrato_salario'])\n",
        "  if flag == 1:\n",
        "    df['turnover_apos_1_ano'] = df['turnover_apos_1_ano'].map({'NAO': 0, 'SIM': 1})\n",
        "  \n",
        "  df['func_deficiencia'] = df['func_deficiencia'].map({'NAO': 0, 'SIM': 1})\n",
        "  df['func_sexo'] = df['func_sexo'].map({'FEMININO': 0, 'MASCULINO': 1})\n",
        "\n",
        "  df = df.drop(columns = ['contrato_horastrabalho_log'])\n",
        "\n",
        "  df = encoder_var(df,1)\n",
        "\n",
        "  col2 = ['func_idade' ,'contrato_salario_log']\n",
        "  df = df.drop(columns = col2)\n",
        "\n",
        "  df['contrato_horastrabalho'].loc[df['contrato_horastrabalho'] == 0] =df['contrato_horastrabalho'].loc[df['contrato_horastrabalho'] > 0].mean()\n",
        "\n",
        "  df['contrato_horastrabalho']= pd.cut(df[\"contrato_horastrabalho\"], bins= 12)\n",
        "\n",
        "  print(np.unique(df['contrato_horastrabalho']))\n",
        "\n",
        "  #df['contrato_salario_sqrt']= df['contrato_salario']**(1/3)\n",
        "\n",
        "  df = encoder_var(df,0)\n",
        "\n",
        "  return df"
      ],
      "metadata": {
        "id": "YNSwg18TkySq"
      },
      "execution_count": null,
      "outputs": []
    },
    {
      "cell_type": "code",
      "source": [
        ""
      ],
      "metadata": {
        "id": "87FR7o1Xnf6I"
      },
      "execution_count": null,
      "outputs": []
    },
    {
      "cell_type": "code",
      "source": [
        "df = pd.read_csv('/content/drive/My Drive/competição flai nova/treino.csv',encoding = \"UTF-8\", sep = \";\",decimal = ',',dayfirst = True)"
      ],
      "metadata": {
        "id": "3uQbh1VJYglV"
      },
      "execution_count": null,
      "outputs": []
    },
    {
      "cell_type": "code",
      "source": [
        "df_teste = pd.read_csv('/content/drive/My Drive/competição flai nova/teste.csv',encoding = \"UTF-8\", sep = \";\",decimal = ',',dayfirst = True)"
      ],
      "metadata": {
        "id": "02M5pqGMjej1"
      },
      "execution_count": null,
      "outputs": []
    },
    {
      "cell_type": "code",
      "source": [
        "df = tratamento(df,1)"
      ],
      "metadata": {
        "colab": {
          "base_uri": "https://localhost:8080/"
        },
        "id": "WerU6sh7Zhlf",
        "outputId": "c5c7a90e-98dc-4ca9-9a9b-bd397857f858"
      },
      "execution_count": null,
      "outputs": [
        {
          "output_type": "stream",
          "name": "stderr",
          "text": [
            "/usr/local/lib/python3.7/dist-packages/pandas/core/indexing.py:1732: SettingWithCopyWarning: \n",
            "A value is trying to be set on a copy of a slice from a DataFrame\n",
            "\n",
            "See the caveats in the documentation: https://pandas.pydata.org/pandas-docs/stable/user_guide/indexing.html#returning-a-view-versus-a-copy\n",
            "  self._setitem_single_block(indexer, value, name)\n"
          ]
        },
        {
          "output_type": "stream",
          "name": "stdout",
          "text": [
            "[Interval(0.957, 4.583, closed='right')\n",
            " Interval(4.583, 8.167, closed='right')\n",
            " Interval(8.167, 11.75, closed='right')\n",
            " Interval(11.75, 15.333, closed='right')\n",
            " Interval(15.333, 18.917, closed='right')\n",
            " Interval(18.917, 22.5, closed='right')\n",
            " Interval(22.5, 26.083, closed='right')\n",
            " Interval(26.083, 29.667, closed='right')\n",
            " Interval(29.667, 33.25, closed='right')\n",
            " Interval(33.25, 36.833, closed='right')\n",
            " Interval(36.833, 40.417, closed='right')\n",
            " Interval(40.417, 44.0, closed='right')]\n"
          ]
        }
      ]
    },
    {
      "cell_type": "code",
      "source": [
        "df_teste = tratamento(df_teste,0)"
      ],
      "metadata": {
        "colab": {
          "base_uri": "https://localhost:8080/"
        },
        "id": "EpXfFcrZn5Bo",
        "outputId": "80b3058a-6795-49e7-ea49-cdb85da11ac3"
      },
      "execution_count": null,
      "outputs": [
        {
          "output_type": "stream",
          "name": "stdout",
          "text": [
            "[Interval(0.957, 4.583, closed='right')\n",
            " Interval(4.583, 8.167, closed='right')\n",
            " Interval(8.167, 11.75, closed='right')\n",
            " Interval(11.75, 15.333, closed='right')\n",
            " Interval(15.333, 18.917, closed='right')\n",
            " Interval(18.917, 22.5, closed='right')\n",
            " Interval(22.5, 26.083, closed='right')\n",
            " Interval(26.083, 29.667, closed='right')\n",
            " Interval(29.667, 33.25, closed='right')\n",
            " Interval(33.25, 36.833, closed='right')\n",
            " Interval(36.833, 40.417, closed='right')\n",
            " Interval(40.417, 44.0, closed='right')]\n"
          ]
        },
        {
          "output_type": "stream",
          "name": "stderr",
          "text": [
            "/usr/local/lib/python3.7/dist-packages/pandas/core/indexing.py:1732: SettingWithCopyWarning: \n",
            "A value is trying to be set on a copy of a slice from a DataFrame\n",
            "\n",
            "See the caveats in the documentation: https://pandas.pydata.org/pandas-docs/stable/user_guide/indexing.html#returning-a-view-versus-a-copy\n",
            "  self._setitem_single_block(indexer, value, name)\n"
          ]
        }
      ]
    },
    {
      "cell_type": "code",
      "source": [
        ""
      ],
      "metadata": {
        "id": "9A68Fgoc94Ak"
      },
      "execution_count": null,
      "outputs": []
    },
    {
      "cell_type": "markdown",
      "source": [
        "# Balaceamento de classe"
      ],
      "metadata": {
        "id": "LjEYyfPakfZ-"
      }
    },
    {
      "cell_type": "markdown",
      "source": [
        "### Xboost"
      ],
      "metadata": {
        "id": "_KybewcPlZwq"
      }
    },
    {
      "cell_type": "markdown",
      "source": [
        "**Resultado sem balancear as classes**"
      ],
      "metadata": {
        "id": "IQncVXplkpRJ"
      }
    },
    {
      "cell_type": "code",
      "source": [
        ""
      ],
      "metadata": {
        "id": "h_QFKsMl94Nn"
      },
      "execution_count": null,
      "outputs": []
    },
    {
      "cell_type": "code",
      "source": [
        "X_train  = df.drop(columns='turnover_apos_1_ano')\n",
        "y_train = df['turnover_apos_1_ano']"
      ],
      "metadata": {
        "id": "Y8k-ZBuPrIz4"
      },
      "execution_count": null,
      "outputs": []
    },
    {
      "cell_type": "code",
      "source": [
        "lr = 0.027840476080879074\n",
        "max_depth = 6\n",
        "n_estimators = 669\n",
        "colsample_bytree = 1\n",
        "lamb             = 0.0009938152575176688\n",
        "alpha            = 0.0\n",
        "model = XGBClassifier(colsample_bytree = colsample_bytree, learning_rate = lr,\n",
        "                       max_depth = max_depth, n_estimators = n_estimators,reg_lambda = lamb, reg_alpha = alpha,random_state=40)"
      ],
      "metadata": {
        "id": "UJUO_EQGrI1o"
      },
      "execution_count": null,
      "outputs": []
    },
    {
      "cell_type": "code",
      "source": [
        "kf = KFold(n_splits=10, random_state=5, shuffle=True)"
      ],
      "metadata": {
        "id": "F0qDkCSIke9I"
      },
      "execution_count": null,
      "outputs": []
    },
    {
      "cell_type": "code",
      "source": [
        "j= 0\n",
        "acerto_v = np.zeros(10)\n",
        "for linhas_treino, linhas_valid in kf.split(X_train):\n",
        "  X_t, X_v = X_train.loc[linhas_treino], X_train.loc[linhas_valid]\n",
        "  y_t, y_v = y_train.loc[linhas_treino], y_train.loc[linhas_valid]\n",
        "\n",
        "  model = model.fit(X_t, y_t)\n",
        "  prf = model.predict_proba(X_v)[:,1]\n",
        "  prf_ = (prf > 0.38).astype(int)\n",
        "  acerto_v[j] = f1_score(y_v, prf_)\n",
        "  j = j + 1\n",
        " "
      ],
      "metadata": {
        "id": "0ibxIsdckUw1"
      },
      "execution_count": null,
      "outputs": []
    },
    {
      "cell_type": "code",
      "source": [
        "print('F1:',np.mean(acerto_v),'Desvio padrão:',np.std(acerto_v),'erro:',np.std(acerto_v)/np.sqrt(10))"
      ],
      "metadata": {
        "colab": {
          "base_uri": "https://localhost:8080/"
        },
        "id": "z54T3IDZ3y5b",
        "outputId": "67188464-cfa1-4669-8bff-1fd6f9f0497d"
      },
      "execution_count": null,
      "outputs": [
        {
          "output_type": "stream",
          "name": "stdout",
          "text": [
            "F1: 0.7998609908018577 Desvio padrão: 0.012525115347932141 erro: 0.00396078924557979\n"
          ]
        }
      ]
    },
    {
      "cell_type": "markdown",
      "source": [
        "**Resultado com as classes balanceadas**"
      ],
      "metadata": {
        "id": "qowN3KR142fk"
      }
    },
    {
      "cell_type": "code",
      "source": [
        "acerto_v1 = np.zeros(10)\n",
        "j= 0\n",
        "smote = TomekLinks()\n",
        "for linhas_treino, linhas_valid in kf.split(X_train):\n",
        "    X_t, X_v = X_train.loc[linhas_treino], X_train.loc[linhas_valid]\n",
        "    y_t, y_v = y_train.loc[linhas_treino], y_train.loc[linhas_valid]\n",
        "    X_t, y_t = smote.fit_resample(X_t, y_t)\n",
        "    model = model.fit(X_t, y_t)\n",
        "    prf = model.predict_proba(X_v)[:,1]\n",
        "    prf_ = (prf > 0.38).astype(int)\n",
        "    acerto_v1[j] = f1_score(y_v, prf_)\n",
        "    j = j + 1\n",
        "    \n",
        "  \n",
        "print('F1:',np.mean(acerto_v1),'Desvio padrão:',np.std(acerto_v1),'erro:',np.std(acerto_v1)/np.sqrt(10))\n",
        "print('\\n')"
      ],
      "metadata": {
        "id": "Plc5U7Twz0C6",
        "colab": {
          "base_uri": "https://localhost:8080/"
        },
        "outputId": "9e43531d-c9b8-4fd0-b77c-ba4a22782dee"
      },
      "execution_count": null,
      "outputs": [
        {
          "output_type": "stream",
          "name": "stdout",
          "text": [
            "F1: 0.800809597106044 Desvio padrão: 0.013171973999301397 erro: 0.004165343911830955\n",
            "\n",
            "\n"
          ]
        }
      ]
    },
    {
      "cell_type": "markdown",
      "source": [
        "### Stacking "
      ],
      "metadata": {
        "id": "EqBaoapNlT39"
      }
    },
    {
      "cell_type": "markdown",
      "source": [
        "**Resultado sem balancear as classes**"
      ],
      "metadata": {
        "id": "wVf-Y8lOlYJS"
      }
    },
    {
      "cell_type": "code",
      "source": [
        "model1 = RandomForestClassifier(n_estimators = 100,max_features = 'sqrt',max_depth=12,random_state = 10)\n",
        "model2 = XGBClassifier(colsample_bytree = 1, learning_rate = 0.011484853111591423,\n",
        "                       max_depth = 5, n_estimators = 268,random_state=40)\n",
        "\n",
        "clf    = MLPClassifier(hidden_layer_sizes =[261],activation='relu',solver='adam',alpha= 0.0006788795301189604,max_iter=500,random_state=40)\n",
        "model3 = make_pipeline(MinMaxScaler(), clf)\n",
        "\n",
        "clf    = MLPClassifier(hidden_layer_sizes =[1],activation='tanh',solver='lbfgs',alpha=0,max_iter=500,random_state=40)\n",
        "model4 = make_pipeline(MinMaxScaler(), clf)\n",
        "\n",
        "lr = 0.027840476080879074\n",
        "max_depth = 6\n",
        "n_estimators = 669\n",
        "colsample_bytree = 1\n",
        "lamb             = 0.0009938152575176688\n",
        "alpha            = 0.0\n",
        "\n",
        "model5 = XGBClassifier(colsample_bytree = colsample_bytree, learning_rate = lr,\n",
        "                       max_depth = max_depth, n_estimators = n_estimators,reg_lambda = lamb, reg_alpha = alpha,random_state=40)\n",
        "\n",
        "\n",
        "\n",
        "\n",
        "\n",
        "\n",
        "\n",
        "\n",
        "acertof1 = np.zeros(10)\n",
        "acertol  = np.zeros(10)\n",
        "second_level = np.zeros((X_train.shape[0], 5)) # dados de entrada do modelo \n",
        "j = 0\n",
        "for linhas_treino, linhas_valid in kf.split(X_train):\n",
        "  prf1 = resultados_v2(X_train,y_train,linhas_treino,linhas_valid,model1,0)\n",
        "  prf2 = resultados_v2(X_train,y_train,linhas_treino,linhas_valid,model2,0)\n",
        "  prf3 = resultados_v2(X_train,y_train,linhas_treino,linhas_valid,model3,0)\n",
        "  prf4 = resultados_v2(X_train,y_train,linhas_treino,linhas_valid,model4,0)\n",
        "  prf5 = resultados_v2(X_train,y_train,linhas_treino,linhas_valid,model5,0)\n",
        "  \n",
        "  j =  j+1\n",
        "\n",
        "  second_level[linhas_valid, 0] = prf1\n",
        "  second_level[linhas_valid, 1] = prf2\n",
        "  second_level[linhas_valid, 2] = prf3\n",
        "  second_level[linhas_valid, 3] = prf4\n",
        "  second_level[linhas_valid, 4] = prf5\n",
        " "
      ],
      "metadata": {
        "id": "k3ki_hG5l1qW"
      },
      "execution_count": null,
      "outputs": []
    },
    {
      "cell_type": "code",
      "source": [
        "df_staking = pd.DataFrame(second_level,columns=['Fl', 'XGBM1', 'MLP1', 'MLP2','XGBM2'])"
      ],
      "metadata": {
        "id": "BCyhsiibpacX"
      },
      "execution_count": null,
      "outputs": []
    },
    {
      "cell_type": "code",
      "source": [
        "lr = 0.04248763694738395\n",
        "max_depth = 1\n",
        "n_estimators = 1000\n",
        "colsample_bytree = 1\n",
        "reg_lambda = 4.222462269882505e-05\n",
        "reg_alpha = 0.1\n",
        "\n",
        "model = XGBClassifier(colsample_bytree = colsample_bytree, learning_rate = lr,\n",
        "                       max_depth = max_depth, n_estimators = n_estimators,reg_lambda = lamb, reg_alpha = alpha,random_state=40)"
      ],
      "metadata": {
        "id": "8Al19f1Il1u7"
      },
      "execution_count": null,
      "outputs": []
    },
    {
      "cell_type": "code",
      "source": [
        "X = df_staking[['XGBM1','XGBM2']]"
      ],
      "metadata": {
        "id": "DeRfADxdujsU"
      },
      "execution_count": null,
      "outputs": []
    },
    {
      "cell_type": "code",
      "source": [
        "j= 0\n",
        "acerto_v = np.zeros(10)\n",
        "for linhas_treino, linhas_valid in kf.split(X):\n",
        "  X_t, X_v = X.loc[linhas_treino], X.loc[linhas_valid]\n",
        "  y_t, y_v = y_train.loc[linhas_treino], y_train.loc[linhas_valid]\n",
        "\n",
        "  model = model.fit(X_t, y_t)\n",
        "  prf = model.predict_proba(X_v)[:,1]\n",
        "  prf_ = (prf > 0.40).astype(int)\n",
        "  acerto_v[j] = f1_score(y_v, prf_)\n",
        "  j = j + 1"
      ],
      "metadata": {
        "id": "B0lYhmJJpwhi"
      },
      "execution_count": null,
      "outputs": []
    },
    {
      "cell_type": "code",
      "source": [
        "print('F1:',np.mean(acerto_v),'Desvio padrão:',np.std(acerto_v),'erro:',np.std(acerto_v)/np.sqrt(10))\n",
        "print('\\n')"
      ],
      "metadata": {
        "colab": {
          "base_uri": "https://localhost:8080/"
        },
        "id": "1PpytwccuyIy",
        "outputId": "a157e1ff-4df2-4579-c6a0-2c7258546980"
      },
      "execution_count": null,
      "outputs": [
        {
          "output_type": "stream",
          "name": "stdout",
          "text": [
            "F1: 0.7992239469925523 Desvio padrão: 0.012313593871562905 erro: 0.0038939002816429633\n",
            "\n",
            "\n"
          ]
        }
      ]
    },
    {
      "cell_type": "markdown",
      "source": [
        "**Resultado com o balanceamento de classe**"
      ],
      "metadata": {
        "id": "8ts6KLIxs3Yt"
      }
    },
    {
      "cell_type": "code",
      "source": [
        "acertof1 = np.zeros(10)\n",
        "acertol  = np.zeros(10)\n",
        "second_level = np.zeros((X_train.shape[0], 5)) # dados de entrada do modelo \n",
        "j = 0\n",
        "smote = TomekLinks()\n",
        "for linhas_treino, linhas_valid in kf.split(X_train):\n",
        "  prf1 = resultados_v2(X_train,y_train,linhas_treino,linhas_valid,model1,1)\n",
        "  prf2 = resultados_v2(X_train,y_train,linhas_treino,linhas_valid,model2,1)\n",
        "  prf3 = resultados_v2(X_train,y_train,linhas_treino,linhas_valid,model3,1)\n",
        "  prf4 = resultados_v2(X_train,y_train,linhas_treino,linhas_valid,model4,1)\n",
        "  prf5 = resultados_v2(X_train,y_train,linhas_treino,linhas_valid,model5,1)\n",
        "  \n",
        "  j =  j+1\n",
        "\n",
        "  second_level[linhas_valid, 0] = prf1\n",
        "  second_level[linhas_valid, 1] = prf2\n",
        "  second_level[linhas_valid, 2] = prf3\n",
        "  second_level[linhas_valid, 3] = prf4\n",
        "  second_level[linhas_valid, 4] = prf5"
      ],
      "metadata": {
        "id": "BfBO1glqs8Sc"
      },
      "execution_count": null,
      "outputs": []
    },
    {
      "cell_type": "code",
      "source": [
        "df_staking = pd.DataFrame(second_level,columns=['Fl', 'XGBM1', 'MLP1', 'MLP2','XGBM2'])"
      ],
      "metadata": {
        "id": "BdnMxBoxx86m"
      },
      "execution_count": null,
      "outputs": []
    },
    {
      "cell_type": "code",
      "source": [
        "X = df_staking[['XGBM1','XGBM2']]"
      ],
      "metadata": {
        "id": "DVoqcYXOyHFp"
      },
      "execution_count": null,
      "outputs": []
    },
    {
      "cell_type": "code",
      "source": [
        "lr = 0.04248763694738395\n",
        "max_depth = 1\n",
        "n_estimators = 1000\n",
        "colsample_bytree = 1\n",
        "reg_lambda = 4.222462269882505e-05\n",
        "reg_alpha = 0.1\n",
        "\n",
        "model = XGBClassifier(colsample_bytree = colsample_bytree, learning_rate = lr,\n",
        "                       max_depth = max_depth, n_estimators = n_estimators,reg_lambda = lamb, reg_alpha = alpha,random_state=40)"
      ],
      "metadata": {
        "id": "XPH2v1lX0MhH"
      },
      "execution_count": null,
      "outputs": []
    },
    {
      "cell_type": "code",
      "source": [
        "j= 0\n",
        "acerto_v = np.zeros(10)\n",
        "for linhas_treino, linhas_valid in kf.split(X):\n",
        "  X_t, X_v = X.loc[linhas_treino], X.loc[linhas_valid]\n",
        "  y_t, y_v = y_train.loc[linhas_treino], y_train.loc[linhas_valid]\n",
        "\n",
        "  model = model.fit(X_t, y_t)\n",
        "  prf = model.predict_proba(X_v)[:,1]\n",
        "  prf_ = (prf > 0.40).astype(int)\n",
        "  acerto_v[j] = f1_score(y_v, prf_)\n",
        "  j = j + 1"
      ],
      "metadata": {
        "id": "GX27LB3UyAAS"
      },
      "execution_count": null,
      "outputs": []
    },
    {
      "cell_type": "code",
      "source": [
        "print('F1:',np.mean(acerto_v),'Desvio padrão:',np.std(acerto_v),'erro:',np.std(acerto_v)/np.sqrt(10))\n",
        "print('\\n')"
      ],
      "metadata": {
        "colab": {
          "base_uri": "https://localhost:8080/"
        },
        "id": "1qMpaGltyDxH",
        "outputId": "d5d2eaa5-89ba-4926-8a10-bc7265b36efd"
      },
      "execution_count": null,
      "outputs": [
        {
          "output_type": "stream",
          "name": "stdout",
          "text": [
            "F1: 0.7996771316586271 Desvio padrão: 0.01316718709617692 erro: 0.004163830160149763\n",
            "\n",
            "\n"
          ]
        }
      ]
    },
    {
      "cell_type": "markdown",
      "source": [
        "* Usando todos estimadores do primeiro nível"
      ],
      "metadata": {
        "id": "aqcm7bd2zaR3"
      }
    },
    {
      "cell_type": "code",
      "source": [
        "X = df_staking[['XGBM2', 'XGBM1']]"
      ],
      "metadata": {
        "id": "acYFr5RIzhbG"
      },
      "execution_count": null,
      "outputs": []
    },
    {
      "cell_type": "code",
      "source": [
        "j= 0\n",
        "acerto_v = np.zeros(10)\n",
        "for linhas_treino, linhas_valid in kf.split(X):\n",
        "  X_t, X_v = X.loc[linhas_treino], X.loc[linhas_valid]\n",
        "  y_t, y_v = y_train.loc[linhas_treino], y_train.loc[linhas_valid]\n",
        "\n",
        "  model = model.fit(X_t, y_t)\n",
        "  prf = model.predict_proba(X_v)[:,1]\n",
        "  prf_ = (prf > 0.40).astype(int)\n",
        "  acerto_v[j] = f1_score(y_v, prf_)\n",
        "  j = j + 1"
      ],
      "metadata": {
        "id": "4dnp4M9Ezkha"
      },
      "execution_count": null,
      "outputs": []
    },
    {
      "cell_type": "code",
      "source": [
        "print('F1:',np.mean(acerto_v),'Desvio padrão:',np.std(acerto_v),'erro:',np.std(acerto_v)/np.sqrt(10))\n",
        "print('\\n')"
      ],
      "metadata": {
        "colab": {
          "base_uri": "https://localhost:8080/"
        },
        "id": "_3NrEdA0zkp6",
        "outputId": "e5f901fb-c44e-4edc-a714-08196d35d178"
      },
      "execution_count": null,
      "outputs": [
        {
          "output_type": "stream",
          "name": "stdout",
          "text": [
            "F1: 0.7996771316586271 Desvio padrão: 0.01316718709617692 erro: 0.004163830160149763\n",
            "\n",
            "\n"
          ]
        }
      ]
    },
    {
      "cell_type": "markdown",
      "source": [
        "# Conclusão:\n",
        " \n",
        "* O equilíbrio das classes fez com que o modelo passasse de um f1 de 0.79986 Desvio padrão: 0.012525 erro: 0.00396 para 0.80080 Desvio padrão: 0.013171 erro: 0.00416.\n"
      ],
      "metadata": {
        "id": "zXf3YJ0n34ee"
      }
    },
    {
      "cell_type": "markdown",
      "source": [
        "# Competição."
      ],
      "metadata": {
        "id": "TayDWtN7kxqT"
      }
    },
    {
      "cell_type": "markdown",
      "source": [
        "###XGBM"
      ],
      "metadata": {
        "id": "Ht-GuX_etnLK"
      }
    },
    {
      "cell_type": "code",
      "source": [
        "df = pd.read_csv('/content/drive/My Drive/competição flai nova/treino.csv',encoding = \"UTF-8\", sep = \";\",decimal = ',',dayfirst = True)"
      ],
      "metadata": {
        "id": "I-aMH1Axk5II"
      },
      "execution_count": null,
      "outputs": []
    },
    {
      "cell_type": "code",
      "source": [
        "df_teste = pd.read_csv('/content/drive/My Drive/competição flai nova/teste.csv',encoding = \"UTF-8\", sep = \";\",decimal = ',',dayfirst = True)"
      ],
      "metadata": {
        "id": "ZavQlHjmk5Jt"
      },
      "execution_count": null,
      "outputs": []
    },
    {
      "cell_type": "code",
      "source": [
        "df = tratamento(df,1)"
      ],
      "metadata": {
        "colab": {
          "base_uri": "https://localhost:8080/"
        },
        "id": "urRgSakOk5Qn",
        "outputId": "eb83b0d2-f337-4985-afa9-357c11245565"
      },
      "execution_count": null,
      "outputs": [
        {
          "output_type": "stream",
          "name": "stdout",
          "text": [
            "[Interval(0.957, 4.583, closed='right')\n",
            " Interval(4.583, 8.167, closed='right')\n",
            " Interval(8.167, 11.75, closed='right')\n",
            " Interval(11.75, 15.333, closed='right')\n",
            " Interval(15.333, 18.917, closed='right')\n",
            " Interval(18.917, 22.5, closed='right')\n",
            " Interval(22.5, 26.083, closed='right')\n",
            " Interval(26.083, 29.667, closed='right')\n",
            " Interval(29.667, 33.25, closed='right')\n",
            " Interval(33.25, 36.833, closed='right')\n",
            " Interval(36.833, 40.417, closed='right')\n",
            " Interval(40.417, 44.0, closed='right')]\n"
          ]
        },
        {
          "output_type": "stream",
          "name": "stderr",
          "text": [
            "/usr/local/lib/python3.7/dist-packages/pandas/core/indexing.py:1732: SettingWithCopyWarning: \n",
            "A value is trying to be set on a copy of a slice from a DataFrame\n",
            "\n",
            "See the caveats in the documentation: https://pandas.pydata.org/pandas-docs/stable/user_guide/indexing.html#returning-a-view-versus-a-copy\n",
            "  self._setitem_single_block(indexer, value, name)\n"
          ]
        }
      ]
    },
    {
      "cell_type": "code",
      "source": [
        "df_teste = tratamento(df_teste,0)"
      ],
      "metadata": {
        "colab": {
          "base_uri": "https://localhost:8080/"
        },
        "id": "AhFcSJKMk5SM",
        "outputId": "b1392299-43d0-42bc-850c-134f73809806"
      },
      "execution_count": null,
      "outputs": [
        {
          "output_type": "stream",
          "name": "stdout",
          "text": [
            "[Interval(0.957, 4.583, closed='right')\n",
            " Interval(4.583, 8.167, closed='right')\n",
            " Interval(8.167, 11.75, closed='right')\n",
            " Interval(11.75, 15.333, closed='right')\n",
            " Interval(15.333, 18.917, closed='right')\n",
            " Interval(18.917, 22.5, closed='right')\n",
            " Interval(22.5, 26.083, closed='right')\n",
            " Interval(26.083, 29.667, closed='right')\n",
            " Interval(29.667, 33.25, closed='right')\n",
            " Interval(33.25, 36.833, closed='right')\n",
            " Interval(36.833, 40.417, closed='right')\n",
            " Interval(40.417, 44.0, closed='right')]\n"
          ]
        },
        {
          "output_type": "stream",
          "name": "stderr",
          "text": [
            "/usr/local/lib/python3.7/dist-packages/pandas/core/indexing.py:1732: SettingWithCopyWarning: \n",
            "A value is trying to be set on a copy of a slice from a DataFrame\n",
            "\n",
            "See the caveats in the documentation: https://pandas.pydata.org/pandas-docs/stable/user_guide/indexing.html#returning-a-view-versus-a-copy\n",
            "  self._setitem_single_block(indexer, value, name)\n"
          ]
        }
      ]
    },
    {
      "cell_type": "code",
      "source": [
        "lr = 0.027840476080879074\n",
        "max_depth = 6\n",
        "n_estimators = 669\n",
        "colsample_bytree = 1\n",
        "lamb             = 0.0009938152575176688\n",
        "alpha            = 0.0\n",
        "model = XGBClassifier(colsample_bytree = colsample_bytree, learning_rate = lr,\n",
        "                       max_depth = max_depth, n_estimators = n_estimators,reg_lambda = lamb, reg_alpha = alpha,random_state=40)"
      ],
      "metadata": {
        "id": "AA9k0ev-mRIY"
      },
      "execution_count": null,
      "outputs": []
    },
    {
      "cell_type": "code",
      "source": [
        "X_train  = df.drop(columns='turnover_apos_1_ano')\n",
        "y_train = df['turnover_apos_1_ano']"
      ],
      "metadata": {
        "id": "evZBRjyVk5T7"
      },
      "execution_count": null,
      "outputs": []
    },
    {
      "cell_type": "code",
      "source": [
        "smote            = TomekLinks()\n",
        "X_smote, y_smote = smote.fit_resample(X_train, y_train)"
      ],
      "metadata": {
        "id": "lxLltJ_qlwqy"
      },
      "execution_count": null,
      "outputs": []
    },
    {
      "cell_type": "code",
      "source": [
        "model = model.fit(X_smote, y_smote)\n",
        "prf = model.predict_proba(df_teste)[:,1]\n",
        "prf_ = (prf > 0.38).astype(int)\n"
      ],
      "metadata": {
        "id": "2Rj7oofIlwyo"
      },
      "execution_count": null,
      "outputs": []
    },
    {
      "cell_type": "code",
      "source": [
        "subm = pd.DataFrame()\n",
        "subm['turnover_apos_1_ano'] = prf_"
      ],
      "metadata": {
        "id": "xdVnghfFlkTR"
      },
      "execution_count": null,
      "outputs": []
    },
    {
      "cell_type": "code",
      "source": [
        "subm['turnover_apos_1_ano'] = subm['turnover_apos_1_ano'].map({0:'NAO', 1: 'SIM'})"
      ],
      "metadata": {
        "id": "1L-FoM85lqLU"
      },
      "execution_count": null,
      "outputs": []
    },
    {
      "cell_type": "code",
      "source": [
        "subm"
      ],
      "metadata": {
        "colab": {
          "base_uri": "https://localhost:8080/",
          "height": 423
        },
        "id": "fnvdgTJWmjgp",
        "outputId": "35168760-b797-4abf-95de-a36c1fb049b4"
      },
      "execution_count": null,
      "outputs": [
        {
          "output_type": "execute_result",
          "data": {
            "text/plain": [
              "      turnover_apos_1_ano\n",
              "0                     SIM\n",
              "1                     NAO\n",
              "2                     NAO\n",
              "3                     NAO\n",
              "4                     NAO\n",
              "...                   ...\n",
              "14995                 NAO\n",
              "14996                 SIM\n",
              "14997                 SIM\n",
              "14998                 NAO\n",
              "14999                 NAO\n",
              "\n",
              "[15000 rows x 1 columns]"
            ],
            "text/html": [
              "\n",
              "  <div id=\"df-b1bca67d-d875-45c9-93a7-734ddb427b73\">\n",
              "    <div class=\"colab-df-container\">\n",
              "      <div>\n",
              "<style scoped>\n",
              "    .dataframe tbody tr th:only-of-type {\n",
              "        vertical-align: middle;\n",
              "    }\n",
              "\n",
              "    .dataframe tbody tr th {\n",
              "        vertical-align: top;\n",
              "    }\n",
              "\n",
              "    .dataframe thead th {\n",
              "        text-align: right;\n",
              "    }\n",
              "</style>\n",
              "<table border=\"1\" class=\"dataframe\">\n",
              "  <thead>\n",
              "    <tr style=\"text-align: right;\">\n",
              "      <th></th>\n",
              "      <th>turnover_apos_1_ano</th>\n",
              "    </tr>\n",
              "  </thead>\n",
              "  <tbody>\n",
              "    <tr>\n",
              "      <th>0</th>\n",
              "      <td>SIM</td>\n",
              "    </tr>\n",
              "    <tr>\n",
              "      <th>1</th>\n",
              "      <td>NAO</td>\n",
              "    </tr>\n",
              "    <tr>\n",
              "      <th>2</th>\n",
              "      <td>NAO</td>\n",
              "    </tr>\n",
              "    <tr>\n",
              "      <th>3</th>\n",
              "      <td>NAO</td>\n",
              "    </tr>\n",
              "    <tr>\n",
              "      <th>4</th>\n",
              "      <td>NAO</td>\n",
              "    </tr>\n",
              "    <tr>\n",
              "      <th>...</th>\n",
              "      <td>...</td>\n",
              "    </tr>\n",
              "    <tr>\n",
              "      <th>14995</th>\n",
              "      <td>NAO</td>\n",
              "    </tr>\n",
              "    <tr>\n",
              "      <th>14996</th>\n",
              "      <td>SIM</td>\n",
              "    </tr>\n",
              "    <tr>\n",
              "      <th>14997</th>\n",
              "      <td>SIM</td>\n",
              "    </tr>\n",
              "    <tr>\n",
              "      <th>14998</th>\n",
              "      <td>NAO</td>\n",
              "    </tr>\n",
              "    <tr>\n",
              "      <th>14999</th>\n",
              "      <td>NAO</td>\n",
              "    </tr>\n",
              "  </tbody>\n",
              "</table>\n",
              "<p>15000 rows × 1 columns</p>\n",
              "</div>\n",
              "      <button class=\"colab-df-convert\" onclick=\"convertToInteractive('df-b1bca67d-d875-45c9-93a7-734ddb427b73')\"\n",
              "              title=\"Convert this dataframe to an interactive table.\"\n",
              "              style=\"display:none;\">\n",
              "        \n",
              "  <svg xmlns=\"http://www.w3.org/2000/svg\" height=\"24px\"viewBox=\"0 0 24 24\"\n",
              "       width=\"24px\">\n",
              "    <path d=\"M0 0h24v24H0V0z\" fill=\"none\"/>\n",
              "    <path d=\"M18.56 5.44l.94 2.06.94-2.06 2.06-.94-2.06-.94-.94-2.06-.94 2.06-2.06.94zm-11 1L8.5 8.5l.94-2.06 2.06-.94-2.06-.94L8.5 2.5l-.94 2.06-2.06.94zm10 10l.94 2.06.94-2.06 2.06-.94-2.06-.94-.94-2.06-.94 2.06-2.06.94z\"/><path d=\"M17.41 7.96l-1.37-1.37c-.4-.4-.92-.59-1.43-.59-.52 0-1.04.2-1.43.59L10.3 9.45l-7.72 7.72c-.78.78-.78 2.05 0 2.83L4 21.41c.39.39.9.59 1.41.59.51 0 1.02-.2 1.41-.59l7.78-7.78 2.81-2.81c.8-.78.8-2.07 0-2.86zM5.41 20L4 18.59l7.72-7.72 1.47 1.35L5.41 20z\"/>\n",
              "  </svg>\n",
              "      </button>\n",
              "      \n",
              "  <style>\n",
              "    .colab-df-container {\n",
              "      display:flex;\n",
              "      flex-wrap:wrap;\n",
              "      gap: 12px;\n",
              "    }\n",
              "\n",
              "    .colab-df-convert {\n",
              "      background-color: #E8F0FE;\n",
              "      border: none;\n",
              "      border-radius: 50%;\n",
              "      cursor: pointer;\n",
              "      display: none;\n",
              "      fill: #1967D2;\n",
              "      height: 32px;\n",
              "      padding: 0 0 0 0;\n",
              "      width: 32px;\n",
              "    }\n",
              "\n",
              "    .colab-df-convert:hover {\n",
              "      background-color: #E2EBFA;\n",
              "      box-shadow: 0px 1px 2px rgba(60, 64, 67, 0.3), 0px 1px 3px 1px rgba(60, 64, 67, 0.15);\n",
              "      fill: #174EA6;\n",
              "    }\n",
              "\n",
              "    [theme=dark] .colab-df-convert {\n",
              "      background-color: #3B4455;\n",
              "      fill: #D2E3FC;\n",
              "    }\n",
              "\n",
              "    [theme=dark] .colab-df-convert:hover {\n",
              "      background-color: #434B5C;\n",
              "      box-shadow: 0px 1px 3px 1px rgba(0, 0, 0, 0.15);\n",
              "      filter: drop-shadow(0px 1px 2px rgba(0, 0, 0, 0.3));\n",
              "      fill: #FFFFFF;\n",
              "    }\n",
              "  </style>\n",
              "\n",
              "      <script>\n",
              "        const buttonEl =\n",
              "          document.querySelector('#df-b1bca67d-d875-45c9-93a7-734ddb427b73 button.colab-df-convert');\n",
              "        buttonEl.style.display =\n",
              "          google.colab.kernel.accessAllowed ? 'block' : 'none';\n",
              "\n",
              "        async function convertToInteractive(key) {\n",
              "          const element = document.querySelector('#df-b1bca67d-d875-45c9-93a7-734ddb427b73');\n",
              "          const dataTable =\n",
              "            await google.colab.kernel.invokeFunction('convertToInteractive',\n",
              "                                                     [key], {});\n",
              "          if (!dataTable) return;\n",
              "\n",
              "          const docLinkHtml = 'Like what you see? Visit the ' +\n",
              "            '<a target=\"_blank\" href=https://colab.research.google.com/notebooks/data_table.ipynb>data table notebook</a>'\n",
              "            + ' to learn more about interactive tables.';\n",
              "          element.innerHTML = '';\n",
              "          dataTable['output_type'] = 'display_data';\n",
              "          await google.colab.output.renderOutput(dataTable, element);\n",
              "          const docLink = document.createElement('div');\n",
              "          docLink.innerHTML = docLinkHtml;\n",
              "          element.appendChild(docLink);\n",
              "        }\n",
              "      </script>\n",
              "    </div>\n",
              "  </div>\n",
              "  "
            ]
          },
          "metadata": {},
          "execution_count": 41
        }
      ]
    },
    {
      "cell_type": "code",
      "source": [
        "subm.to_csv('/content/drive/My Drive/competição flai nova/submissão1.csv', index = False)"
      ],
      "metadata": {
        "id": "BfThT3ASmaUx"
      },
      "execution_count": null,
      "outputs": []
    },
    {
      "cell_type": "markdown",
      "source": [
        "* Com equilíbrio das classes o resultado na competição passou de 0.798 para 0.80124.\n",
        "\n",
        "\n"
      ],
      "metadata": {
        "id": "Vsg4LMm232UE"
      }
    },
    {
      "cell_type": "code",
      "source": [
        ""
      ],
      "metadata": {
        "id": "0arpf9Hgoe6g"
      },
      "execution_count": null,
      "outputs": []
    }
  ],
  "metadata": {
    "colab": {
      "collapsed_sections": [],
      "name": "Competição parte 4.ipynb",
      "provenance": [],
      "toc_visible": true
    },
    "kernelspec": {
      "display_name": "Python 3",
      "name": "python3"
    },
    "language_info": {
      "name": "python"
    }
  },
  "nbformat": 4,
  "nbformat_minor": 0
}