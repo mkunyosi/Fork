{
  "cells": [
    {
      "cell_type": "code",
      "execution_count": null,
      "metadata": {
        "id": "dD5omxBGtPxs"
      },
      "outputs": [],
      "source": [
        ""
      ]
    },
    {
      "cell_type": "markdown",
      "source": [
        "# Descrição do problema.\n",
        " \n",
        "* Objetivo principal deste projeto será a criação de um modelo de machine learning para prever se uma pessoa que foi contratada por uma determinada empresa vai ficar mais de um ano trabalhando nela ou não.\n",
        " \n",
        "* Os dados foram disponibilizados pela comunidade Flai. Onde eles são compostos pelas seguintes variáveis:\n",
        " \n",
        " * **func_sexo:** Sexo da pessoa.\n",
        " * **func_idade:** Idade do usuário.\n",
        " * **func_racacor:** Raça da pessoa segundo a classificação do IBGE.\n",
        " * **func_escolaridade:** Escolaridade das pessoas.\n",
        " * **func_uf:** Estado da pessoa\n",
        " * **func_deficiencia:** Se a pessoa é deficiente ou não.\n",
        " * **empresa_porte:** Número de funcionários da empresa.\n",
        " * **empresa_setor:** Setor que a empresa trabalha.\n",
        " * **contrato_horastrabalho:** Quantidade de horas por semana de trabalho.\n",
        " * **contrato_salario:** Valor do salário da pessoa na empresa.\n",
        " * **turnover_apos_1_ano:** Se a pessoa trabalhou lá mais de um ano ou não.\n",
        " \n",
        " \n",
        " \n",
        " \n",
        " \n"
      ],
      "metadata": {
        "id": "gXks9GpnD_3C"
      }
    },
    {
      "cell_type": "markdown",
      "source": [
        "# Objetivo"
      ],
      "metadata": {
        "id": "PjEonRXYCcob"
      }
    },
    {
      "cell_type": "markdown",
      "source": [
        "* Este notebook tem como finalidade conhecer as características de cada variável e realizar o tratamento dos dados.\n"
      ],
      "metadata": {
        "id": "60YfB4xmCfUq"
      }
    },
    {
      "cell_type": "markdown",
      "source": [
        "# Metodologia.\n",
        " \n",
        "* As características de cada variável será conhecida através de plots como o histograma, linearidade e etc.\n",
        " \n",
        "* Para verificar se os tratamentos que foram feitos surtiuram algum efeito, será adotado a seguinte estratégia:\n",
        " \n",
        " * **Primeiro passo:** Adotando um classificador padrão, no caso foi escolhida a Floresta aleatória.\n",
        " * **Segundo passo:** Treinar o modelo e avaliar o seu desempenho pela validação cruzada.\n",
        " * **Terceiro passo:** Tratar cada variável individualmente e ver se o desempenho do modelo padrão melhorou. Caso não aconteça nenhuma melhora o tratamento que foi feito será descartado.\n",
        " \n",
        " \n"
      ],
      "metadata": {
        "id": "m89wSe26H16W"
      }
    },
    {
      "cell_type": "markdown",
      "source": [
        "# Instalando bibliotecas\n",
        "\n",
        "\n",
        "\n"
      ],
      "metadata": {
        "id": "fV0Wc8YpKGxA"
      }
    },
    {
      "cell_type": "code",
      "source": [
        "!pip install category_encoders"
      ],
      "metadata": {
        "colab": {
          "base_uri": "https://localhost:8080/"
        },
        "id": "jDRfKZaSKK0x",
        "outputId": "e6b7a4ef-0eed-4c40-d770-25b8763b6cb5"
      },
      "execution_count": null,
      "outputs": [
        {
          "output_type": "stream",
          "name": "stdout",
          "text": [
            "Requirement already satisfied: category_encoders in /usr/local/lib/python3.7/dist-packages (2.4.0)\n",
            "Requirement already satisfied: pandas>=0.21.1 in /usr/local/lib/python3.7/dist-packages (from category_encoders) (1.3.5)\n",
            "Requirement already satisfied: numpy>=1.14.0 in /usr/local/lib/python3.7/dist-packages (from category_encoders) (1.21.5)\n",
            "Requirement already satisfied: patsy>=0.5.1 in /usr/local/lib/python3.7/dist-packages (from category_encoders) (0.5.2)\n",
            "Requirement already satisfied: statsmodels>=0.9.0 in /usr/local/lib/python3.7/dist-packages (from category_encoders) (0.10.2)\n",
            "Requirement already satisfied: scikit-learn>=0.20.0 in /usr/local/lib/python3.7/dist-packages (from category_encoders) (1.0.2)\n",
            "Requirement already satisfied: scipy>=1.0.0 in /usr/local/lib/python3.7/dist-packages (from category_encoders) (1.4.1)\n",
            "Requirement already satisfied: pytz>=2017.3 in /usr/local/lib/python3.7/dist-packages (from pandas>=0.21.1->category_encoders) (2018.9)\n",
            "Requirement already satisfied: python-dateutil>=2.7.3 in /usr/local/lib/python3.7/dist-packages (from pandas>=0.21.1->category_encoders) (2.8.2)\n",
            "Requirement already satisfied: six in /usr/local/lib/python3.7/dist-packages (from patsy>=0.5.1->category_encoders) (1.15.0)\n",
            "Requirement already satisfied: threadpoolctl>=2.0.0 in /usr/local/lib/python3.7/dist-packages (from scikit-learn>=0.20.0->category_encoders) (3.1.0)\n",
            "Requirement already satisfied: joblib>=0.11 in /usr/local/lib/python3.7/dist-packages (from scikit-learn>=0.20.0->category_encoders) (1.1.0)\n"
          ]
        }
      ]
    },
    {
      "cell_type": "markdown",
      "source": [
        "#Bilbiotecas"
      ],
      "metadata": {
        "id": "eji2Xi2nJxsU"
      }
    },
    {
      "cell_type": "code",
      "source": [
        "import numpy as np\n",
        "import pandas as pd \n",
        "import seaborn as sns\n",
        "import matplotlib.pyplot as plt\n",
        "%matplotlib inline\n",
        "from google.colab import drive\n",
        "drive.mount('/content/drive')\n",
        "from sklearn.preprocessing import LabelEncoder\n",
        "from sklearn.model_selection import KFold\n",
        "from sklearn.ensemble import RandomForestClassifier \n",
        "from sklearn.metrics import f1_score\n",
        "from category_encoders import CountEncoder\n",
        "from category_encoders import TargetEncoder\n",
        "import statistics"
      ],
      "metadata": {
        "colab": {
          "base_uri": "https://localhost:8080/"
        },
        "id": "cHPu6h4TJ0SM",
        "outputId": "eb44a0a7-18cf-40ed-d0a9-2d65ffca62c9"
      },
      "execution_count": null,
      "outputs": [
        {
          "output_type": "stream",
          "name": "stdout",
          "text": [
            "Drive already mounted at /content/drive; to attempt to forcibly remount, call drive.mount(\"/content/drive\", force_remount=True).\n"
          ]
        },
        {
          "output_type": "stream",
          "name": "stderr",
          "text": [
            "/usr/local/lib/python3.7/dist-packages/statsmodels/tools/_testing.py:19: FutureWarning: pandas.util.testing is deprecated. Use the functions in the public API at pandas.testing instead.\n",
            "  import pandas.util.testing as tm\n"
          ]
        }
      ]
    },
    {
      "cell_type": "markdown",
      "source": [
        "# Funções"
      ],
      "metadata": {
        "id": "2AXIS-X5J1tQ"
      }
    },
    {
      "cell_type": "code",
      "source": [
        "def encoder_var(df,flag):\n",
        "  if flag == 1:\n",
        "    ind = df.columns[df.dtypes == 'object']\n",
        "  if flag == 0:\n",
        "     ind = df.columns[df.dtypes == 'category']\n",
        "\n",
        "  for i in range(len(ind)):\n",
        "    enc = LabelEncoder()\n",
        "    inteiros = enc.fit_transform(df[ind[i]])\n",
        "    df[ind[i]] = inteiros\n",
        "\n",
        "  return df\n",
        "  \n",
        "\n",
        "def resultados(X_train,y_train,linhas_treino,linhas_valid,flag,coluna,suport):\n",
        "  if suport == 'Dataframe':\n",
        "    X_t, X_v = X_train.loc[linhas_treino], X_train.loc[linhas_valid]\n",
        "    y_t, y_v = y_train.loc[linhas_treino], y_train.loc[linhas_valid]\n",
        "\n",
        "  if suport == 'array':\n",
        "    X_t, X_v = X_train[linhas_treino], X_train[linhas_valid]\n",
        "    y_t, y_v = y_train[linhas_treino], y_train[linhas_valid]\n",
        "\n",
        "  if flag == 'CountEncoder':\n",
        "      cenc = CountEncoder(normalize=False)\n",
        "      X_t[coluna] = cenc.fit_transform(X_t[coluna],y_t)\n",
        "      X_v[coluna] = cenc.transform(X_v[coluna])\n",
        "\n",
        "  if flag == 'TargetEncoder':\n",
        "      tenc = TargetEncoder()\n",
        "      X_t[coluna] = tenc.fit_transform(X_t[coluna],y_t)\n",
        "      X_v[coluna] = tenc.transform(X_v[coluna])\n",
        "\n",
        "  model = RandomForestClassifier(n_estimators=100,random_state=10)\n",
        "  model = model.fit(X_t, y_t)\n",
        "  prf = model.predict_proba(X_v)[:,1]\n",
        "  prf_ = (prf > 0.5).astype(int)\n",
        "\n",
        "  acerto_v = f1_score(y_v, prf_)\n",
        "\n",
        "  print('f1_score',np.format_float_positional(acerto_v,5))\n",
        "  return acerto_v\n",
        "\n",
        "\n",
        "\n",
        "\n",
        "def enconder_label(col,df):\n",
        "  for i in range(len(col)):\n",
        "    enc = LabelEncoder()\n",
        "    inteiros = enc.fit_transform(df[col[i]])\n",
        "    df[col[i]] = inteiros\n",
        "\n",
        "  return df\n"
      ],
      "metadata": {
        "id": "YXB0Hk0rNXaY"
      },
      "execution_count": null,
      "outputs": []
    },
    {
      "cell_type": "markdown",
      "source": [
        "# Importando os dados\n",
        "\n",
        "\n"
      ],
      "metadata": {
        "id": "Xa_cSgegNjk3"
      }
    },
    {
      "cell_type": "code",
      "source": [
        "df = pd.read_csv('/content/drive/My Drive/competição flai nova/treino.csv',encoding = \"UTF-8\", sep = \";\",decimal = ',',dayfirst = True)"
      ],
      "metadata": {
        "id": "lcv5FGelNXdo"
      },
      "execution_count": null,
      "outputs": []
    },
    {
      "cell_type": "markdown",
      "source": [
        "# Informações básicas dos dados."
      ],
      "metadata": {
        "id": "-9Uszj_0NzYq"
      }
    },
    {
      "cell_type": "code",
      "source": [
        "df.head() # olhando o dataflame"
      ],
      "metadata": {
        "id": "7whiEU9-NXg9",
        "colab": {
          "base_uri": "https://localhost:8080/",
          "height": 288
        },
        "outputId": "553495b6-4031-4a8d-ca60-4f8db7f95fa2"
      },
      "execution_count": null,
      "outputs": [
        {
          "output_type": "execute_result",
          "data": {
            "text/plain": [
              "   func_sexo  func_idade    func_racacor func_escolaridade func_uf  \\\n",
              "0  MASCULINO          24  AMARELA-BRANCA    MEDIO COMPLETO      RN   \n",
              "1  MASCULINO          24        SEM INFO    MEDIO COMPLETO      BA   \n",
              "2   FEMININO          25     PRETA-PARDA    MEDIO COMPLETO      SE   \n",
              "3  MASCULINO          54     PRETA-PARDA    MEDIO COMPLETO      PE   \n",
              "4  MASCULINO          40     PRETA-PARDA    MEDIO COMPLETO      BA   \n",
              "\n",
              "  func_deficiencia empresa_porte empresa_setor  contrato_horastrabalho  \\\n",
              "0              NAO    DE 10 A 19      Serviços                      44   \n",
              "1              NAO         ATE 4      Comércio                      44   \n",
              "2              NAO    DE 20 A 49      Comércio                      44   \n",
              "3              NAO    DE 20 A 49      Comércio                      44   \n",
              "4              NAO    DE 20 A 49      Comércio                       0   \n",
              "\n",
              "   contrato_salario turnover_apos_1_ano  \n",
              "0           1750.65                 SIM  \n",
              "1           1002.30                 NAO  \n",
              "2           1370.14                 NAO  \n",
              "3           1854.68                 SIM  \n",
              "4           1126.23                 NAO  "
            ],
            "text/html": [
              "\n",
              "  <div id=\"df-674b5e44-b0c2-4072-99b6-c4b986aebfc6\">\n",
              "    <div class=\"colab-df-container\">\n",
              "      <div>\n",
              "<style scoped>\n",
              "    .dataframe tbody tr th:only-of-type {\n",
              "        vertical-align: middle;\n",
              "    }\n",
              "\n",
              "    .dataframe tbody tr th {\n",
              "        vertical-align: top;\n",
              "    }\n",
              "\n",
              "    .dataframe thead th {\n",
              "        text-align: right;\n",
              "    }\n",
              "</style>\n",
              "<table border=\"1\" class=\"dataframe\">\n",
              "  <thead>\n",
              "    <tr style=\"text-align: right;\">\n",
              "      <th></th>\n",
              "      <th>func_sexo</th>\n",
              "      <th>func_idade</th>\n",
              "      <th>func_racacor</th>\n",
              "      <th>func_escolaridade</th>\n",
              "      <th>func_uf</th>\n",
              "      <th>func_deficiencia</th>\n",
              "      <th>empresa_porte</th>\n",
              "      <th>empresa_setor</th>\n",
              "      <th>contrato_horastrabalho</th>\n",
              "      <th>contrato_salario</th>\n",
              "      <th>turnover_apos_1_ano</th>\n",
              "    </tr>\n",
              "  </thead>\n",
              "  <tbody>\n",
              "    <tr>\n",
              "      <th>0</th>\n",
              "      <td>MASCULINO</td>\n",
              "      <td>24</td>\n",
              "      <td>AMARELA-BRANCA</td>\n",
              "      <td>MEDIO COMPLETO</td>\n",
              "      <td>RN</td>\n",
              "      <td>NAO</td>\n",
              "      <td>DE 10 A 19</td>\n",
              "      <td>Serviços</td>\n",
              "      <td>44</td>\n",
              "      <td>1750.65</td>\n",
              "      <td>SIM</td>\n",
              "    </tr>\n",
              "    <tr>\n",
              "      <th>1</th>\n",
              "      <td>MASCULINO</td>\n",
              "      <td>24</td>\n",
              "      <td>SEM INFO</td>\n",
              "      <td>MEDIO COMPLETO</td>\n",
              "      <td>BA</td>\n",
              "      <td>NAO</td>\n",
              "      <td>ATE 4</td>\n",
              "      <td>Comércio</td>\n",
              "      <td>44</td>\n",
              "      <td>1002.30</td>\n",
              "      <td>NAO</td>\n",
              "    </tr>\n",
              "    <tr>\n",
              "      <th>2</th>\n",
              "      <td>FEMININO</td>\n",
              "      <td>25</td>\n",
              "      <td>PRETA-PARDA</td>\n",
              "      <td>MEDIO COMPLETO</td>\n",
              "      <td>SE</td>\n",
              "      <td>NAO</td>\n",
              "      <td>DE 20 A 49</td>\n",
              "      <td>Comércio</td>\n",
              "      <td>44</td>\n",
              "      <td>1370.14</td>\n",
              "      <td>NAO</td>\n",
              "    </tr>\n",
              "    <tr>\n",
              "      <th>3</th>\n",
              "      <td>MASCULINO</td>\n",
              "      <td>54</td>\n",
              "      <td>PRETA-PARDA</td>\n",
              "      <td>MEDIO COMPLETO</td>\n",
              "      <td>PE</td>\n",
              "      <td>NAO</td>\n",
              "      <td>DE 20 A 49</td>\n",
              "      <td>Comércio</td>\n",
              "      <td>44</td>\n",
              "      <td>1854.68</td>\n",
              "      <td>SIM</td>\n",
              "    </tr>\n",
              "    <tr>\n",
              "      <th>4</th>\n",
              "      <td>MASCULINO</td>\n",
              "      <td>40</td>\n",
              "      <td>PRETA-PARDA</td>\n",
              "      <td>MEDIO COMPLETO</td>\n",
              "      <td>BA</td>\n",
              "      <td>NAO</td>\n",
              "      <td>DE 20 A 49</td>\n",
              "      <td>Comércio</td>\n",
              "      <td>0</td>\n",
              "      <td>1126.23</td>\n",
              "      <td>NAO</td>\n",
              "    </tr>\n",
              "  </tbody>\n",
              "</table>\n",
              "</div>\n",
              "      <button class=\"colab-df-convert\" onclick=\"convertToInteractive('df-674b5e44-b0c2-4072-99b6-c4b986aebfc6')\"\n",
              "              title=\"Convert this dataframe to an interactive table.\"\n",
              "              style=\"display:none;\">\n",
              "        \n",
              "  <svg xmlns=\"http://www.w3.org/2000/svg\" height=\"24px\"viewBox=\"0 0 24 24\"\n",
              "       width=\"24px\">\n",
              "    <path d=\"M0 0h24v24H0V0z\" fill=\"none\"/>\n",
              "    <path d=\"M18.56 5.44l.94 2.06.94-2.06 2.06-.94-2.06-.94-.94-2.06-.94 2.06-2.06.94zm-11 1L8.5 8.5l.94-2.06 2.06-.94-2.06-.94L8.5 2.5l-.94 2.06-2.06.94zm10 10l.94 2.06.94-2.06 2.06-.94-2.06-.94-.94-2.06-.94 2.06-2.06.94z\"/><path d=\"M17.41 7.96l-1.37-1.37c-.4-.4-.92-.59-1.43-.59-.52 0-1.04.2-1.43.59L10.3 9.45l-7.72 7.72c-.78.78-.78 2.05 0 2.83L4 21.41c.39.39.9.59 1.41.59.51 0 1.02-.2 1.41-.59l7.78-7.78 2.81-2.81c.8-.78.8-2.07 0-2.86zM5.41 20L4 18.59l7.72-7.72 1.47 1.35L5.41 20z\"/>\n",
              "  </svg>\n",
              "      </button>\n",
              "      \n",
              "  <style>\n",
              "    .colab-df-container {\n",
              "      display:flex;\n",
              "      flex-wrap:wrap;\n",
              "      gap: 12px;\n",
              "    }\n",
              "\n",
              "    .colab-df-convert {\n",
              "      background-color: #E8F0FE;\n",
              "      border: none;\n",
              "      border-radius: 50%;\n",
              "      cursor: pointer;\n",
              "      display: none;\n",
              "      fill: #1967D2;\n",
              "      height: 32px;\n",
              "      padding: 0 0 0 0;\n",
              "      width: 32px;\n",
              "    }\n",
              "\n",
              "    .colab-df-convert:hover {\n",
              "      background-color: #E2EBFA;\n",
              "      box-shadow: 0px 1px 2px rgba(60, 64, 67, 0.3), 0px 1px 3px 1px rgba(60, 64, 67, 0.15);\n",
              "      fill: #174EA6;\n",
              "    }\n",
              "\n",
              "    [theme=dark] .colab-df-convert {\n",
              "      background-color: #3B4455;\n",
              "      fill: #D2E3FC;\n",
              "    }\n",
              "\n",
              "    [theme=dark] .colab-df-convert:hover {\n",
              "      background-color: #434B5C;\n",
              "      box-shadow: 0px 1px 3px 1px rgba(0, 0, 0, 0.15);\n",
              "      filter: drop-shadow(0px 1px 2px rgba(0, 0, 0, 0.3));\n",
              "      fill: #FFFFFF;\n",
              "    }\n",
              "  </style>\n",
              "\n",
              "      <script>\n",
              "        const buttonEl =\n",
              "          document.querySelector('#df-674b5e44-b0c2-4072-99b6-c4b986aebfc6 button.colab-df-convert');\n",
              "        buttonEl.style.display =\n",
              "          google.colab.kernel.accessAllowed ? 'block' : 'none';\n",
              "\n",
              "        async function convertToInteractive(key) {\n",
              "          const element = document.querySelector('#df-674b5e44-b0c2-4072-99b6-c4b986aebfc6');\n",
              "          const dataTable =\n",
              "            await google.colab.kernel.invokeFunction('convertToInteractive',\n",
              "                                                     [key], {});\n",
              "          if (!dataTable) return;\n",
              "\n",
              "          const docLinkHtml = 'Like what you see? Visit the ' +\n",
              "            '<a target=\"_blank\" href=https://colab.research.google.com/notebooks/data_table.ipynb>data table notebook</a>'\n",
              "            + ' to learn more about interactive tables.';\n",
              "          element.innerHTML = '';\n",
              "          dataTable['output_type'] = 'display_data';\n",
              "          await google.colab.output.renderOutput(dataTable, element);\n",
              "          const docLink = document.createElement('div');\n",
              "          docLink.innerHTML = docLinkHtml;\n",
              "          element.appendChild(docLink);\n",
              "        }\n",
              "      </script>\n",
              "    </div>\n",
              "  </div>\n",
              "  "
            ]
          },
          "metadata": {},
          "execution_count": 5
        }
      ]
    },
    {
      "cell_type": "code",
      "source": [
        "# tamanho do dataset\n",
        "print('Número de linhas',df.shape[0])\n",
        "print('Número de colunas',df.shape[0])"
      ],
      "metadata": {
        "colab": {
          "base_uri": "https://localhost:8080/"
        },
        "id": "6ZHydWZvOvMW",
        "outputId": "42f716f5-7b60-4e21-dd18-3aab173c1ec6"
      },
      "execution_count": null,
      "outputs": [
        {
          "output_type": "stream",
          "name": "stdout",
          "text": [
            "Número de linhas 15000\n",
            "Número de colunas 15000\n"
          ]
        }
      ]
    },
    {
      "cell_type": "code",
      "source": [
        "# Quantidade de dados nulos\n",
        "df.isnull().sum(axis =0)"
      ],
      "metadata": {
        "id": "R3JqZoc2NXkF",
        "colab": {
          "base_uri": "https://localhost:8080/"
        },
        "outputId": "69da6fbe-adbd-4d2e-c98d-0200eec1b356"
      },
      "execution_count": null,
      "outputs": [
        {
          "output_type": "execute_result",
          "data": {
            "text/plain": [
              "func_sexo                 0\n",
              "func_idade                0\n",
              "func_racacor              0\n",
              "func_escolaridade         0\n",
              "func_uf                   0\n",
              "func_deficiencia          0\n",
              "empresa_porte             0\n",
              "empresa_setor             0\n",
              "contrato_horastrabalho    0\n",
              "contrato_salario          0\n",
              "turnover_apos_1_ano       0\n",
              "dtype: int64"
            ]
          },
          "metadata": {},
          "execution_count": 7
        }
      ]
    },
    {
      "cell_type": "code",
      "source": [
        "print('Quantidade de dados unicos')\n",
        "for i in range(len(df.columns)):\n",
        "  print(df.columns[i],':',len(df[df.columns[i]].unique()))"
      ],
      "metadata": {
        "id": "-Gx_8rceNXnW",
        "colab": {
          "base_uri": "https://localhost:8080/"
        },
        "outputId": "1269320d-c31a-46fa-c699-b037683f068f"
      },
      "execution_count": null,
      "outputs": [
        {
          "output_type": "stream",
          "name": "stdout",
          "text": [
            "Quantidade de dados unicos\n",
            "func_sexo : 2\n",
            "func_idade : 62\n",
            "func_racacor : 4\n",
            "func_escolaridade : 5\n",
            "func_uf : 9\n",
            "func_deficiencia : 2\n",
            "empresa_porte : 9\n",
            "empresa_setor : 6\n",
            "contrato_horastrabalho : 45\n",
            "contrato_salario : 12997\n",
            "turnover_apos_1_ano : 2\n"
          ]
        }
      ]
    },
    {
      "cell_type": "code",
      "source": [
        "print('Tipos das colunas')\n",
        "print(df.dtypes,'\\n')"
      ],
      "metadata": {
        "id": "fKcKtq5TNXqS",
        "colab": {
          "base_uri": "https://localhost:8080/"
        },
        "outputId": "6de12c4b-87ac-4b7f-8a29-c2121c70fa30"
      },
      "execution_count": null,
      "outputs": [
        {
          "output_type": "stream",
          "name": "stdout",
          "text": [
            "Tipos das colunas\n",
            "func_sexo                  object\n",
            "func_idade                  int64\n",
            "func_racacor               object\n",
            "func_escolaridade          object\n",
            "func_uf                    object\n",
            "func_deficiencia           object\n",
            "empresa_porte              object\n",
            "empresa_setor              object\n",
            "contrato_horastrabalho      int64\n",
            "contrato_salario          float64\n",
            "turnover_apos_1_ano        object\n",
            "dtype: object \n",
            "\n"
          ]
        }
      ]
    },
    {
      "cell_type": "markdown",
      "source": [
        "# Distribuições dos dados"
      ],
      "metadata": {
        "id": "CEA626miO4Z5"
      }
    },
    {
      "cell_type": "code",
      "source": [
        "plt.rc('ytick', labelsize=14)\n",
        "plt.rc('xtick', labelsize=14)\n",
        "plt.figure(figsize=(8,6))\n",
        "plt.title('Sexo',fontsize= 18, fontweight= 'bold')\n",
        "sns.countplot(x = 'func_sexo',data = df)\n",
        "\n",
        "plt.xlabel('Sexo', fontsize= 16, fontweight= 'bold')\n",
        "plt.ylabel('Contagem', fontsize= 16, fontweight= 'bold')\n",
        "plt.show()\n",
        "\n",
        "print('\\n')\n",
        "print('Porcetagem das classes no dataset')\n",
        "df['func_sexo'].value_counts()/df.shape[0]"
      ],
      "metadata": {
        "id": "jJCcQnxRNXtl",
        "colab": {
          "base_uri": "https://localhost:8080/",
          "height": 521
        },
        "outputId": "df9100d0-e3f9-44a2-b9de-17b09a16f9f1"
      },
      "execution_count": null,
      "outputs": [
        {
          "output_type": "display_data",
          "data": {
            "text/plain": [
              "<Figure size 576x432 with 1 Axes>"
            ],
            "image/png": "[encoded data removed]"
          },
          "metadata": {
            "needs_background": "light"
          }
        },
        {
          "output_type": "stream",
          "name": "stdout",
          "text": [
            "\n",
            "\n",
            "Porcetagem das classes no dataset\n"
          ]
        },
        {
          "output_type": "execute_result",
          "data": {
            "text/plain": [
              "MASCULINO    0.595\n",
              "FEMININO     0.405\n",
              "Name: func_sexo, dtype: float64"
            ]
          },
          "metadata": {},
          "execution_count": 10
        }
      ]
    },
    {
      "cell_type": "code",
      "source": [
        "plt.rc('ytick', labelsize=14)\n",
        "plt.rc('xtick', labelsize=14)\n",
        "plt.figure(figsize=(8,6))\n",
        "plt.title('Idade',fontsize= 18, fontweight= 'bold')\n",
        "sns.histplot(x='func_idade',data=df)\n",
        "plt.xlabel('Idade', fontsize= 16, fontweight= 'bold')\n",
        "plt.ylabel('Contagem', fontsize= 16, fontweight= 'bold')\n",
        "plt.show()\n",
        "\n",
        "print(\"Descrição:\")\n",
        "print(\"Idade minima   :\", df['func_idade'].min())\n",
        "print(\"Idade minima   :\", df['func_idade'].max())\n",
        "print(\"Idade média    :\", np.round(df['func_idade'].mean()))\n",
        "print(\"Desvioo padrão :\", np.round(df['func_idade'].std()))\n",
        "print('Moda           :',statistics.mode(df['func_idade']))"
      ],
      "metadata": {
        "colab": {
          "base_uri": "https://localhost:8080/",
          "height": 521
        },
        "id": "lDfYV65WPSp_",
        "outputId": "3763f754-8a06-4195-c0ae-6f1681ac1336"
      },
      "execution_count": null,
      "outputs": [
        {
          "output_type": "display_data",
          "data": {
            "text/plain": [
              "<Figure size 576x432 with 1 Axes>"
            ],
            "image/png": "[encoded data removed]"
          },
          "metadata": {
            "needs_background": "light"
          }
        },
        {
          "output_type": "stream",
          "name": "stdout",
          "text": [
            "Descrição:\n",
            "Idade minima   : 16\n",
            "Idade minima   : 82\n",
            "Idade média    : 33.0\n",
            "Desvioo padrão : 10.0\n",
            "Moda           : 26\n"
          ]
        }
      ]
    },
    {
      "cell_type": "markdown",
      "source": [
        "* A distribuição é assimétrica positiva e com uma grande quantidade de outliers depois de 60 anos.\n",
        " \n",
        "* Uma transformação simples de log pode melhorar essa dispersão."
      ],
      "metadata": {
        "id": "xsMP86oAtdNH"
      }
    },
    {
      "cell_type": "code",
      "source": [
        "df['func_idade_log'] = np.log(df['func_idade']) # Aplicando ln nos dados "
      ],
      "metadata": {
        "id": "rmKA7XLFtXre"
      },
      "execution_count": null,
      "outputs": []
    },
    {
      "cell_type": "code",
      "source": [
        "plt.rc('ytick', labelsize=14)\n",
        "plt.rc('xtick', labelsize=14)\n",
        "plt.figure(figsize=(8,6))\n",
        "plt.title('Idade em log',fontsize= 18, fontweight= 'bold')\n",
        "sns.histplot(x='func_idade_log',data=df)\n",
        "plt.xlabel('Idade em log', fontsize= 16, fontweight= 'bold')\n",
        "plt.ylabel('Contagem', fontsize= 16, fontweight= 'bold')\n",
        "plt.show()\n"
      ],
      "metadata": {
        "colab": {
          "base_uri": "https://localhost:8080/",
          "height": 417
        },
        "id": "tU2YmuHXuAqw",
        "outputId": "9a5886dc-327c-4514-edaf-0834624e92a1"
      },
      "execution_count": null,
      "outputs": [
        {
          "output_type": "display_data",
          "data": {
            "text/plain": [
              "<Figure size 576x432 with 1 Axes>"
            ],
            "image/png": "[encoded data removed]"
          },
          "metadata": {
            "needs_background": "light"
          }
        }
      ]
    },
    {
      "cell_type": "code",
      "source": [
        "\n",
        "plt.rc('ytick', labelsize=14)\n",
        "plt.rc('xtick', labelsize=14)\n",
        "plt.figure(figsize=(24,8))\n",
        "plt.title('Escolaridade das pessoas',fontsize= 18, fontweight= 'bold')\n",
        "sns.countplot(x = 'func_escolaridade',data = df)\n",
        "\n",
        "plt.xlabel('Escolaridade', fontsize= 16, fontweight= 'bold')\n",
        "plt.ylabel('Contagem', fontsize= 16, fontweight= 'bold')\n",
        "plt.show()\n",
        "\n",
        "print('\\n')\n",
        "print('Porcetagem das classes no dataset')\n",
        "df['func_escolaridade'].value_counts()/df.shape[0]"
      ],
      "metadata": {
        "id": "ViqWG2NVNXwi",
        "colab": {
          "base_uri": "https://localhost:8080/",
          "height": 595
        },
        "outputId": "7441dffe-87de-4c00-c579-444391b46bb6"
      },
      "execution_count": null,
      "outputs": [
        {
          "output_type": "display_data",
          "data": {
            "text/plain": [
              "<Figure size 1728x576 with 1 Axes>"
            ],
            "image/png": "[encoded data removed]"
          },
          "metadata": {
            "needs_background": "light"
          }
        },
        {
          "output_type": "stream",
          "name": "stdout",
          "text": [
            "\n",
            "\n",
            "Porcetagem das classes no dataset\n"
          ]
        },
        {
          "output_type": "execute_result",
          "data": {
            "text/plain": [
              "MEDIO COMPLETO                    0.607733\n",
              "SUPERIOR_COMPLETO                 0.173467\n",
              "FUND_COMPLETO-MEDIO_INCOMPLETO    0.087733\n",
              "ANALFABETO-FUND_INCOMPLETO        0.073133\n",
              "SUPERIOR_INCOMPLETO               0.057933\n",
              "Name: func_escolaridade, dtype: float64"
            ]
          },
          "metadata": {},
          "execution_count": 15
        }
      ]
    },
    {
      "cell_type": "code",
      "source": [
        "plt.rc('ytick', labelsize=14)\n",
        "plt.rc('xtick', labelsize=14)\n",
        "plt.figure(figsize=(8,6))\n",
        "plt.title('Estado',fontsize= 18, fontweight= 'bold')\n",
        "sns.countplot(x = 'func_uf',data = df)\n",
        "\n",
        "plt.xlabel('Estado', fontsize= 16, fontweight= 'bold')\n",
        "plt.ylabel('Contagem', fontsize= 16, fontweight= 'bold')\n",
        "plt.show()\n",
        "\n",
        "print('\\n')\n",
        "print('Porcetagem das classes no dataset')\n",
        "df['func_uf'].value_counts()/df.shape[0]"
      ],
      "metadata": {
        "id": "j6RY2GgtNXz-",
        "colab": {
          "base_uri": "https://localhost:8080/",
          "height": 643
        },
        "outputId": "c726ee70-653e-4538-c2ab-ce9b6678b229"
      },
      "execution_count": null,
      "outputs": [
        {
          "output_type": "display_data",
          "data": {
            "text/plain": [
              "<Figure size 576x432 with 1 Axes>"
            ],
            "image/png": "[encoded data removed]"
          },
          "metadata": {
            "needs_background": "light"
          }
        },
        {
          "output_type": "stream",
          "name": "stdout",
          "text": [
            "\n",
            "\n",
            "Porcetagem das classes no dataset\n"
          ]
        },
        {
          "output_type": "execute_result",
          "data": {
            "text/plain": [
              "BA    0.281533\n",
              "CE    0.194267\n",
              "PE    0.192133\n",
              "MA    0.073133\n",
              "RN    0.071800\n",
              "PB    0.054600\n",
              "AL    0.050733\n",
              "PI    0.043933\n",
              "SE    0.037867\n",
              "Name: func_uf, dtype: float64"
            ]
          },
          "metadata": {},
          "execution_count": 16
        }
      ]
    },
    {
      "cell_type": "code",
      "source": [
        "plt.rc('ytick', labelsize=14)\n",
        "plt.rc('xtick', labelsize=14)\n",
        "plt.figure(figsize=(8,6))\n",
        "plt.title('Contagem de deficientes',fontsize= 18, fontweight= 'bold')\n",
        "sns.countplot(x = 'func_deficiencia',data = df)\n",
        "\n",
        "plt.xlabel('Deficientes', fontsize= 16, fontweight= 'bold')\n",
        "plt.ylabel('Contagem', fontsize= 16, fontweight= 'bold')\n",
        "plt.show()\n",
        "\n",
        "print('\\n')\n",
        "print('Porcetagem das classes no dataset')\n",
        "df['func_deficiencia'].value_counts()/df.shape[0]"
      ],
      "metadata": {
        "id": "cP0MVqInNX6T",
        "colab": {
          "base_uri": "https://localhost:8080/",
          "height": 521
        },
        "outputId": "75adf9e1-8950-422b-a1dc-caa994c730f0"
      },
      "execution_count": null,
      "outputs": [
        {
          "output_type": "display_data",
          "data": {
            "text/plain": [
              "<Figure size 576x432 with 1 Axes>"
            ],
            "image/png": "[encoded data removed]"
          },
          "metadata": {
            "needs_background": "light"
          }
        },
        {
          "output_type": "stream",
          "name": "stdout",
          "text": [
            "\n",
            "\n",
            "Porcetagem das classes no dataset\n"
          ]
        },
        {
          "output_type": "execute_result",
          "data": {
            "text/plain": [
              "NAO    0.9824\n",
              "SIM    0.0176\n",
              "Name: func_deficiencia, dtype: float64"
            ]
          },
          "metadata": {},
          "execution_count": 17
        }
      ]
    },
    {
      "cell_type": "markdown",
      "source": [
        "* Existe uma baixa quantidade de amostras de dificientes, talvez essa quantidade não seja o suficientes para o modelo aprender sobre essa classe."
      ],
      "metadata": {
        "id": "tfepNTbluvo4"
      }
    },
    {
      "cell_type": "code",
      "source": [
        "plt.rc('ytick', labelsize=14)\n",
        "plt.rc('xtick', labelsize=14)\n",
        "plt.figure(figsize=(24,8))\n",
        "plt.title('Contagem de empresas pelo seu porte',fontsize= 18, fontweight= 'bold')\n",
        "sns.countplot(x = 'empresa_porte',data = df)\n",
        "\n",
        "plt.xlabel('Porte da empresa', fontsize= 16, fontweight= 'bold')\n",
        "plt.ylabel('Contagem', fontsize= 16, fontweight= 'bold')\n",
        "plt.show()\n",
        "\n",
        "print('\\n')\n",
        "print('Porcetagem das classes no dataset')\n",
        "df['empresa_porte'].value_counts()/df.shape[0]"
      ],
      "metadata": {
        "colab": {
          "base_uri": "https://localhost:8080/",
          "height": 665
        },
        "id": "DmqArEm-rEcF",
        "outputId": "63b2a706-930a-4976-a837-5f8200b7ba36"
      },
      "execution_count": null,
      "outputs": [
        {
          "output_type": "display_data",
          "data": {
            "text/plain": [
              "<Figure size 1728x576 with 1 Axes>"
            ],
            "image/png": "[encoded data removed]"
          },
          "metadata": {
            "needs_background": "light"
          }
        },
        {
          "output_type": "stream",
          "name": "stdout",
          "text": [
            "\n",
            "\n",
            "Porcetagem das classes no dataset\n"
          ]
        },
        {
          "output_type": "execute_result",
          "data": {
            "text/plain": [
              "DE 20 A 49      0.164400\n",
              "DE 10 A 19      0.136067\n",
              "ATE 4           0.123600\n",
              "1000 OU MAIS    0.122667\n",
              "DE 5 A 9        0.115000\n",
              "DE 100 A 249    0.112200\n",
              "DE 50 A 99      0.105533\n",
              "DE 250 A 499    0.068733\n",
              "DE 500 A 999    0.051800\n",
              "Name: empresa_porte, dtype: float64"
            ]
          },
          "metadata": {},
          "execution_count": 18
        }
      ]
    },
    {
      "cell_type": "code",
      "source": [
        "plt.rc('ytick', labelsize=14)\n",
        "plt.rc('xtick', labelsize=14)\n",
        "plt.figure(figsize=(24,8))\n",
        "plt.title('Contagem de empresas pelo seu setor',fontsize= 18, fontweight= 'bold')\n",
        "sns.countplot(x = 'empresa_setor',data = df)\n",
        "\n",
        "plt.xlabel('Setor da empresa', fontsize= 16, fontweight= 'bold')\n",
        "plt.ylabel('Contagem', fontsize= 16, fontweight= 'bold')\n",
        "plt.show()\n",
        "\n",
        "print('\\n')\n",
        "print('Porcetagem das classes no dataset')\n",
        "df['empresa_setor'].value_counts()/df.shape[0]"
      ],
      "metadata": {
        "colab": {
          "base_uri": "https://localhost:8080/",
          "height": 612
        },
        "id": "RIY4PU6dsMEr",
        "outputId": "98dd996e-2c31-495c-adba-335055af0f34"
      },
      "execution_count": null,
      "outputs": [
        {
          "output_type": "display_data",
          "data": {
            "text/plain": [
              "<Figure size 1728x576 with 1 Axes>"
            ],
            "image/png": "[encoded data removed]"
          },
          "metadata": {
            "needs_background": "light"
          }
        },
        {
          "output_type": "stream",
          "name": "stdout",
          "text": [
            "\n",
            "\n",
            "Porcetagem das classes no dataset\n"
          ]
        },
        {
          "output_type": "execute_result",
          "data": {
            "text/plain": [
              "Serviços                 0.526867\n",
              "Comércio                 0.257200\n",
              "Indústria                0.111867\n",
              "Construçao civil         0.056200\n",
              "Agricultura              0.045200\n",
              "Administraçao pública    0.002667\n",
              "Name: empresa_setor, dtype: float64"
            ]
          },
          "metadata": {},
          "execution_count": 19
        }
      ]
    },
    {
      "cell_type": "markdown",
      "source": [
        "* Existe uma baixa volumetria de dados da classe Administração pública, talvez não exista amostras o suficiente para o modelo aprender sobre essa classe.\n",
        " "
      ],
      "metadata": {
        "id": "bt0epOkV-vNh"
      }
    },
    {
      "cell_type": "code",
      "source": [
        "plt.rc('ytick', labelsize=14)\n",
        "plt.rc('xtick', labelsize=14)\n",
        "plt.figure(figsize=(8,6))\n",
        "plt.title('Quantidade de horas que a pesso trabalha por semana',fontsize= 18, fontweight= 'bold')\n",
        "sns.histplot(x='contrato_horastrabalho',data=df)\n",
        "plt.xlabel('Horas por semana', fontsize= 16, fontweight= 'bold')\n",
        "plt.ylabel('Contagem', fontsize= 16, fontweight= 'bold')\n",
        "plt.show()\n",
        "\n",
        "print(\"Descrição:\")\n",
        "print(\"horas minima   :\", df['contrato_horastrabalho'].min())\n",
        "print(\"horas máxima   :\", df['contrato_horastrabalho'].max())\n",
        "print(\"horas média    :\", np.round(df['contrato_horastrabalho'].mean()))\n",
        "print(\"Desvioo padrão :\", np.round(df['contrato_horastrabalho'].std()))\n",
        "print('Moda           :',statistics.mode(df['contrato_horastrabalho']))"
      ],
      "metadata": {
        "colab": {
          "base_uri": "https://localhost:8080/",
          "height": 521
        },
        "id": "TN3XfYS2skSB",
        "outputId": "ba25cfae-6b8a-4275-faa2-430fbac4dda3"
      },
      "execution_count": null,
      "outputs": [
        {
          "output_type": "display_data",
          "data": {
            "text/plain": [
              "<Figure size 576x432 with 1 Axes>"
            ],
            "image/png": "[encoded data removed]"
          },
          "metadata": {
            "needs_background": "light"
          }
        },
        {
          "output_type": "stream",
          "name": "stdout",
          "text": [
            "Descrição:\n",
            "horas minima   : 0\n",
            "horas máxima   : 44\n",
            "horas média    : 40.0\n",
            "Desvioo padrão : 9.0\n",
            "Moda           : 44\n"
          ]
        }
      ]
    },
    {
      "cell_type": "markdown",
      "source": [
        "* Existem pessoas que não possuem nenhuma hora trabalhada, talvez eles sejam outliers ou simplesmente de pessoas que trabalharam serviços autônomos.\n",
        " \n",
        "* Existem muito poucos dados, para diversas horas de trabalho. Isso talvez seja prejudicial para o aprendizado do modelo padrão."
      ],
      "metadata": {
        "id": "qmb3BEUWSKk3"
      }
    },
    {
      "cell_type": "code",
      "source": [
        "plt.rc('ytick', labelsize=14)\n",
        "plt.rc('xtick', labelsize=14)\n",
        "plt.figure(figsize=(8,6))\n",
        "plt.title('Salário das pessoas',fontsize= 18, fontweight= 'bold')\n",
        "sns.histplot(x='contrato_salario',data=df, bins = 100)\n",
        "plt.xlabel('Salário das pessoas', fontsize= 16, fontweight= 'bold')\n",
        "plt.ylabel('Contagem', fontsize= 16, fontweight= 'bold')\n",
        "plt.show()\n",
        "\n",
        "print(\"Descrição:\")\n",
        "print(\"Salário minimo :\", df['contrato_salario'].min())\n",
        "print(\"Salário máximo :\", df['contrato_salario'].max())\n",
        "print(\"Salário média  :\", np.round(df['contrato_salario'].mean()))\n",
        "print(\"Desvioo padrão :\", np.round(df['contrato_salario'].std()))\n",
        "print('Moda           :',statistics.mode(df['contrato_salario']))"
      ],
      "metadata": {
        "colab": {
          "base_uri": "https://localhost:8080/",
          "height": 523
        },
        "id": "5pbFZ9Kstlwa",
        "outputId": "2e5edea2-d8ee-4a88-ae71-c1fdee160666"
      },
      "execution_count": null,
      "outputs": [
        {
          "output_type": "display_data",
          "data": {
            "text/plain": [
              "<Figure size 576x432 with 1 Axes>"
            ],
            "image/png": "[encoded data removed]"
          },
          "metadata": {
            "needs_background": "light"
          }
        },
        {
          "output_type": "stream",
          "name": "stdout",
          "text": [
            "Descrição:\n",
            "Salário minimo : 299.4\n",
            "Salário máximo : 98641.65\n",
            "Salário média  : 1954.0\n",
            "Desvioo padrão : 2528.0\n",
            "Moda           : 998.0\n"
          ]
        }
      ]
    },
    {
      "cell_type": "markdown",
      "source": [
        "* O gráfico apresenta um comportamento exponencial com diversos outliers, por esse motivo ele será visto em log para poder entender melhor como os dados se comportam."
      ],
      "metadata": {
        "id": "1RaDuf4at4w5"
      }
    },
    {
      "cell_type": "code",
      "source": [
        "plt.rc('ytick', labelsize=14)\n",
        "plt.rc('xtick', labelsize=14)\n",
        "plt.figure(figsize=(8,6))\n",
        "plt.title('Salário das pessoas',fontsize= 18, fontweight= 'bold')\n",
        "sns.histplot(x='contrato_salario',data=df, bins = 100)\n",
        "plt.xlabel('Salário das pessoas', fontsize= 16, fontweight= 'bold')\n",
        "plt.ylabel('Contagem', fontsize= 16, fontweight= 'bold')\n",
        "plt.semilogy()\n",
        "plt.show()"
      ],
      "metadata": {
        "colab": {
          "base_uri": "https://localhost:8080/",
          "height": 419
        },
        "id": "eZfjCBHSt9hb",
        "outputId": "7b238971-6975-4d6a-fb8c-14ec2cede2d2"
      },
      "execution_count": null,
      "outputs": [
        {
          "output_type": "display_data",
          "data": {
            "text/plain": [
              "<Figure size 576x432 with 1 Axes>"
            ],
            "image/png": "[encoded data removed]"
          },
          "metadata": {
            "needs_background": "light"
          }
        }
      ]
    },
    {
      "cell_type": "markdown",
      "source": [
        "* Depois de 30000 é que os outliers começam aparecer. Para melhorar essa dispersão será aplicado log nos dados.\n",
        " \n",
        " \n"
      ],
      "metadata": {
        "id": "MSPzQPwZV40U"
      }
    },
    {
      "cell_type": "code",
      "source": [
        "df['contrato_salario_log'] = np.log10(df['contrato_salario'])"
      ],
      "metadata": {
        "id": "ZJakMeypYOvW"
      },
      "execution_count": null,
      "outputs": []
    },
    {
      "cell_type": "code",
      "source": [
        "plt.rc('ytick', labelsize=14)\n",
        "plt.rc('xtick', labelsize=14)\n",
        "plt.figure(figsize=(8,6))\n",
        "plt.title('Salário das pessoas em log',fontsize= 18, fontweight= 'bold')\n",
        "sns.histplot(x='contrato_salario_log',data=df, bins = 100)\n",
        "plt.xlabel('Salário das pessoas em log', fontsize= 16, fontweight= 'bold')\n",
        "plt.ylabel('Contagem', fontsize= 16, fontweight= 'bold')\n",
        "plt.semilogx()\n",
        "plt.show()"
      ],
      "metadata": {
        "colab": {
          "base_uri": "https://localhost:8080/",
          "height": 422
        },
        "id": "kIkLb5sruBTE",
        "outputId": "fe7deee4-95d7-4cf3-9623-72ecece2f252"
      },
      "execution_count": null,
      "outputs": [
        {
          "output_type": "display_data",
          "data": {
            "text/plain": [
              "<Figure size 576x432 with 1 Axes>"
            ],
            "image/png": "[encoded data removed]"
          },
          "metadata": {
            "needs_background": "light"
          }
        }
      ]
    },
    {
      "cell_type": "code",
      "source": [
        "plt.rc('ytick', labelsize=14)\n",
        "plt.rc('xtick', labelsize=14)\n",
        "plt.figure(figsize=(8,6))\n",
        "plt.title('turnover_apos_1_ano',fontsize= 18, fontweight= 'bold')\n",
        "sns.countplot(x = 'turnover_apos_1_ano',data = df)\n",
        "\n",
        "plt.xlabel('turnover_apos_1_ano', fontsize= 16, fontweight= 'bold')\n",
        "plt.ylabel('Contagem', fontsize= 16, fontweight= 'bold')\n",
        "plt.show()\n",
        "\n",
        "print('\\n')\n",
        "print('Porcetagem das classes no dataset')\n",
        "df['turnover_apos_1_ano'].value_counts()/df.shape[0]"
      ],
      "metadata": {
        "id": "cJVej3DjsZs1",
        "colab": {
          "base_uri": "https://localhost:8080/",
          "height": 522
        },
        "outputId": "8ee1e2b1-9ec2-43ba-f3e5-9c66f53638ed"
      },
      "execution_count": null,
      "outputs": [
        {
          "output_type": "display_data",
          "data": {
            "text/plain": [
              "<Figure size 576x432 with 1 Axes>"
            ],
            "image/png": "[encoded data removed]"
          },
          "metadata": {
            "needs_background": "light"
          }
        },
        {
          "output_type": "stream",
          "name": "stdout",
          "text": [
            "\n",
            "\n",
            "Porcetagem das classes no dataset\n"
          ]
        },
        {
          "output_type": "execute_result",
          "data": {
            "text/plain": [
              "NAO    0.639933\n",
              "SIM    0.360067\n",
              "Name: turnover_apos_1_ano, dtype: float64"
            ]
          },
          "metadata": {},
          "execution_count": 25
        }
      ]
    },
    {
      "cell_type": "markdown",
      "source": [
        "* Claramente os dados estão desbalanceados."
      ],
      "metadata": {
        "id": "-vuQvP5GZ2Gm"
      }
    },
    {
      "cell_type": "markdown",
      "source": [
        "# Distribuição dos dados em função do Target."
      ],
      "metadata": {
        "id": "Fx6jd55RvPSt"
      }
    },
    {
      "cell_type": "code",
      "source": [
        "plt.rc('ytick', labelsize=14)\n",
        "plt.rc('xtick', labelsize=14)\n",
        "plt.figure(figsize=(8,6))\n",
        "plt.title('Sexo',fontsize= 18, fontweight= 'bold')\n",
        "sns.countplot(x = 'func_sexo',data = df,hue ='turnover_apos_1_ano')\n",
        "\n",
        "plt.xlabel('Sexo', fontsize= 16, fontweight= 'bold')\n",
        "plt.ylabel('Contagem', fontsize= 16, fontweight= 'bold')\n",
        "plt.show()\n",
        "\n",
        "print('\\n')\n",
        "print('Porcetagem das classes no dataset')\n",
        "df.groupby('turnover_apos_1_ano')['func_sexo'].value_counts()/df.shape[0]"
      ],
      "metadata": {
        "id": "yXcl7IYjQG4K",
        "colab": {
          "base_uri": "https://localhost:8080/",
          "height": 573
        },
        "outputId": "67c25d83-550c-43af-fba5-88152f7e50ec"
      },
      "execution_count": null,
      "outputs": [
        {
          "output_type": "display_data",
          "data": {
            "text/plain": [
              "<Figure size 576x432 with 1 Axes>"
            ],
            "image/png": "[encoded data removed]"
          },
          "metadata": {
            "needs_background": "light"
          }
        },
        {
          "output_type": "stream",
          "name": "stdout",
          "text": [
            "\n",
            "\n",
            "Porcetagem das classes no dataset\n"
          ]
        },
        {
          "output_type": "execute_result",
          "data": {
            "text/plain": [
              "turnover_apos_1_ano  func_sexo\n",
              "NAO                  MASCULINO    0.398867\n",
              "                     FEMININO     0.241067\n",
              "SIM                  MASCULINO    0.196133\n",
              "                     FEMININO     0.163933\n",
              "Name: func_sexo, dtype: float64"
            ]
          },
          "metadata": {},
          "execution_count": 26
        }
      ]
    },
    {
      "cell_type": "code",
      "source": [
        "plt.rc('ytick', labelsize=14)\n",
        "plt.rc('xtick', labelsize=14)\n",
        "plt.figure(figsize=(8,6))\n",
        "plt.title('Idade',fontsize= 18, fontweight= 'bold')\n",
        "sns.histplot(x='func_idade',data=df,hue = 'turnover_apos_1_ano')\n",
        "plt.xlabel('Idade', fontsize= 16, fontweight= 'bold')\n",
        "plt.ylabel('Contagem', fontsize= 16, fontweight= 'bold')\n",
        "plt.show()\n",
        "\n"
      ],
      "metadata": {
        "id": "4mGboM2eQG5h",
        "colab": {
          "base_uri": "https://localhost:8080/",
          "height": 417
        },
        "outputId": "fe982c2d-d225-459a-8f76-d4174927434b"
      },
      "execution_count": null,
      "outputs": [
        {
          "output_type": "display_data",
          "data": {
            "text/plain": [
              "<Figure size 576x432 with 1 Axes>"
            ],
            "image/png": "[encoded data removed]"
          },
          "metadata": {
            "needs_background": "light"
          }
        }
      ]
    },
    {
      "cell_type": "code",
      "source": [
        "\n",
        "plt.rc('ytick', labelsize=14)\n",
        "plt.rc('xtick', labelsize=14)\n",
        "plt.figure(figsize=(8,6))\n",
        "plt.title('Idade em log',fontsize= 18, fontweight= 'bold')\n",
        "sns.histplot(x='func_idade_log',data=df,hue = 'turnover_apos_1_ano')\n",
        "plt.xlabel('Idade em log', fontsize= 16, fontweight= 'bold')\n",
        "plt.ylabel('Contagem', fontsize= 16, fontweight= 'bold')\n",
        "plt.show()\n"
      ],
      "metadata": {
        "id": "9OelK9VlQHBU",
        "colab": {
          "base_uri": "https://localhost:8080/",
          "height": 417
        },
        "outputId": "e0baaa89-deee-4c4c-b401-2be4dbf4ad7a"
      },
      "execution_count": null,
      "outputs": [
        {
          "output_type": "display_data",
          "data": {
            "text/plain": [
              "<Figure size 576x432 with 1 Axes>"
            ],
            "image/png": "[encoded data removed]"
          },
          "metadata": {
            "needs_background": "light"
          }
        }
      ]
    },
    {
      "cell_type": "code",
      "source": [
        "plt.rc('ytick', labelsize=14)\n",
        "plt.rc('xtick', labelsize=14)\n",
        "plt.figure(figsize=(8,6))\n",
        "plt.title('Contagem da raça das pessoas',fontsize= 18, fontweight= 'bold')\n",
        "sns.countplot(x = 'func_racacor',data = df,hue ='turnover_apos_1_ano')\n",
        "\n",
        "plt.xlabel('Raça das pessoas', fontsize= 16, fontweight= 'bold')\n",
        "plt.ylabel('Contagem', fontsize= 16, fontweight= 'bold')\n",
        "plt.show()\n",
        "\n",
        "print('\\n')\n",
        "print('Porcetagem das classes no dataset')\n",
        "df.groupby('turnover_apos_1_ano')['func_racacor'].value_counts()/df.shape[0]"
      ],
      "metadata": {
        "id": "2t-XiKM7QHEi",
        "colab": {
          "base_uri": "https://localhost:8080/",
          "height": 643
        },
        "outputId": "279d8cb2-bf17-4f1f-dd1d-00c8aba24a1a"
      },
      "execution_count": null,
      "outputs": [
        {
          "output_type": "display_data",
          "data": {
            "text/plain": [
              "<Figure size 576x432 with 1 Axes>"
            ],
            "image/png": "[encoded data removed]"
          },
          "metadata": {
            "needs_background": "light"
          }
        },
        {
          "output_type": "stream",
          "name": "stdout",
          "text": [
            "\n",
            "\n",
            "Porcetagem das classes no dataset\n"
          ]
        },
        {
          "output_type": "execute_result",
          "data": {
            "text/plain": [
              "turnover_apos_1_ano  func_racacor  \n",
              "NAO                  PRETA-PARDA       0.406933\n",
              "                     SEM INFO          0.127733\n",
              "                     AMARELA-BRANCA    0.104467\n",
              "                     INDIGENA          0.000800\n",
              "SIM                  PRETA-PARDA       0.238533\n",
              "                     AMARELA-BRANCA    0.074467\n",
              "                     SEM INFO          0.046333\n",
              "                     INDIGENA          0.000733\n",
              "Name: func_racacor, dtype: float64"
            ]
          },
          "metadata": {},
          "execution_count": 29
        }
      ]
    },
    {
      "cell_type": "code",
      "source": [
        "plt.rc('ytick', labelsize=14)\n",
        "plt.rc('xtick', labelsize=14)\n",
        "plt.figure(figsize=(28,8))\n",
        "plt.title('Contagem da escolaridade das pessoas',fontsize= 18, fontweight= 'bold')\n",
        "sns.countplot(x = 'func_escolaridade',data = df,hue ='turnover_apos_1_ano')\n",
        "\n",
        "plt.xlabel('Escolaridade das pessoas', fontsize= 16, fontweight= 'bold')\n",
        "plt.ylabel('Contagem', fontsize= 16, fontweight= 'bold')\n",
        "plt.show()\n",
        "\n",
        "print('\\n')\n",
        "print('Porcetagem das classes no dataset')\n",
        "df.groupby('turnover_apos_1_ano')['func_escolaridade'].value_counts()/df.shape[0]"
      ],
      "metadata": {
        "colab": {
          "base_uri": "https://localhost:8080/",
          "height": 642
        },
        "id": "OP8trleopPWm",
        "outputId": "7dd2f10d-dcd8-4a61-9314-b09136daf94d"
      },
      "execution_count": null,
      "outputs": [
        {
          "output_type": "display_data",
          "data": {
            "text/plain": [
              "<Figure size 2016x576 with 1 Axes>"
            ],
            "image/png": "[encoded data removed]"
          },
          "metadata": {
            "needs_background": "light"
          }
        },
        {
          "output_type": "stream",
          "name": "stdout",
          "text": [
            "\n",
            "\n",
            "Porcetagem das classes no dataset\n"
          ]
        },
        {
          "output_type": "execute_result",
          "data": {
            "text/plain": [
              "turnover_apos_1_ano  func_escolaridade             \n",
              "NAO                  MEDIO COMPLETO                    0.405667\n",
              "                     SUPERIOR_COMPLETO                 0.087467\n",
              "                     FUND_COMPLETO-MEDIO_INCOMPLETO    0.060000\n",
              "                     ANALFABETO-FUND_INCOMPLETO        0.052733\n",
              "                     SUPERIOR_INCOMPLETO               0.034067\n",
              "SIM                  MEDIO COMPLETO                    0.202067\n",
              "                     SUPERIOR_COMPLETO                 0.086000\n",
              "                     FUND_COMPLETO-MEDIO_INCOMPLETO    0.027733\n",
              "                     SUPERIOR_INCOMPLETO               0.023867\n",
              "                     ANALFABETO-FUND_INCOMPLETO        0.020400\n",
              "Name: func_escolaridade, dtype: float64"
            ]
          },
          "metadata": {},
          "execution_count": 30
        }
      ]
    },
    {
      "cell_type": "code",
      "source": [
        "plt.rc('ytick', labelsize=14)\n",
        "plt.rc('xtick', labelsize=14)\n",
        "plt.figure(figsize=(28,8))\n",
        "plt.title('Contagem de estados',fontsize= 18, fontweight= 'bold')\n",
        "sns.countplot(x = 'func_uf',data = df,hue ='turnover_apos_1_ano')\n",
        "\n",
        "plt.xlabel('Estado', fontsize= 16, fontweight= 'bold')\n",
        "plt.ylabel('Contagem', fontsize= 16, fontweight= 'bold')\n",
        "plt.show()\n",
        "\n",
        "print('\\n')\n",
        "print('Porcetagem das classes no dataset')\n",
        "df.groupby('turnover_apos_1_ano')['func_uf'].value_counts()/df.shape[0]"
      ],
      "metadata": {
        "colab": {
          "base_uri": "https://localhost:8080/",
          "height": 780
        },
        "id": "YArdV6xdpPYK",
        "outputId": "db72d899-f8ab-4ec2-a43d-d82192bc69b8"
      },
      "execution_count": null,
      "outputs": [
        {
          "output_type": "display_data",
          "data": {
            "text/plain": [
              "<Figure size 2016x576 with 1 Axes>"
            ],
            "image/png": "[encoded data removed]"
          },
          "metadata": {
            "needs_background": "light"
          }
        },
        {
          "output_type": "stream",
          "name": "stdout",
          "text": [
            "\n",
            "\n",
            "Porcetagem das classes no dataset\n"
          ]
        },
        {
          "output_type": "execute_result",
          "data": {
            "text/plain": [
              "turnover_apos_1_ano  func_uf\n",
              "NAO                  BA         0.184000\n",
              "                     CE         0.127400\n",
              "                     PE         0.111333\n",
              "                     MA         0.050667\n",
              "                     RN         0.046400\n",
              "                     AL         0.034467\n",
              "                     PB         0.033067\n",
              "                     PI         0.029200\n",
              "                     SE         0.023400\n",
              "SIM                  BA         0.097533\n",
              "                     PE         0.080800\n",
              "                     CE         0.066867\n",
              "                     RN         0.025400\n",
              "                     MA         0.022467\n",
              "                     PB         0.021533\n",
              "                     AL         0.016267\n",
              "                     PI         0.014733\n",
              "                     SE         0.014467\n",
              "Name: func_uf, dtype: float64"
            ]
          },
          "metadata": {},
          "execution_count": 31
        }
      ]
    },
    {
      "cell_type": "code",
      "source": [
        "plt.rc('ytick', labelsize=14)\n",
        "plt.rc('xtick', labelsize=14)\n",
        "plt.figure(figsize=(8,6))\n",
        "plt.title('Contagem de deficiencia',fontsize= 18, fontweight= 'bold')\n",
        "sns.countplot(x = 'func_deficiencia',data = df,hue ='turnover_apos_1_ano')\n",
        "\n",
        "plt.xlabel('Deficiência das pessoas', fontsize= 16, fontweight= 'bold')\n",
        "plt.ylabel('Contagem', fontsize= 16, fontweight= 'bold')\n",
        "plt.show()\n",
        "\n",
        "print('\\n')\n",
        "print('Porcetagem das classes no dataset')\n",
        "df.groupby('turnover_apos_1_ano')['func_deficiencia'].value_counts()/df.shape[0]"
      ],
      "metadata": {
        "colab": {
          "base_uri": "https://localhost:8080/",
          "height": 574
        },
        "id": "k2n9Esy8pPfo",
        "outputId": "7fdb3864-2029-4fe7-932c-34b1ee8f7bb2"
      },
      "execution_count": null,
      "outputs": [
        {
          "output_type": "display_data",
          "data": {
            "text/plain": [
              "<Figure size 576x432 with 1 Axes>"
            ],
            "image/png": "[encoded data removed]"
          },
          "metadata": {
            "needs_background": "light"
          }
        },
        {
          "output_type": "stream",
          "name": "stdout",
          "text": [
            "\n",
            "\n",
            "Porcetagem das classes no dataset\n"
          ]
        },
        {
          "output_type": "execute_result",
          "data": {
            "text/plain": [
              "turnover_apos_1_ano  func_deficiencia\n",
              "NAO                  NAO                 0.630600\n",
              "                     SIM                 0.009333\n",
              "SIM                  NAO                 0.351800\n",
              "                     SIM                 0.008267\n",
              "Name: func_deficiencia, dtype: float64"
            ]
          },
          "metadata": {},
          "execution_count": 32
        }
      ]
    },
    {
      "cell_type": "code",
      "source": [
        "plt.rc('ytick', labelsize=14)\n",
        "plt.rc('xtick', labelsize=14)\n",
        "plt.figure(figsize=(24,8))\n",
        "plt.title('Contagem de empresas pelo seu porte',fontsize= 18, fontweight= 'bold')\n",
        "sns.countplot(x = 'empresa_porte',data = df,hue ='turnover_apos_1_ano')\n",
        "\n",
        "plt.xlabel('Porte da empresa', fontsize= 16, fontweight= 'bold')\n",
        "plt.ylabel('Contagem', fontsize= 16, fontweight= 'bold')\n",
        "plt.show()\n",
        "\n",
        "print('\\n')\n",
        "print('Porcetagem das classes no dataset')\n",
        "df.groupby('turnover_apos_1_ano')['empresa_porte'].value_counts()/df.shape[0]"
      ],
      "metadata": {
        "colab": {
          "base_uri": "https://localhost:8080/",
          "height": 838
        },
        "id": "hXVyMvZlvCoU",
        "outputId": "0c661d54-5d36-4651-92b7-91a479c0043b"
      },
      "execution_count": null,
      "outputs": [
        {
          "output_type": "display_data",
          "data": {
            "text/plain": [
              "<Figure size 1728x576 with 1 Axes>"
            ],
            "image/png": "[encoded data removed]"
          },
          "metadata": {
            "needs_background": "light"
          }
        },
        {
          "output_type": "stream",
          "name": "stdout",
          "text": [
            "\n",
            "\n",
            "Porcetagem das classes no dataset\n"
          ]
        },
        {
          "output_type": "execute_result",
          "data": {
            "text/plain": [
              "turnover_apos_1_ano  empresa_porte\n",
              "NAO                  DE 20 A 49       0.111200\n",
              "                     DE 10 A 19       0.095133\n",
              "                     ATE 4            0.087000\n",
              "                     DE 5 A 9         0.082933\n",
              "                     DE 50 A 99       0.070733\n",
              "                     DE 100 A 249     0.067800\n",
              "                     1000 OU MAIS     0.058933\n",
              "                     DE 250 A 499     0.039000\n",
              "                     DE 500 A 999     0.027200\n",
              "SIM                  1000 OU MAIS     0.063733\n",
              "                     DE 20 A 49       0.053200\n",
              "                     DE 100 A 249     0.044400\n",
              "                     DE 10 A 19       0.040933\n",
              "                     ATE 4            0.036600\n",
              "                     DE 50 A 99       0.034800\n",
              "                     DE 5 A 9         0.032067\n",
              "                     DE 250 A 499     0.029733\n",
              "                     DE 500 A 999     0.024600\n",
              "Name: empresa_porte, dtype: float64"
            ]
          },
          "metadata": {},
          "execution_count": 33
        }
      ]
    },
    {
      "cell_type": "code",
      "source": [
        "plt.rc('ytick', labelsize=14)\n",
        "plt.rc('xtick', labelsize=14)\n",
        "plt.figure(figsize=(24,8))\n",
        "plt.title('Contagem de empresas pelo seu setor',fontsize= 18, fontweight= 'bold')\n",
        "sns.countplot(x = 'empresa_setor',data = df,hue = 'turnover_apos_1_ano')\n",
        "\n",
        "plt.xlabel('Setor da empresa', fontsize= 16, fontweight= 'bold')\n",
        "plt.ylabel('Contagem', fontsize= 16, fontweight= 'bold')\n",
        "plt.show()\n",
        "\n",
        "print('\\n')\n",
        "print('Porcetagem das classes no dataset')\n",
        "df.groupby('turnover_apos_1_ano')['empresa_setor'].value_counts()/df.shape[0]"
      ],
      "metadata": {
        "colab": {
          "base_uri": "https://localhost:8080/",
          "height": 734
        },
        "id": "rDjtmXC-vCx7",
        "outputId": "7ee7b16b-4fed-424f-bd15-9727ffaf0848"
      },
      "execution_count": null,
      "outputs": [
        {
          "output_type": "display_data",
          "data": {
            "text/plain": [
              "<Figure size 1728x576 with 1 Axes>"
            ],
            "image/png": "[encoded data removed]"
          },
          "metadata": {
            "needs_background": "light"
          }
        },
        {
          "output_type": "stream",
          "name": "stdout",
          "text": [
            "\n",
            "\n",
            "Porcetagem das classes no dataset\n"
          ]
        },
        {
          "output_type": "execute_result",
          "data": {
            "text/plain": [
              "turnover_apos_1_ano  empresa_setor        \n",
              "NAO                  Serviços                 0.310133\n",
              "                     Comércio                 0.175733\n",
              "                     Indústria                0.069067\n",
              "                     Construçao civil         0.046067\n",
              "                     Agricultura              0.038267\n",
              "                     Administraçao pública    0.000667\n",
              "SIM                  Serviços                 0.216733\n",
              "                     Comércio                 0.081467\n",
              "                     Indústria                0.042800\n",
              "                     Construçao civil         0.010133\n",
              "                     Agricultura              0.006933\n",
              "                     Administraçao pública    0.002000\n",
              "Name: empresa_setor, dtype: float64"
            ]
          },
          "metadata": {},
          "execution_count": 34
        }
      ]
    },
    {
      "cell_type": "code",
      "source": [
        "plt.rc('ytick', labelsize=14)\n",
        "plt.rc('xtick', labelsize=14)\n",
        "plt.figure(figsize=(8,6))\n",
        "plt.title('Quantidade de horas que a pesso trabalha por semana',fontsize= 18, fontweight= 'bold')\n",
        "sns.histplot(x='contrato_horastrabalho',data=df,hue = 'turnover_apos_1_ano')\n",
        "plt.xlabel('Horas por semana', fontsize= 16, fontweight= 'bold')\n",
        "plt.ylabel('Contagem', fontsize= 16, fontweight= 'bold')\n",
        "plt.show()"
      ],
      "metadata": {
        "colab": {
          "base_uri": "https://localhost:8080/",
          "height": 417
        },
        "id": "8UoMFvmavCzT",
        "outputId": "3a28d241-048d-4743-99a3-8994a1313d41"
      },
      "execution_count": null,
      "outputs": [
        {
          "output_type": "display_data",
          "data": {
            "text/plain": [
              "<Figure size 576x432 with 1 Axes>"
            ],
            "image/png": "[encoded data removed]"
          },
          "metadata": {
            "needs_background": "light"
          }
        }
      ]
    },
    {
      "cell_type": "code",
      "source": [
        "plt.rc('ytick', labelsize=14)\n",
        "plt.rc('xtick', labelsize=14)\n",
        "plt.figure(figsize=(8,6))\n",
        "plt.title('Salário das pessoas',fontsize= 18, fontweight= 'bold')\n",
        "sns.histplot(x='contrato_salario',data=df, bins = 100,hue = 'turnover_apos_1_ano')\n",
        "plt.xlabel('Salário das pessoas', fontsize= 16, fontweight= 'bold')\n",
        "plt.ylabel('Contagem', fontsize= 16, fontweight= 'bold')\n",
        "plt.semilogy()\n",
        "plt.show()"
      ],
      "metadata": {
        "colab": {
          "base_uri": "https://localhost:8080/",
          "height": 419
        },
        "id": "5TUgv0qEwQHb",
        "outputId": "3a8fcecc-bff0-4f27-a2f5-28104e8ba8a6"
      },
      "execution_count": null,
      "outputs": [
        {
          "output_type": "display_data",
          "data": {
            "text/plain": [
              "<Figure size 576x432 with 1 Axes>"
            ],
            "image/png": "[encoded data removed]"
          },
          "metadata": {
            "needs_background": "light"
          }
        }
      ]
    },
    {
      "cell_type": "markdown",
      "source": [
        "* Apenas no primeiro bin é que a contagem de pessoas que não saíram do emprego após um ano é maior do que aquelas que saíram. Isso pode ser um indício que essa variável é extremamente importante para o modelo.\n",
        " \n",
        " \n"
      ],
      "metadata": {
        "id": "1ub9Mu3LDHkV"
      }
    },
    {
      "cell_type": "code",
      "source": [
        "plt.rc('ytick', labelsize=14)\n",
        "plt.rc('xtick', labelsize=14)\n",
        "plt.figure(figsize=(8,6))\n",
        "plt.title('Salário das pessoas em log',fontsize= 18, fontweight= 'bold')\n",
        "sns.histplot(x='contrato_salario_log',data=df, bins = 100,hue = 'turnover_apos_1_ano')\n",
        "plt.xlabel('Salário das pessoas em log', fontsize= 16, fontweight= 'bold')\n",
        "plt.ylabel('Contagem', fontsize= 16, fontweight= 'bold')\n",
        "plt.semilogy()\n",
        "plt.show()"
      ],
      "metadata": {
        "colab": {
          "base_uri": "https://localhost:8080/",
          "height": 419
        },
        "id": "nPRaIazeCQ6L",
        "outputId": "2c63cb90-23a7-4d5b-ba46-8e7879e0593a"
      },
      "execution_count": null,
      "outputs": [
        {
          "output_type": "display_data",
          "data": {
            "text/plain": [
              "<Figure size 576x432 with 1 Axes>"
            ],
            "image/png": "[encoded data removed]"
          },
          "metadata": {
            "needs_background": "light"
          }
        }
      ]
    },
    {
      "cell_type": "markdown",
      "source": [
        "# Estudo de melhor maneira de tratar cada variável\n",
        " \n",
        "### Primeiro teste: Verificando se aplicação do logaritmo nos dados surtiram efeito\n",
        " \n",
        "* A princípio todas as variáveis categóricas serão codificadas pelo label encoder.\n",
        " \n",
        " \n"
      ],
      "metadata": {
        "id": "r2g1bSqeqP_g"
      }
    },
    {
      "cell_type": "code",
      "source": [
        "df_aux = df.copy() "
      ],
      "metadata": {
        "id": "_06_v_eZymxy"
      },
      "execution_count": null,
      "outputs": []
    },
    {
      "cell_type": "code",
      "source": [
        "df_aux['turnover_apos_1_ano'] = df_aux['turnover_apos_1_ano'].map({'NAO': 0, 'SIM': 1})\n",
        "df_aux['func_deficiencia'] = df_aux['func_deficiencia'].map({'NAO': 0, 'SIM': 1})\n",
        "df_aux['func_sexo'] = df_aux['func_sexo'].map({'FEMININO': 0, 'MASCULINO': 1})"
      ],
      "metadata": {
        "id": "3WqHJdp0pPg6"
      },
      "execution_count": null,
      "outputs": []
    },
    {
      "cell_type": "code",
      "source": [
        "df1 = df_aux.copy()"
      ],
      "metadata": {
        "id": "PVxbW6-x6bYM"
      },
      "execution_count": null,
      "outputs": []
    },
    {
      "cell_type": "code",
      "source": [
        "df1.head()"
      ],
      "metadata": {
        "colab": {
          "base_uri": "https://localhost:8080/",
          "height": 288
        },
        "id": "LR0jC5o61qfk",
        "outputId": "96ddae2a-378c-4d84-ac9b-3e8bea6e16ca"
      },
      "execution_count": null,
      "outputs": [
        {
          "output_type": "execute_result",
          "data": {
            "text/plain": [
              "   func_sexo  func_idade    func_racacor func_escolaridade func_uf  \\\n",
              "0          1          24  AMARELA-BRANCA    MEDIO COMPLETO      RN   \n",
              "1          1          24        SEM INFO    MEDIO COMPLETO      BA   \n",
              "2          0          25     PRETA-PARDA    MEDIO COMPLETO      SE   \n",
              "3          1          54     PRETA-PARDA    MEDIO COMPLETO      PE   \n",
              "4          1          40     PRETA-PARDA    MEDIO COMPLETO      BA   \n",
              "\n",
              "   func_deficiencia empresa_porte empresa_setor  contrato_horastrabalho  \\\n",
              "0                 0    DE 10 A 19      Serviços                      44   \n",
              "1                 0         ATE 4      Comércio                      44   \n",
              "2                 0    DE 20 A 49      Comércio                      44   \n",
              "3                 0    DE 20 A 49      Comércio                      44   \n",
              "4                 0    DE 20 A 49      Comércio                       0   \n",
              "\n",
              "   contrato_salario  turnover_apos_1_ano  func_idade_log  contrato_salario_log  \n",
              "0           1750.65                    1        3.178054              3.243199  \n",
              "1           1002.30                    0        3.178054              3.000998  \n",
              "2           1370.14                    0        3.218876              3.136765  \n",
              "3           1854.68                    1        3.988984              3.268269  \n",
              "4           1126.23                    0        3.688879              3.051627  "
            ],
            "text/html": [
              "\n",
              "  <div id=\"df-6398eb81-da71-47c4-805b-e2d9f4bb8923\">\n",
              "    <div class=\"colab-df-container\">\n",
              "      <div>\n",
              "<style scoped>\n",
              "    .dataframe tbody tr th:only-of-type {\n",
              "        vertical-align: middle;\n",
              "    }\n",
              "\n",
              "    .dataframe tbody tr th {\n",
              "        vertical-align: top;\n",
              "    }\n",
              "\n",
              "    .dataframe thead th {\n",
              "        text-align: right;\n",
              "    }\n",
              "</style>\n",
              "<table border=\"1\" class=\"dataframe\">\n",
              "  <thead>\n",
              "    <tr style=\"text-align: right;\">\n",
              "      <th></th>\n",
              "      <th>func_sexo</th>\n",
              "      <th>func_idade</th>\n",
              "      <th>func_racacor</th>\n",
              "      <th>func_escolaridade</th>\n",
              "      <th>func_uf</th>\n",
              "      <th>func_deficiencia</th>\n",
              "      <th>empresa_porte</th>\n",
              "      <th>empresa_setor</th>\n",
              "      <th>contrato_horastrabalho</th>\n",
              "      <th>contrato_salario</th>\n",
              "      <th>turnover_apos_1_ano</th>\n",
              "      <th>func_idade_log</th>\n",
              "      <th>contrato_salario_log</th>\n",
              "    </tr>\n",
              "  </thead>\n",
              "  <tbody>\n",
              "    <tr>\n",
              "      <th>0</th>\n",
              "      <td>1</td>\n",
              "      <td>24</td>\n",
              "      <td>AMARELA-BRANCA</td>\n",
              "      <td>MEDIO COMPLETO</td>\n",
              "      <td>RN</td>\n",
              "      <td>0</td>\n",
              "      <td>DE 10 A 19</td>\n",
              "      <td>Serviços</td>\n",
              "      <td>44</td>\n",
              "      <td>1750.65</td>\n",
              "      <td>1</td>\n",
              "      <td>3.178054</td>\n",
              "      <td>3.243199</td>\n",
              "    </tr>\n",
              "    <tr>\n",
              "      <th>1</th>\n",
              "      <td>1</td>\n",
              "      <td>24</td>\n",
              "      <td>SEM INFO</td>\n",
              "      <td>MEDIO COMPLETO</td>\n",
              "      <td>BA</td>\n",
              "      <td>0</td>\n",
              "      <td>ATE 4</td>\n",
              "      <td>Comércio</td>\n",
              "      <td>44</td>\n",
              "      <td>1002.30</td>\n",
              "      <td>0</td>\n",
              "      <td>3.178054</td>\n",
              "      <td>3.000998</td>\n",
              "    </tr>\n",
              "    <tr>\n",
              "      <th>2</th>\n",
              "      <td>0</td>\n",
              "      <td>25</td>\n",
              "      <td>PRETA-PARDA</td>\n",
              "      <td>MEDIO COMPLETO</td>\n",
              "      <td>SE</td>\n",
              "      <td>0</td>\n",
              "      <td>DE 20 A 49</td>\n",
              "      <td>Comércio</td>\n",
              "      <td>44</td>\n",
              "      <td>1370.14</td>\n",
              "      <td>0</td>\n",
              "      <td>3.218876</td>\n",
              "      <td>3.136765</td>\n",
              "    </tr>\n",
              "    <tr>\n",
              "      <th>3</th>\n",
              "      <td>1</td>\n",
              "      <td>54</td>\n",
              "      <td>PRETA-PARDA</td>\n",
              "      <td>MEDIO COMPLETO</td>\n",
              "      <td>PE</td>\n",
              "      <td>0</td>\n",
              "      <td>DE 20 A 49</td>\n",
              "      <td>Comércio</td>\n",
              "      <td>44</td>\n",
              "      <td>1854.68</td>\n",
              "      <td>1</td>\n",
              "      <td>3.988984</td>\n",
              "      <td>3.268269</td>\n",
              "    </tr>\n",
              "    <tr>\n",
              "      <th>4</th>\n",
              "      <td>1</td>\n",
              "      <td>40</td>\n",
              "      <td>PRETA-PARDA</td>\n",
              "      <td>MEDIO COMPLETO</td>\n",
              "      <td>BA</td>\n",
              "      <td>0</td>\n",
              "      <td>DE 20 A 49</td>\n",
              "      <td>Comércio</td>\n",
              "      <td>0</td>\n",
              "      <td>1126.23</td>\n",
              "      <td>0</td>\n",
              "      <td>3.688879</td>\n",
              "      <td>3.051627</td>\n",
              "    </tr>\n",
              "  </tbody>\n",
              "</table>\n",
              "</div>\n",
              "      <button class=\"colab-df-convert\" onclick=\"convertToInteractive('df-6398eb81-da71-47c4-805b-e2d9f4bb8923')\"\n",
              "              title=\"Convert this dataframe to an interactive table.\"\n",
              "              style=\"display:none;\">\n",
              "        \n",
              "  <svg xmlns=\"http://www.w3.org/2000/svg\" height=\"24px\"viewBox=\"0 0 24 24\"\n",
              "       width=\"24px\">\n",
              "    <path d=\"M0 0h24v24H0V0z\" fill=\"none\"/>\n",
              "    <path d=\"M18.56 5.44l.94 2.06.94-2.06 2.06-.94-2.06-.94-.94-2.06-.94 2.06-2.06.94zm-11 1L8.5 8.5l.94-2.06 2.06-.94-2.06-.94L8.5 2.5l-.94 2.06-2.06.94zm10 10l.94 2.06.94-2.06 2.06-.94-2.06-.94-.94-2.06-.94 2.06-2.06.94z\"/><path d=\"M17.41 7.96l-1.37-1.37c-.4-.4-.92-.59-1.43-.59-.52 0-1.04.2-1.43.59L10.3 9.45l-7.72 7.72c-.78.78-.78 2.05 0 2.83L4 21.41c.39.39.9.59 1.41.59.51 0 1.02-.2 1.41-.59l7.78-7.78 2.81-2.81c.8-.78.8-2.07 0-2.86zM5.41 20L4 18.59l7.72-7.72 1.47 1.35L5.41 20z\"/>\n",
              "  </svg>\n",
              "      </button>\n",
              "      \n",
              "  <style>\n",
              "    .colab-df-container {\n",
              "      display:flex;\n",
              "      flex-wrap:wrap;\n",
              "      gap: 12px;\n",
              "    }\n",
              "\n",
              "    .colab-df-convert {\n",
              "      background-color: #E8F0FE;\n",
              "      border: none;\n",
              "      border-radius: 50%;\n",
              "      cursor: pointer;\n",
              "      display: none;\n",
              "      fill: #1967D2;\n",
              "      height: 32px;\n",
              "      padding: 0 0 0 0;\n",
              "      width: 32px;\n",
              "    }\n",
              "\n",
              "    .colab-df-convert:hover {\n",
              "      background-color: #E2EBFA;\n",
              "      box-shadow: 0px 1px 2px rgba(60, 64, 67, 0.3), 0px 1px 3px 1px rgba(60, 64, 67, 0.15);\n",
              "      fill: #174EA6;\n",
              "    }\n",
              "\n",
              "    [theme=dark] .colab-df-convert {\n",
              "      background-color: #3B4455;\n",
              "      fill: #D2E3FC;\n",
              "    }\n",
              "\n",
              "    [theme=dark] .colab-df-convert:hover {\n",
              "      background-color: #434B5C;\n",
              "      box-shadow: 0px 1px 3px 1px rgba(0, 0, 0, 0.15);\n",
              "      filter: drop-shadow(0px 1px 2px rgba(0, 0, 0, 0.3));\n",
              "      fill: #FFFFFF;\n",
              "    }\n",
              "  </style>\n",
              "\n",
              "      <script>\n",
              "        const buttonEl =\n",
              "          document.querySelector('#df-6398eb81-da71-47c4-805b-e2d9f4bb8923 button.colab-df-convert');\n",
              "        buttonEl.style.display =\n",
              "          google.colab.kernel.accessAllowed ? 'block' : 'none';\n",
              "\n",
              "        async function convertToInteractive(key) {\n",
              "          const element = document.querySelector('#df-6398eb81-da71-47c4-805b-e2d9f4bb8923');\n",
              "          const dataTable =\n",
              "            await google.colab.kernel.invokeFunction('convertToInteractive',\n",
              "                                                     [key], {});\n",
              "          if (!dataTable) return;\n",
              "\n",
              "          const docLinkHtml = 'Like what you see? Visit the ' +\n",
              "            '<a target=\"_blank\" href=https://colab.research.google.com/notebooks/data_table.ipynb>data table notebook</a>'\n",
              "            + ' to learn more about interactive tables.';\n",
              "          element.innerHTML = '';\n",
              "          dataTable['output_type'] = 'display_data';\n",
              "          await google.colab.output.renderOutput(dataTable, element);\n",
              "          const docLink = document.createElement('div');\n",
              "          docLink.innerHTML = docLinkHtml;\n",
              "          element.appendChild(docLink);\n",
              "        }\n",
              "      </script>\n",
              "    </div>\n",
              "  </div>\n",
              "  "
            ]
          },
          "metadata": {},
          "execution_count": 41
        }
      ]
    },
    {
      "cell_type": "code",
      "source": [
        "df1 = encoder_var(df1,1) "
      ],
      "metadata": {
        "id": "JwXC7AAP0G6v"
      },
      "execution_count": null,
      "outputs": []
    },
    {
      "cell_type": "code",
      "source": [
        "df1.head() "
      ],
      "metadata": {
        "colab": {
          "base_uri": "https://localhost:8080/",
          "height": 270
        },
        "id": "Qzy9tejT15SQ",
        "outputId": "bbeefb25-0027-4959-ae76-59b58c53b875"
      },
      "execution_count": null,
      "outputs": [
        {
          "output_type": "execute_result",
          "data": {
            "text/plain": [
              "   func_sexo  func_idade  func_racacor  func_escolaridade  func_uf  \\\n",
              "0          1          24             0                  2        7   \n",
              "1          1          24             3                  2        1   \n",
              "2          0          25             2                  2        8   \n",
              "3          1          54             2                  2        5   \n",
              "4          1          40             2                  2        1   \n",
              "\n",
              "   func_deficiencia  empresa_porte  empresa_setor  contrato_horastrabalho  \\\n",
              "0                 0              2              5                      44   \n",
              "1                 0              1              2                      44   \n",
              "2                 0              4              2                      44   \n",
              "3                 0              4              2                      44   \n",
              "4                 0              4              2                       0   \n",
              "\n",
              "   contrato_salario  turnover_apos_1_ano  func_idade_log  contrato_salario_log  \n",
              "0           1750.65                    1        3.178054              3.243199  \n",
              "1           1002.30                    0        3.178054              3.000998  \n",
              "2           1370.14                    0        3.218876              3.136765  \n",
              "3           1854.68                    1        3.988984              3.268269  \n",
              "4           1126.23                    0        3.688879              3.051627  "
            ],
            "text/html": [
              "\n",
              "  <div id=\"df-13612f40-da93-4d22-81b1-220d0f611dee\">\n",
              "    <div class=\"colab-df-container\">\n",
              "      <div>\n",
              "<style scoped>\n",
              "    .dataframe tbody tr th:only-of-type {\n",
              "        vertical-align: middle;\n",
              "    }\n",
              "\n",
              "    .dataframe tbody tr th {\n",
              "        vertical-align: top;\n",
              "    }\n",
              "\n",
              "    .dataframe thead th {\n",
              "        text-align: right;\n",
              "    }\n",
              "</style>\n",
              "<table border=\"1\" class=\"dataframe\">\n",
              "  <thead>\n",
              "    <tr style=\"text-align: right;\">\n",
              "      <th></th>\n",
              "      <th>func_sexo</th>\n",
              "      <th>func_idade</th>\n",
              "      <th>func_racacor</th>\n",
              "      <th>func_escolaridade</th>\n",
              "      <th>func_uf</th>\n",
              "      <th>func_deficiencia</th>\n",
              "      <th>empresa_porte</th>\n",
              "      <th>empresa_setor</th>\n",
              "      <th>contrato_horastrabalho</th>\n",
              "      <th>contrato_salario</th>\n",
              "      <th>turnover_apos_1_ano</th>\n",
              "      <th>func_idade_log</th>\n",
              "      <th>contrato_salario_log</th>\n",
              "    </tr>\n",
              "  </thead>\n",
              "  <tbody>\n",
              "    <tr>\n",
              "      <th>0</th>\n",
              "      <td>1</td>\n",
              "      <td>24</td>\n",
              "      <td>0</td>\n",
              "      <td>2</td>\n",
              "      <td>7</td>\n",
              "      <td>0</td>\n",
              "      <td>2</td>\n",
              "      <td>5</td>\n",
              "      <td>44</td>\n",
              "      <td>1750.65</td>\n",
              "      <td>1</td>\n",
              "      <td>3.178054</td>\n",
              "      <td>3.243199</td>\n",
              "    </tr>\n",
              "    <tr>\n",
              "      <th>1</th>\n",
              "      <td>1</td>\n",
              "      <td>24</td>\n",
              "      <td>3</td>\n",
              "      <td>2</td>\n",
              "      <td>1</td>\n",
              "      <td>0</td>\n",
              "      <td>1</td>\n",
              "      <td>2</td>\n",
              "      <td>44</td>\n",
              "      <td>1002.30</td>\n",
              "      <td>0</td>\n",
              "      <td>3.178054</td>\n",
              "      <td>3.000998</td>\n",
              "    </tr>\n",
              "    <tr>\n",
              "      <th>2</th>\n",
              "      <td>0</td>\n",
              "      <td>25</td>\n",
              "      <td>2</td>\n",
              "      <td>2</td>\n",
              "      <td>8</td>\n",
              "      <td>0</td>\n",
              "      <td>4</td>\n",
              "      <td>2</td>\n",
              "      <td>44</td>\n",
              "      <td>1370.14</td>\n",
              "      <td>0</td>\n",
              "      <td>3.218876</td>\n",
              "      <td>3.136765</td>\n",
              "    </tr>\n",
              "    <tr>\n",
              "      <th>3</th>\n",
              "      <td>1</td>\n",
              "      <td>54</td>\n",
              "      <td>2</td>\n",
              "      <td>2</td>\n",
              "      <td>5</td>\n",
              "      <td>0</td>\n",
              "      <td>4</td>\n",
              "      <td>2</td>\n",
              "      <td>44</td>\n",
              "      <td>1854.68</td>\n",
              "      <td>1</td>\n",
              "      <td>3.988984</td>\n",
              "      <td>3.268269</td>\n",
              "    </tr>\n",
              "    <tr>\n",
              "      <th>4</th>\n",
              "      <td>1</td>\n",
              "      <td>40</td>\n",
              "      <td>2</td>\n",
              "      <td>2</td>\n",
              "      <td>1</td>\n",
              "      <td>0</td>\n",
              "      <td>4</td>\n",
              "      <td>2</td>\n",
              "      <td>0</td>\n",
              "      <td>1126.23</td>\n",
              "      <td>0</td>\n",
              "      <td>3.688879</td>\n",
              "      <td>3.051627</td>\n",
              "    </tr>\n",
              "  </tbody>\n",
              "</table>\n",
              "</div>\n",
              "      <button class=\"colab-df-convert\" onclick=\"convertToInteractive('df-13612f40-da93-4d22-81b1-220d0f611dee')\"\n",
              "              title=\"Convert this dataframe to an interactive table.\"\n",
              "              style=\"display:none;\">\n",
              "        \n",
              "  <svg xmlns=\"http://www.w3.org/2000/svg\" height=\"24px\"viewBox=\"0 0 24 24\"\n",
              "       width=\"24px\">\n",
              "    <path d=\"M0 0h24v24H0V0z\" fill=\"none\"/>\n",
              "    <path d=\"M18.56 5.44l.94 2.06.94-2.06 2.06-.94-2.06-.94-.94-2.06-.94 2.06-2.06.94zm-11 1L8.5 8.5l.94-2.06 2.06-.94-2.06-.94L8.5 2.5l-.94 2.06-2.06.94zm10 10l.94 2.06.94-2.06 2.06-.94-2.06-.94-.94-2.06-.94 2.06-2.06.94z\"/><path d=\"M17.41 7.96l-1.37-1.37c-.4-.4-.92-.59-1.43-.59-.52 0-1.04.2-1.43.59L10.3 9.45l-7.72 7.72c-.78.78-.78 2.05 0 2.83L4 21.41c.39.39.9.59 1.41.59.51 0 1.02-.2 1.41-.59l7.78-7.78 2.81-2.81c.8-.78.8-2.07 0-2.86zM5.41 20L4 18.59l7.72-7.72 1.47 1.35L5.41 20z\"/>\n",
              "  </svg>\n",
              "      </button>\n",
              "      \n",
              "  <style>\n",
              "    .colab-df-container {\n",
              "      display:flex;\n",
              "      flex-wrap:wrap;\n",
              "      gap: 12px;\n",
              "    }\n",
              "\n",
              "    .colab-df-convert {\n",
              "      background-color: #E8F0FE;\n",
              "      border: none;\n",
              "      border-radius: 50%;\n",
              "      cursor: pointer;\n",
              "      display: none;\n",
              "      fill: #1967D2;\n",
              "      height: 32px;\n",
              "      padding: 0 0 0 0;\n",
              "      width: 32px;\n",
              "    }\n",
              "\n",
              "    .colab-df-convert:hover {\n",
              "      background-color: #E2EBFA;\n",
              "      box-shadow: 0px 1px 2px rgba(60, 64, 67, 0.3), 0px 1px 3px 1px rgba(60, 64, 67, 0.15);\n",
              "      fill: #174EA6;\n",
              "    }\n",
              "\n",
              "    [theme=dark] .colab-df-convert {\n",
              "      background-color: #3B4455;\n",
              "      fill: #D2E3FC;\n",
              "    }\n",
              "\n",
              "    [theme=dark] .colab-df-convert:hover {\n",
              "      background-color: #434B5C;\n",
              "      box-shadow: 0px 1px 3px 1px rgba(0, 0, 0, 0.15);\n",
              "      filter: drop-shadow(0px 1px 2px rgba(0, 0, 0, 0.3));\n",
              "      fill: #FFFFFF;\n",
              "    }\n",
              "  </style>\n",
              "\n",
              "      <script>\n",
              "        const buttonEl =\n",
              "          document.querySelector('#df-13612f40-da93-4d22-81b1-220d0f611dee button.colab-df-convert');\n",
              "        buttonEl.style.display =\n",
              "          google.colab.kernel.accessAllowed ? 'block' : 'none';\n",
              "\n",
              "        async function convertToInteractive(key) {\n",
              "          const element = document.querySelector('#df-13612f40-da93-4d22-81b1-220d0f611dee');\n",
              "          const dataTable =\n",
              "            await google.colab.kernel.invokeFunction('convertToInteractive',\n",
              "                                                     [key], {});\n",
              "          if (!dataTable) return;\n",
              "\n",
              "          const docLinkHtml = 'Like what you see? Visit the ' +\n",
              "            '<a target=\"_blank\" href=https://colab.research.google.com/notebooks/data_table.ipynb>data table notebook</a>'\n",
              "            + ' to learn more about interactive tables.';\n",
              "          element.innerHTML = '';\n",
              "          dataTable['output_type'] = 'display_data';\n",
              "          await google.colab.output.renderOutput(dataTable, element);\n",
              "          const docLink = document.createElement('div');\n",
              "          docLink.innerHTML = docLinkHtml;\n",
              "          element.appendChild(docLink);\n",
              "        }\n",
              "      </script>\n",
              "    </div>\n",
              "  </div>\n",
              "  "
            ]
          },
          "metadata": {},
          "execution_count": 43
        }
      ]
    },
    {
      "cell_type": "markdown",
      "source": [
        "* Testando combinações de variáveis.\n",
        "  * contrato_horastrabalho_log e contrato_salario_log\n",
        "  * contrato_horastrabalho_log e contrato_salario\n",
        "  * contrato_horastrabalho     e contrato_salario_log\n",
        "  * contrato_horastrabalho     e contrato_salario_log"
      ],
      "metadata": {
        "id": "HpXiM1pjysDe"
      }
    },
    {
      "cell_type": "code",
      "source": [
        "df1_1 = df1.copy()\n",
        "df1_2 = df1.copy()\n",
        "df1_3 = df1.copy()\n",
        "df1_4 = df1.copy()"
      ],
      "metadata": {
        "id": "RKn4tQubQHIU"
      },
      "execution_count": null,
      "outputs": []
    },
    {
      "cell_type": "code",
      "source": [
        "col1 = ['func_idade' ,'contrato_salario']\n",
        "col2 = ['func_idade' ,'contrato_salario_log']\n",
        "col3 = ['func_idade_log' ,'contrato_salario']\n",
        "col4 = ['func_idade_log' ,'contrato_salario_log']"
      ],
      "metadata": {
        "id": "wo6SGW6FzUOE"
      },
      "execution_count": null,
      "outputs": []
    },
    {
      "cell_type": "code",
      "source": [
        "df1_1 = df1.drop(columns = col1)\n",
        "df1_2 = df1.drop(columns = col2)\n",
        "df1_3 = df1.drop(columns = col3)\n",
        "df1_4 = df1.drop(columns = col4)"
      ],
      "metadata": {
        "id": "hIOcXqA6zUQx"
      },
      "execution_count": null,
      "outputs": []
    },
    {
      "cell_type": "code",
      "source": [
        "kf = KFold(n_splits=10, random_state=5, shuffle=True) "
      ],
      "metadata": {
        "id": "oYNWO149zoov"
      },
      "execution_count": null,
      "outputs": []
    },
    {
      "cell_type": "code",
      "source": [
        "X_train1  = df1_1.drop(columns='turnover_apos_1_ano')\n",
        "X_train2 = df1_2.drop(columns='turnover_apos_1_ano')\n",
        "X_train3 = df1_3.drop(columns='turnover_apos_1_ano')\n",
        "X_train4 = df1_4.drop(columns='turnover_apos_1_ano')\n",
        "\n",
        "y_train = df1['turnover_apos_1_ano']"
      ],
      "metadata": {
        "id": "dHuOB06azork"
      },
      "execution_count": null,
      "outputs": []
    },
    {
      "cell_type": "code",
      "source": [
        "acerto_v1    = np.zeros(10)\n",
        "acerto_v2    = np.zeros(10)\n",
        "acerto_v3    = np.zeros(10)\n",
        "acerto_v4    = np.zeros(10)\n",
        "j = 0\n",
        "for linhas_treino, linhas_valid in kf.split(X_train1):\n",
        "  acerto_v1[j] =  resultados(X_train1,y_train,linhas_treino,linhas_valid,0,0,'Dataframe')\n",
        "  acerto_v2[j] =  resultados(X_train2,y_train,linhas_treino,linhas_valid,0,0,'Dataframe')\n",
        "  acerto_v3[j] =  resultados(X_train3,y_train,linhas_treino,linhas_valid,0,0,'Dataframe')\n",
        "  acerto_v4[j] =  resultados(X_train4,y_train,linhas_treino,linhas_valid,0,0,'Dataframe')\n",
        "  \n",
        "  j = j = j+1\n",
        "\n",
        "  print('\\n')\n",
        "\n",
        "print('dataset 1_1 f1-score:    ',np.format_float_positional(np.mean(acerto_v1),5),' erro:',np.format_float_positional(np.std(acerto_v1)/np.sqrt(10),5),' desvio padrão:',np.format_float_positional(np.std(acerto_v1),5))\n",
        "print('dataset 1_2 f1-score:    ',np.format_float_positional(np.mean(acerto_v2),5),' erro:',np.format_float_positional(np.std(acerto_v2)/np.sqrt(10),5),' desivo padrão:',np.format_float_positional(np.std(acerto_v2),5))\n",
        "print('dataset 1_3 f1-score:    ',np.format_float_positional(np.mean(acerto_v3),5),' erro:',np.format_float_positional(np.std(acerto_v3)/np.sqrt(10),5),' desvio padrão:',np.format_float_positional(np.std(acerto_v3),5))\n",
        "print('dataset 1_4 f1-score:    ',np.format_float_positional(np.mean(acerto_v4),5),' erro:',np.format_float_positional(np.std(acerto_v4)/np.sqrt(10),5),' desvio padrão:',np.format_float_positional(np.std(acerto_v4),5))\n",
        "\n",
        "print('\\n')"
      ],
      "metadata": {
        "colab": {
          "base_uri": "https://localhost:8080/"
        },
        "id": "CnNaDo0Bzou-",
        "outputId": "79789df7-c30d-4cf0-c8ee-ac99b50e2908"
      },
      "execution_count": null,
      "outputs": [
        {
          "output_type": "stream",
          "name": "stdout",
          "text": [
            "f1_score 0.78002\n",
            "f1_score 0.77845\n",
            "f1_score 0.77565\n",
            "f1_score 0.77672\n",
            "\n",
            "\n",
            "f1_score 0.76611\n",
            "f1_score 0.77522\n",
            "f1_score 0.78472\n",
            "f1_score 0.78435\n",
            "\n",
            "\n",
            "f1_score 0.80175\n",
            "f1_score 0.79825\n",
            "f1_score 0.79965\n",
            "f1_score 0.79861\n",
            "\n",
            "\n",
            "f1_score 0.7861\n",
            "f1_score 0.79218\n",
            "f1_score 0.77196\n",
            "f1_score 0.77196\n",
            "\n",
            "\n",
            "f1_score 0.76541\n",
            "f1_score 0.75345\n",
            "f1_score 0.75685\n",
            "f1_score 0.75685\n",
            "\n",
            "\n",
            "f1_score 0.78345\n",
            "f1_score 0.77895\n",
            "f1_score 0.77261\n",
            "f1_score 0.77301\n",
            "\n",
            "\n",
            "f1_score 0.77345\n",
            "f1_score 0.78053\n",
            "f1_score 0.77317\n",
            "f1_score 0.77317\n",
            "\n",
            "\n",
            "f1_score 0.77995\n",
            "f1_score 0.77238\n",
            "f1_score 0.78475\n",
            "f1_score 0.78475\n",
            "\n",
            "\n",
            "f1_score 0.73665\n",
            "f1_score 0.74368\n",
            "f1_score 0.74573\n",
            "f1_score 0.74640\n",
            "\n",
            "\n",
            "f1_score 0.7393\n",
            "f1_score 0.74757\n",
            "f1_score 0.73275\n",
            "f1_score 0.73346\n",
            "\n",
            "\n",
            "dataset 1_1 f1-score:     0.77122  erro: 0.00611  desvio padrão: 0.01933\n",
            "dataset 1_2 f1-score:     0.77207  erro: 0.00549  desivo padrão: 0.01736\n",
            "dataset 1_3 f1-score:     0.76978  erro: 0.00593  desvio padrão: 0.01875\n",
            "dataset 1_4 f1-score:     0.76993  erro: 0.00581  desvio padrão: 0.01837\n",
            "\n",
            "\n"
          ]
        }
      ]
    },
    {
      "cell_type": "markdown",
      "source": [
        "### Segundo teste: Codificando as variáveis pelo get_dummies .\n",
        "\n",
        "* Será repetido o primeiro teste, só que agora as variáveis seram codificadas pelo get_dummies."
      ],
      "metadata": {
        "id": "AbUZiXkb5mTv"
      }
    },
    {
      "cell_type": "code",
      "source": [
        "df2 = df_aux.copy()\n",
        "col = df_aux.columns[df_aux.dtypes == 'object']"
      ],
      "metadata": {
        "id": "jcgjhFdF6SiC"
      },
      "execution_count": null,
      "outputs": []
    },
    {
      "cell_type": "code",
      "source": [
        "df2 = df2.join(pd.get_dummies(df2[col], prefix=col))"
      ],
      "metadata": {
        "id": "LOtLGbaa6kQt"
      },
      "execution_count": null,
      "outputs": []
    },
    {
      "cell_type": "code",
      "source": [
        "df2 = df2.drop(columns = col)"
      ],
      "metadata": {
        "id": "m9jpdxe68niP"
      },
      "execution_count": null,
      "outputs": []
    },
    {
      "cell_type": "code",
      "source": [
        "df2_1 = df2.drop(columns = col1)\n",
        "df2_2 = df2.drop(columns = col2)\n",
        "df2_3 = df2.drop(columns = col3)\n",
        "df2_4 = df2.drop(columns = col4)"
      ],
      "metadata": {
        "id": "s8M00-SO6NdH"
      },
      "execution_count": null,
      "outputs": []
    },
    {
      "cell_type": "code",
      "source": [
        "X_train1 = df2_1.drop(columns='turnover_apos_1_ano')\n",
        "X_train2 = df2_2.drop(columns='turnover_apos_1_ano')\n",
        "X_train3 = df2_3.drop(columns='turnover_apos_1_ano')\n",
        "X_train4 = df2_4.drop(columns='turnover_apos_1_ano')\n",
        "\n",
        "y_train = df2['turnover_apos_1_ano']"
      ],
      "metadata": {
        "id": "E7eU4t0s6NpA"
      },
      "execution_count": null,
      "outputs": []
    },
    {
      "cell_type": "code",
      "source": [
        "acerto_v1    = np.zeros(10)\n",
        "acerto_v2    = np.zeros(10)\n",
        "acerto_v3    = np.zeros(10)\n",
        "acerto_v4    = np.zeros(10)\n",
        "j = 0\n",
        "for linhas_treino, linhas_valid in kf.split(X_train1):\n",
        "  acerto_v1[j] =  resultados(X_train1,y_train,linhas_treino,linhas_valid,0,0,'Dataframe')\n",
        "  acerto_v2[j] =  resultados(X_train2,y_train,linhas_treino,linhas_valid,0,0,'Dataframe')\n",
        "  acerto_v3[j] =  resultados(X_train3,y_train,linhas_treino,linhas_valid,0,0,'Dataframe')\n",
        "  acerto_v4[j] =  resultados(X_train4,y_train,linhas_treino,linhas_valid,0,0,'Dataframe')\n",
        "  print('\\n')\n",
        "  \n",
        "  j = j = j+1\n",
        "\n",
        "print('dataset 2_1 f1-score:    ',np.format_float_positional(np.mean(acerto_v1),5),' erro:',np.format_float_positional(np.std(acerto_v1)/np.sqrt(10),5),' desvio padrão:',np.format_float_positional(np.std(acerto_v1),5))\n",
        "print('dataset 2_2 f1-score:    ',np.format_float_positional(np.mean(acerto_v2),5),' erro:',np.format_float_positional(np.std(acerto_v2)/np.sqrt(10),5),' desivo padrão:',np.format_float_positional(np.std(acerto_v2),5))\n",
        "print('dataset 2_3 f1-score:    ',np.format_float_positional(np.mean(acerto_v3),5),' erro:',np.format_float_positional(np.std(acerto_v3)/np.sqrt(10),5),' desvio padrão:',np.format_float_positional(np.std(acerto_v3),5))\n",
        "print('dataset 2_4 f1-score:    ',np.format_float_positional(np.mean(acerto_v4),5),' erro:',np.format_float_positional(np.std(acerto_v4)/np.sqrt(10),5),' desvio padrão:',np.format_float_positional(np.std(acerto_v4),5))\n",
        "\n",
        "print('\\n')"
      ],
      "metadata": {
        "colab": {
          "base_uri": "https://localhost:8080/"
        },
        "id": "kwZUNhY0zoxC",
        "outputId": "8ed15570-e953-4084-908f-e915245cd7b5"
      },
      "execution_count": null,
      "outputs": [
        {
          "output_type": "stream",
          "name": "stdout",
          "text": [
            "f1_score 0.77285\n",
            "f1_score 0.77408\n",
            "f1_score 0.77419\n",
            "f1_score 0.77205\n",
            "\n",
            "\n",
            "f1_score 0.7766\n",
            "f1_score 0.77573\n",
            "f1_score 0.76759\n",
            "f1_score 0.76649\n",
            "\n",
            "\n",
            "f1_score 0.80106\n",
            "f1_score 0.7861\n",
            "f1_score 0.78261\n",
            "f1_score 0.78261\n",
            "\n",
            "\n",
            "f1_score 0.76909\n",
            "f1_score 0.76465\n",
            "f1_score 0.77033\n",
            "f1_score 0.77102\n",
            "\n",
            "\n",
            "f1_score 0.75217\n",
            "f1_score 0.74567\n",
            "f1_score 0.75345\n",
            "f1_score 0.75345\n",
            "\n",
            "\n",
            "f1_score 0.78376\n",
            "f1_score 0.7767\n",
            "f1_score 0.77059\n",
            "f1_score 0.77277\n",
            "\n",
            "\n",
            "f1_score 0.75993\n",
            "f1_score 0.75931\n",
            "f1_score 0.75769\n",
            "f1_score 0.75475\n",
            "\n",
            "\n",
            "f1_score 0.77150\n",
            "f1_score 0.76990\n",
            "f1_score 0.77138\n",
            "f1_score 0.77098\n",
            "\n",
            "\n",
            "f1_score 0.73869\n",
            "f1_score 0.75862\n",
            "f1_score 0.75181\n",
            "f1_score 0.75294\n",
            "\n",
            "\n",
            "f1_score 0.74364\n",
            "f1_score 0.74455\n",
            "f1_score 0.74606\n",
            "f1_score 0.74533\n",
            "\n",
            "\n",
            "dataset 2_1 f1-score:     0.76693  erro: 0.00566  desvio padrão: 0.01791\n",
            "dataset 2_2 f1-score:     0.76553  erro: 0.00408  desivo padrão: 0.01290\n",
            "dataset 2_3 f1-score:     0.76457  erro: 0.00349  desvio padrão: 0.01104\n",
            "dataset 2_4 f1-score:     0.76424  erro: 0.00355  desvio padrão: 0.01122\n",
            "\n",
            "\n"
          ]
        }
      ]
    },
    {
      "cell_type": "markdown",
      "source": [
        " \n",
        "### Terceiro teste: Tratando  contrato_horastrabalho.\n",
        " \n",
        "* Conforme foi visto essa variável existe dois problemas:\n",
        " \n",
        " * Existe pessoas com 0 horas de trabalho. Logo, isso pode indicar dois casos: \n",
        "  * Existem pessoas trabalhando de forma temporária \n",
        "  * aAlgum erro aconteceu na hora que essa variável foi preenchida.\n",
        " * Foi visto que a maioria dos valores dessa variável estão preenchidas em apenas em um único lugar, isso pode ser prejudicial para algoritmo.\n",
        "\n",
        "* E como essa variável só possui números inteiros, talvez ela possa ser tratada como uma variável discreta. Isso implica que ela pode ser tratada de outra forma.\n",
        " \n",
        "* Por esse motivo será feito os seguintes testes:\n",
        " * Substituir as horas trabalhadas como 0 pela média dos dados.\n",
        " * Agrupar os dados, e representá-los utilizando as seguintes funções:\n",
        "   * Label encoder.\n",
        "   * get_dummies.\n",
        "   * Count encoder\n",
        "   * Target encoder\n",
        " \n",
        "* Aplicar as seguintes descretizações nos dados:\n",
        " * Count encoder\n",
        " * Target encoder.\n",
        " \n",
        " \n"
      ],
      "metadata": {
        "id": "d9db20qB96ZW"
      }
    },
    {
      "cell_type": "markdown",
      "source": [
        "**Tratando os dados com valores 0**"
      ],
      "metadata": {
        "id": "wwFIAjllJbx3"
      }
    },
    {
      "cell_type": "code",
      "source": [
        "print('Pessoas sem hora trabalhada',np.sum(df['contrato_horastrabalho'] == 0))"
      ],
      "metadata": {
        "colab": {
          "base_uri": "https://localhost:8080/"
        },
        "id": "CJ3puqp1C7TC",
        "outputId": "0bae7895-cc83-44e5-e5ca-f2b7694a46b0"
      },
      "execution_count": null,
      "outputs": [
        {
          "output_type": "stream",
          "name": "stdout",
          "text": [
            "Pessoas sem hora trabalhada 246\n"
          ]
        }
      ]
    },
    {
      "cell_type": "code",
      "source": [
        "df_t_media = df1_2.copy()\n",
        "df_t0      = df1_2.copy()"
      ],
      "metadata": {
        "id": "-LjBC9sR86vO"
      },
      "execution_count": null,
      "outputs": []
    },
    {
      "cell_type": "code",
      "source": [
        "df_t_media['contrato_horastrabalho'].loc[df_t_media['contrato_horastrabalho'] == 0] =df_t_media['contrato_horastrabalho'].loc[df_t_media['contrato_horastrabalho'] > 0].mean()"
      ],
      "metadata": {
        "colab": {
          "base_uri": "https://localhost:8080/"
        },
        "id": "l-F-QE8EEY6D",
        "outputId": "d054adef-588c-4dcd-d2b7-6823564e61a4"
      },
      "execution_count": null,
      "outputs": [
        {
          "output_type": "stream",
          "name": "stderr",
          "text": [
            "/usr/local/lib/python3.7/dist-packages/pandas/core/indexing.py:1732: SettingWithCopyWarning: \n",
            "A value is trying to be set on a copy of a slice from a DataFrame\n",
            "\n",
            "See the caveats in the documentation: https://pandas.pydata.org/pandas-docs/stable/user_guide/indexing.html#returning-a-view-versus-a-copy\n",
            "  self._setitem_single_block(indexer, value, name)\n"
          ]
        }
      ]
    },
    {
      "cell_type": "code",
      "source": [
        "np.sum(df_t_media['contrato_horastrabalho'] == 0)"
      ],
      "metadata": {
        "colab": {
          "base_uri": "https://localhost:8080/"
        },
        "id": "w-41j-a0E2gJ",
        "outputId": "3eb323d5-6884-439f-ae95-4e7e3e6ce342"
      },
      "execution_count": null,
      "outputs": [
        {
          "output_type": "execute_result",
          "data": {
            "text/plain": [
              "0"
            ]
          },
          "metadata": {},
          "execution_count": 59
        }
      ]
    },
    {
      "cell_type": "code",
      "source": [
        "X_train2  = df_t0.drop(columns='turnover_apos_1_ano')\n",
        "X_train1  = df_t_media.drop(columns='turnover_apos_1_ano')\n",
        "y_train   = df_t_media['turnover_apos_1_ano']"
      ],
      "metadata": {
        "id": "YmN728sqJYsE"
      },
      "execution_count": null,
      "outputs": []
    },
    {
      "cell_type": "code",
      "source": [
        "acerto_v1t    = np.zeros(10)\n",
        "acerto_v2t    = np.zeros(10)\n",
        "j = 0\n",
        "for linhas_treino, linhas_valid in kf.split(X_train1):\n",
        "  acerto_v1t[j] =  resultados(X_train1,y_train,linhas_treino,linhas_valid,0,0,'Dataframe')\n",
        "  acerto_v2t[j] =  resultados(X_train2,y_train,linhas_treino,linhas_valid,0,0,'Dataframe')\n",
        "  print('\\n')\n",
        "\n",
        "\n",
        "  j = j = j+1\n",
        "\n",
        "print('dataset t_media f1-score:    ',np.format_float_positional(np.mean(acerto_v1t),5),' erro:',np.format_float_positional(np.std(acerto_v1t)/np.sqrt(10),5),' desvio padrão:',np.format_float_positional(np.std(acerto_v1t),5))\n",
        "print('dataset t_0     f1-score:    ',np.format_float_positional(np.mean(acerto_v2t),5),' erro:',np.format_float_positional(np.std(acerto_v2t)/np.sqrt(10),5),' desivo padrão:',np.format_float_positional(np.std(acerto_v2t),5))\n",
        "print('\\n')"
      ],
      "metadata": {
        "colab": {
          "base_uri": "https://localhost:8080/"
        },
        "id": "SRUALSh2JY0j",
        "outputId": "9e99a688-0b42-4160-fa8b-7db4af2ed119"
      },
      "execution_count": null,
      "outputs": [
        {
          "output_type": "stream",
          "name": "stdout",
          "text": [
            "f1_score 0.78819\n",
            "f1_score 0.77845\n",
            "\n",
            "\n",
            "f1_score 0.76558\n",
            "f1_score 0.77522\n",
            "\n",
            "\n",
            "f1_score 0.80314\n",
            "f1_score 0.79825\n",
            "\n",
            "\n",
            "f1_score 0.77046\n",
            "f1_score 0.79218\n",
            "\n",
            "\n",
            "f1_score 0.75928\n",
            "f1_score 0.75345\n",
            "\n",
            "\n",
            "f1_score 0.79225\n",
            "f1_score 0.77895\n",
            "\n",
            "\n",
            "f1_score 0.76497\n",
            "f1_score 0.78053\n",
            "\n",
            "\n",
            "f1_score 0.76831\n",
            "f1_score 0.77238\n",
            "\n",
            "\n",
            "f1_score 0.74751\n",
            "f1_score 0.74368\n",
            "\n",
            "\n",
            "f1_score 0.73373\n",
            "f1_score 0.74757\n",
            "\n",
            "\n",
            "dataset t_media f1-score:     0.76934  erro: 0.00625  desvio padrão: 0.01976\n",
            "dataset t_0     f1-score:     0.77207  erro: 0.00549  desivo padrão: 0.01736\n",
            "\n",
            "\n"
          ]
        }
      ]
    },
    {
      "cell_type": "markdown",
      "source": [
        "**Agrupando os dados**\n",
        "\n",
        "* Sem tratar os daddos iguais a 0\n",
        "\n"
      ],
      "metadata": {
        "id": "gVhupFQXLMSj"
      }
    },
    {
      "cell_type": "code",
      "source": [
        "df_tm = df_t0.copy()"
      ],
      "metadata": {
        "id": "qz8nOamzJY9t"
      },
      "execution_count": null,
      "outputs": []
    },
    {
      "cell_type": "code",
      "source": [
        "df_tm['contrato_horastrabalho']= pd.cut(df_tm[\"contrato_horastrabalho\"], bins= 12)"
      ],
      "metadata": {
        "id": "PAPW02ZW86yg"
      },
      "execution_count": null,
      "outputs": []
    },
    {
      "cell_type": "code",
      "source": [
        "df_t1 = df_tm.copy()\n",
        "df_t2 = df_tm.copy()\n",
        "df_t3 = df_tm.copy()\n",
        "df_t4 = df_tm.copy()"
      ],
      "metadata": {
        "id": "WNo4qV8pBbxL"
      },
      "execution_count": null,
      "outputs": []
    },
    {
      "cell_type": "code",
      "source": [
        "df_t1 = encoder_var(df_t1,0)\n",
        "df_t2 = df_t2.join(pd.get_dummies(df_t2['contrato_horastrabalho'], prefix=['contrato_horastrabalho']))"
      ],
      "metadata": {
        "id": "-LxhCCVl862p"
      },
      "execution_count": null,
      "outputs": []
    },
    {
      "cell_type": "code",
      "source": [
        "df_t2 = df_t2.drop(columns = 'contrato_horastrabalho')"
      ],
      "metadata": {
        "id": "v6EG3vIcIGYW"
      },
      "execution_count": null,
      "outputs": []
    },
    {
      "cell_type": "code",
      "source": [
        "X_train4  = df_t4.drop(columns='turnover_apos_1_ano')\n",
        "X_train3  = df_t3.drop(columns='turnover_apos_1_ano')\n",
        "X_train2  = df_t2.drop(columns='turnover_apos_1_ano')\n",
        "X_train1  = df_t1.drop(columns='turnover_apos_1_ano')\n",
        "y_train   = df_t_media['turnover_apos_1_ano']"
      ],
      "metadata": {
        "id": "GMJ7q1oe-108"
      },
      "execution_count": null,
      "outputs": []
    },
    {
      "cell_type": "code",
      "source": [
        "acerto_v1t    = np.zeros(10)\n",
        "acerto_v2t    = np.zeros(10)\n",
        "acerto_v3t    = np.zeros(10)\n",
        "acerto_v4t    = np.zeros(10)\n",
        "j = 0\n",
        "for linhas_treino, linhas_valid in kf.split(X_train1):\n",
        "  acerto_v1t[j] =  resultados(X_train1,y_train,linhas_treino,linhas_valid,0,0,'Dataframe')\n",
        "  acerto_v2t[j] =  resultados(X_train2,y_train,linhas_treino,linhas_valid,0,0,'Dataframe')\n",
        "  acerto_v3t[j] =  resultados(X_train3,y_train,linhas_treino,linhas_valid,'CountEncoder','contrato_horastrabalho','Dataframe')\n",
        "  acerto_v4t[j] =  resultados(X_train4,y_train,linhas_treino,linhas_valid,'TargetEncoder','contrato_horastrabalho','Dataframe')\n",
        "  print('\\n')\n",
        "\n",
        "  j = j = j+1\n",
        "\n",
        "print('dataset t_1 f1-score:    ',np.format_float_positional(np.mean(acerto_v1t),5),' erro:',np.format_float_positional(np.std(acerto_v1t)/np.sqrt(10),5),' desvio padrão:',np.format_float_positional(np.std(acerto_v1t),5))\n",
        "print('dataset t_2 f1-score:    ',np.format_float_positional(np.mean(acerto_v2t),5),' erro:',np.format_float_positional(np.std(acerto_v2t)/np.sqrt(10),5),' desivo padrão:',np.format_float_positional(np.std(acerto_v2t),5))\n",
        "print('dataset t_3 f1-score:    ',np.format_float_positional(np.mean(acerto_v3t),5),' erro:',np.format_float_positional(np.std(acerto_v3t)/np.sqrt(10),5),' desivo padrão:',np.format_float_positional(np.std(acerto_v3t),5))\n",
        "print('dataset t_4 f1-score:    ',np.format_float_positional(np.mean(acerto_v4t),5),' erro:',np.format_float_positional(np.std(acerto_v4t)/np.sqrt(10),5),' desivo padrão:',np.format_float_positional(np.std(acerto_v4t),5))\n",
        "print('\\n')"
      ],
      "metadata": {
        "colab": {
          "base_uri": "https://localhost:8080/"
        },
        "id": "9ohh_AJT-19S",
        "outputId": "e2dba76e-6f31-4475-fc27-c0360b302bed"
      },
      "execution_count": null,
      "outputs": [
        {
          "output_type": "stream",
          "name": "stdout",
          "text": [
            "f1_score 0.78322\n",
            "f1_score 0.78010\n",
            "f1_score 0.78993\n",
            "f1_score 0.77778\n",
            "\n",
            "\n",
            "f1_score 0.77699\n",
            "f1_score 0.77305\n",
            "f1_score 0.77807\n",
            "f1_score 0.77846\n",
            "\n",
            "\n",
            "f1_score 0.80382\n",
            "f1_score 0.79617\n",
            "f1_score 0.80314\n",
            "f1_score 0.78906\n",
            "\n",
            "\n",
            "f1_score 0.7861\n",
            "f1_score 0.78044\n",
            "f1_score 0.78873\n",
            "f1_score 0.78477\n",
            "\n",
            "\n",
            "f1_score 0.75820\n",
            "f1_score 0.75773\n",
            "f1_score 0.7588\n",
            "f1_score 0.75494\n",
            "\n",
            "\n",
            "f1_score 0.78032\n",
            "f1_score 0.77562\n",
            "f1_score 0.78147\n",
            "f1_score 0.77454\n",
            "\n",
            "\n",
            "f1_score 0.77906\n",
            "f1_score 0.77128\n",
            "f1_score 0.76678\n",
            "f1_score 0.76678\n",
            "\n",
            "\n",
            "f1_score 0.77292\n",
            "f1_score 0.77558\n",
            "f1_score 0.77653\n",
            "f1_score 0.77797\n",
            "\n",
            "\n",
            "f1_score 0.74457\n",
            "f1_score 0.74385\n",
            "f1_score 0.75837\n",
            "f1_score 0.74638\n",
            "\n",
            "\n",
            "f1_score 0.72125\n",
            "f1_score 0.73137\n",
            "f1_score 0.73398\n",
            "f1_score 0.72798\n",
            "\n",
            "\n",
            "dataset t_1 f1-score:     0.77064  erro: 0.00706  desvio padrão: 0.02232\n",
            "dataset t_2 f1-score:     0.76852  erro: 0.00572  desivo padrão: 0.01809\n",
            "dataset t_3 f1-score:     0.77358  erro: 0.00594  desivo padrão: 0.01878\n",
            "dataset t_4 f1-score:     0.76787  erro: 0.00576  desivo padrão: 0.0182\n",
            "\n",
            "\n"
          ]
        }
      ]
    },
    {
      "cell_type": "markdown",
      "source": [
        "**Agrupando os dados**\n",
        "\n",
        "* tratando os dados iguais a 0\n",
        "\n"
      ],
      "metadata": {
        "id": "jTdoOlobO3q1"
      }
    },
    {
      "cell_type": "code",
      "source": [
        "df_tm = df_t_media.copy()"
      ],
      "metadata": {
        "id": "dvFjYWkJO9P5"
      },
      "execution_count": null,
      "outputs": []
    },
    {
      "cell_type": "code",
      "source": [
        "\n",
        "df_tm['contrato_horastrabalho']= pd.cut(df_tm[\"contrato_horastrabalho\"], bins= 12)\n"
      ],
      "metadata": {
        "id": "tTAh7lhtPBU1"
      },
      "execution_count": null,
      "outputs": []
    },
    {
      "cell_type": "code",
      "source": [
        "df_t1 = df_tm.copy()\n",
        "df_t2 = df_tm.copy()\n",
        "df_t3 = df_tm.copy()\n",
        "df_t4 = df_tm.copy()"
      ],
      "metadata": {
        "id": "oHATsc4AQmM4"
      },
      "execution_count": null,
      "outputs": []
    },
    {
      "cell_type": "code",
      "source": [
        "df_t1 = encoder_var(df_t1,0)\n",
        "df_t2 = df_t2.join(pd.get_dummies(df_t2['contrato_horastrabalho'], prefix=['contrato_horastrabalho']))"
      ],
      "metadata": {
        "id": "FOVRhcAsQmO1"
      },
      "execution_count": null,
      "outputs": []
    },
    {
      "cell_type": "code",
      "source": [
        "df_t2 = df_t2.drop(columns = 'contrato_horastrabalho')"
      ],
      "metadata": {
        "id": "C4aPmCXDQmRL"
      },
      "execution_count": null,
      "outputs": []
    },
    {
      "cell_type": "code",
      "source": [
        "X_train4  = df_t4.drop(columns='turnover_apos_1_ano')\n",
        "X_train3  = df_t3.drop(columns='turnover_apos_1_ano')\n",
        "X_train2  = df_t2.drop(columns='turnover_apos_1_ano')\n",
        "X_train1  = df_t1.drop(columns='turnover_apos_1_ano')\n",
        "y_train   = df_t_media['turnover_apos_1_ano']"
      ],
      "metadata": {
        "id": "V64Us6cARANT"
      },
      "execution_count": null,
      "outputs": []
    },
    {
      "cell_type": "code",
      "source": [
        "acerto_v1t    = np.zeros(10)\n",
        "acerto_v2t    = np.zeros(10)\n",
        "acerto_v3t    = np.zeros(10)\n",
        "acerto_v4t    = np.zeros(10)\n",
        "j = 0\n",
        "for linhas_treino, linhas_valid in kf.split(X_train1):\n",
        "  acerto_v1t[j] =  resultados(X_train1,y_train,linhas_treino,linhas_valid,0,0,'Dataframe')\n",
        "  acerto_v2t[j] =  resultados(X_train2,y_train,linhas_treino,linhas_valid,0,0,'Dataframe')\n",
        "  acerto_v3t[j] =  resultados(X_train3,y_train,linhas_treino,linhas_valid,'CountEncoder','contrato_horastrabalho','Dataframe')\n",
        "  acerto_v4t[j] =  resultados(X_train4,y_train,linhas_treino,linhas_valid,'TargetEncoder','contrato_horastrabalho','Dataframe')\n",
        "  print('\\n')\n",
        "\n",
        "  j = j = j+1\n",
        "\n",
        "print('dataset t_1 f1-score:    ',np.format_float_positional(np.mean(acerto_v1t),5),' erro:',np.format_float_positional(np.std(acerto_v1t)/np.sqrt(10),5),' desvio padrão:',np.format_float_positional(np.std(acerto_v1t),5))\n",
        "print('dataset t_2 f1-score:    ',np.format_float_positional(np.mean(acerto_v2t),5),' erro:',np.format_float_positional(np.std(acerto_v2t)/np.sqrt(10),5),' desivo padrão:',np.format_float_positional(np.std(acerto_v2t),5))\n",
        "print('dataset t_3 f1-score:    ',np.format_float_positional(np.mean(acerto_v3t),5),' erro:',np.format_float_positional(np.std(acerto_v3t)/np.sqrt(10),5),' desivo padrão:',np.format_float_positional(np.std(acerto_v3t),5))\n",
        "print('dataset t_4 f1-score:    ',np.format_float_positional(np.mean(acerto_v4t),5),' erro:',np.format_float_positional(np.std(acerto_v4t)/np.sqrt(10),5),' desivo padrão:',np.format_float_positional(np.std(acerto_v4t),5))\n",
        "print('\\n')"
      ],
      "metadata": {
        "colab": {
          "base_uri": "https://localhost:8080/"
        },
        "id": "R1VKPfMRRAVI",
        "outputId": "bc320e9c-0e14-4fe8-c4fd-1cdd261604f4"
      },
      "execution_count": null,
      "outputs": [
        {
          "output_type": "stream",
          "name": "stdout",
          "text": [
            "f1_score 0.78528\n",
            "f1_score 0.79340\n",
            "f1_score 0.78207\n",
            "f1_score 0.7892\n",
            "\n",
            "\n",
            "f1_score 0.77408\n",
            "f1_score 0.77661\n",
            "f1_score 0.78131\n",
            "f1_score 0.77352\n",
            "\n",
            "\n",
            "f1_score 0.80246\n",
            "f1_score 0.78873\n",
            "f1_score 0.79825\n",
            "f1_score 0.79615\n",
            "\n",
            "\n",
            "f1_score 0.78169\n",
            "f1_score 0.78044\n",
            "f1_score 0.78131\n",
            "f1_score 0.79041\n",
            "\n",
            "\n",
            "f1_score 0.76607\n",
            "f1_score 0.75986\n",
            "f1_score 0.76607\n",
            "f1_score 0.76395\n",
            "\n",
            "\n",
            "f1_score 0.77562\n",
            "f1_score 0.7762\n",
            "f1_score 0.79167\n",
            "f1_score 0.77709\n",
            "\n",
            "\n",
            "f1_score 0.77442\n",
            "f1_score 0.76759\n",
            "f1_score 0.77236\n",
            "f1_score 0.76882\n",
            "\n",
            "\n",
            "f1_score 0.77597\n",
            "f1_score 0.76923\n",
            "f1_score 0.78395\n",
            "f1_score 0.76687\n",
            "\n",
            "\n",
            "f1_score 0.75136\n",
            "f1_score 0.74681\n",
            "f1_score 0.73973\n",
            "f1_score 0.74819\n",
            "\n",
            "\n",
            "f1_score 0.7534\n",
            "f1_score 0.73262\n",
            "f1_score 0.73766\n",
            "f1_score 0.74341\n",
            "\n",
            "\n",
            "dataset t_1 f1-score:     0.77403  erro: 0.00448  desvio padrão: 0.01415\n",
            "dataset t_2 f1-score:     0.76915  erro: 0.00559  desivo padrão: 0.01768\n",
            "dataset t_3 f1-score:     0.77344  erro: 0.00611  desivo padrão: 0.01931\n",
            "dataset t_4 f1-score:     0.77176  erro: 0.00523  desivo padrão: 0.01653\n",
            "\n",
            "\n"
          ]
        }
      ]
    },
    {
      "cell_type": "markdown",
      "source": [
        "**Sem agrupar os dados**\n",
        "\n",
        "Sem tratar os dados igual a 0."
      ],
      "metadata": {
        "id": "hpHl5lngRm23"
      }
    },
    {
      "cell_type": "code",
      "source": [
        "df_tm = df_t0.copy()"
      ],
      "metadata": {
        "id": "t-gCh7rpRruh"
      },
      "execution_count": null,
      "outputs": []
    },
    {
      "cell_type": "code",
      "source": [
        "df_t1 = df_tm.copy()\n",
        "df_t2 = df_tm.copy()"
      ],
      "metadata": {
        "id": "FWUkfUatRr1P"
      },
      "execution_count": null,
      "outputs": []
    },
    {
      "cell_type": "code",
      "source": [
        "X_train2  = df_t2.drop(columns='turnover_apos_1_ano')\n",
        "X_train1  = df_t1.drop(columns='turnover_apos_1_ano')\n",
        "y_train   = df_t_media['turnover_apos_1_ano']"
      ],
      "metadata": {
        "id": "DmSffAYRRr3C"
      },
      "execution_count": null,
      "outputs": []
    },
    {
      "cell_type": "code",
      "source": [
        "acerto_v1t    = np.zeros(10)\n",
        "acerto_v2t    = np.zeros(10)\n",
        "j = 0\n",
        "for linhas_treino, linhas_valid in kf.split(X_train1):\n",
        "  acerto_v1t[j] =  resultados(X_train1,y_train,linhas_treino,linhas_valid,'CountEncoder','contrato_horastrabalho','Dataframe')\n",
        "  acerto_v2t[j] =  resultados(X_train2,y_train,linhas_treino,linhas_valid,'TargetEncoder','contrato_horastrabalho','Dataframe')\n",
        "  print('\\n')\n",
        "\n",
        "  j = j = j+1\n",
        "\n",
        "print('dataset t_1 f1-score:    ',np.format_float_positional(np.mean(acerto_v1t),5),' erro:',np.format_float_positional(np.std(acerto_v1t)/np.sqrt(10),5),' desvio padrão:',np.format_float_positional(np.std(acerto_v1t),5))\n",
        "print('dataset t_2 f1-score:    ',np.format_float_positional(np.mean(acerto_v2t),5),' erro:',np.format_float_positional(np.std(acerto_v2t)/np.sqrt(10),5),' desivo padrão:',np.format_float_positional(np.std(acerto_v2t),5))\n",
        "print('\\n')"
      ],
      "metadata": {
        "colab": {
          "base_uri": "https://localhost:8080/"
        },
        "id": "lscKvj44SHmw",
        "outputId": "dea25123-b785-42d0-df87-a46e18e95265"
      },
      "execution_count": null,
      "outputs": [
        {
          "output_type": "stream",
          "name": "stdout",
          "text": [
            "f1_score 0.77845\n",
            "f1_score 0.77845\n",
            "\n",
            "\n",
            "f1_score 0.77522\n",
            "f1_score 0.77522\n",
            "\n",
            "\n",
            "f1_score 0.79825\n",
            "f1_score 0.79825\n",
            "\n",
            "\n",
            "f1_score 0.79218\n",
            "f1_score 0.79218\n",
            "\n",
            "\n",
            "f1_score 0.75345\n",
            "f1_score 0.75345\n",
            "\n",
            "\n",
            "f1_score 0.77895\n",
            "f1_score 0.77895\n",
            "\n",
            "\n",
            "f1_score 0.78053\n",
            "f1_score 0.78053\n",
            "\n",
            "\n",
            "f1_score 0.77238\n",
            "f1_score 0.77238\n",
            "\n",
            "\n",
            "f1_score 0.74368\n",
            "f1_score 0.74368\n",
            "\n",
            "\n",
            "f1_score 0.74757\n",
            "f1_score 0.74757\n",
            "\n",
            "\n",
            "dataset t_1 f1-score:     0.77207  erro: 0.00549  desvio padrão: 0.01736\n",
            "dataset t_2 f1-score:     0.77207  erro: 0.00549  desivo padrão: 0.01736\n",
            "\n",
            "\n"
          ]
        }
      ]
    },
    {
      "cell_type": "markdown",
      "source": [
        "**Sem agrupar os dados**\n",
        "\n",
        "Tratando os dados igual a 0."
      ],
      "metadata": {
        "id": "HkjhRW1XSoWx"
      }
    },
    {
      "cell_type": "code",
      "source": [
        "df_tm = df_t_media.copy()"
      ],
      "metadata": {
        "id": "HipkIU9KSHot"
      },
      "execution_count": null,
      "outputs": []
    },
    {
      "cell_type": "code",
      "source": [
        "df_t1 = df_tm.copy()\n",
        "df_t2 = df_tm.copy()"
      ],
      "metadata": {
        "id": "WbIvjJmWSxMe"
      },
      "execution_count": null,
      "outputs": []
    },
    {
      "cell_type": "code",
      "source": [
        "X_train2  = df_t2.drop(columns='turnover_apos_1_ano')\n",
        "X_train1  = df_t1.drop(columns='turnover_apos_1_ano')\n",
        "y_train   = df_t_media['turnover_apos_1_ano']"
      ],
      "metadata": {
        "id": "uAGCS2cqSxRb"
      },
      "execution_count": null,
      "outputs": []
    },
    {
      "cell_type": "code",
      "source": [
        "acerto_v1t    = np.zeros(10)\n",
        "acerto_v2t    = np.zeros(10)\n",
        "j = 0\n",
        "for linhas_treino, linhas_valid in kf.split(X_train1):\n",
        "  acerto_v1t[j] =  resultados(X_train1,y_train,linhas_treino,linhas_valid,'CountEncoder','contrato_horastrabalho','Dataframe')\n",
        "  acerto_v2t[j] =  resultados(X_train2,y_train,linhas_treino,linhas_valid,'TargetEncoder','contrato_horastrabalho','Dataframe')\n",
        "  print('\\n')\n",
        "\n",
        "  j = j = j+1\n",
        "\n",
        "print('dataset t_1 f1-score:    ',np.format_float_positional(np.mean(acerto_v1t),5),' erro:',np.format_float_positional(np.std(acerto_v1t)/np.sqrt(10),5),' desvio padrão:',np.format_float_positional(np.std(acerto_v1t),5))\n",
        "print('dataset t_2 f1-score:    ',np.format_float_positional(np.mean(acerto_v2t),5),' erro:',np.format_float_positional(np.std(acerto_v2t)/np.sqrt(10),5),' desivo padrão:',np.format_float_positional(np.std(acerto_v2t),5))\n",
        "print('\\n')"
      ],
      "metadata": {
        "colab": {
          "base_uri": "https://localhost:8080/"
        },
        "id": "YX70m0lXS3Ce",
        "outputId": "d328da45-c516-414d-e4bf-f1169b4a8e3b"
      },
      "execution_count": null,
      "outputs": [
        {
          "output_type": "stream",
          "name": "stdout",
          "text": [
            "f1_score 0.78819\n",
            "f1_score 0.78819\n",
            "\n",
            "\n",
            "f1_score 0.76558\n",
            "f1_score 0.76558\n",
            "\n",
            "\n",
            "f1_score 0.80314\n",
            "f1_score 0.80314\n",
            "\n",
            "\n",
            "f1_score 0.77046\n",
            "f1_score 0.77046\n",
            "\n",
            "\n",
            "f1_score 0.75928\n",
            "f1_score 0.75928\n",
            "\n",
            "\n",
            "f1_score 0.79225\n",
            "f1_score 0.79225\n",
            "\n",
            "\n",
            "f1_score 0.76497\n",
            "f1_score 0.76497\n",
            "\n",
            "\n",
            "f1_score 0.76831\n",
            "f1_score 0.76831\n",
            "\n",
            "\n",
            "f1_score 0.74751\n",
            "f1_score 0.74751\n",
            "\n",
            "\n",
            "f1_score 0.73373\n",
            "f1_score 0.73373\n",
            "\n",
            "\n",
            "dataset t_1 f1-score:     0.76934  erro: 0.00625  desvio padrão: 0.01976\n",
            "dataset t_2 f1-score:     0.76934  erro: 0.00625  desivo padrão: 0.01976\n",
            "\n",
            "\n"
          ]
        }
      ]
    },
    {
      "cell_type": "markdown",
      "source": [
        "### Quarto teste: func_idade_log\n",
        " \n",
        "* Tratamento de outliers\n",
        "* Discretização das variáveis.\n",
        " "
      ],
      "metadata": {
        "id": "JXZUEiCcTpdc"
      }
    },
    {
      "cell_type": "code",
      "source": [
        "df_tm = df_t_media.copy()\n",
        "df_tm['contrato_horastrabalho']= pd.cut(df_tm[\"contrato_horastrabalho\"], bins= 12)\n",
        "df_t1 = df_tm.copy()\n",
        "df_t1 = encoder_var(df_t1,0)\n"
      ],
      "metadata": {
        "id": "2bGkqcZj33b_"
      },
      "execution_count": null,
      "outputs": []
    },
    {
      "cell_type": "code",
      "source": [
        "df_aux = df_t1.copy()"
      ],
      "metadata": {
        "id": "59MIYYcUZ9uQ"
      },
      "execution_count": null,
      "outputs": []
    },
    {
      "cell_type": "code",
      "source": [
        "df_aux['func_idade_log'][df_aux['func_idade_log'] > 4] = 4"
      ],
      "metadata": {
        "colab": {
          "base_uri": "https://localhost:8080/"
        },
        "id": "ttCKY4tMZN93",
        "outputId": "d257f1d2-8a8c-4bf9-a951-558d54bcd9ca"
      },
      "execution_count": null,
      "outputs": [
        {
          "output_type": "stream",
          "name": "stderr",
          "text": [
            "/usr/local/lib/python3.7/dist-packages/ipykernel_launcher.py:1: SettingWithCopyWarning: \n",
            "A value is trying to be set on a copy of a slice from a DataFrame\n",
            "\n",
            "See the caveats in the documentation: https://pandas.pydata.org/pandas-docs/stable/user_guide/indexing.html#returning-a-view-versus-a-copy\n",
            "  \"\"\"Entry point for launching an IPython kernel.\n"
          ]
        }
      ]
    },
    {
      "cell_type": "code",
      "source": [
        "df_i1 = df_aux.copy()\n",
        "df_i2 = df_aux.copy()\n",
        "df_i3 = df_aux.copy()\n",
        "df_i4 = df_aux.copy()\n",
        "df_i5 = df_aux.copy()"
      ],
      "metadata": {
        "id": "qFD7aV8CU2XO"
      },
      "execution_count": null,
      "outputs": []
    },
    {
      "cell_type": "code",
      "source": [
        "df_i2 = encoder_var(df_i2,0)\n",
        "df_i3 = df_i3.join(pd.get_dummies(df_i3['contrato_horastrabalho'], prefix=['contrato_horastrabalho']))"
      ],
      "metadata": {
        "id": "Woo_mB3CYFsk"
      },
      "execution_count": null,
      "outputs": []
    },
    {
      "cell_type": "code",
      "source": [
        "df_i4['func_idade_log']= pd.cut(df_i4[\"func_idade_log\"], bins= 12)\n",
        "df_i5['func_idade_log']= pd.cut(df_i5[\"func_idade_log\"], bins= 12)"
      ],
      "metadata": {
        "id": "GOEOkPLwWS79"
      },
      "execution_count": null,
      "outputs": []
    },
    {
      "cell_type": "code",
      "source": [
        "#df_i1['func_idade_log'][df_i1['func_idade_log'] > 4] = 4"
      ],
      "metadata": {
        "id": "zFDkZc-URW_X"
      },
      "execution_count": null,
      "outputs": []
    },
    {
      "cell_type": "code",
      "source": [
        "X_train5  = df_i5.drop(columns='turnover_apos_1_ano')\n",
        "X_train4  = df_i4.drop(columns='turnover_apos_1_ano')\n",
        "X_train3  = df_i3.drop(columns='turnover_apos_1_ano')\n",
        "X_train2  = df_i2.drop(columns='turnover_apos_1_ano')\n",
        "X_train1  = df_i1.drop(columns='turnover_apos_1_ano')\n",
        "y_train   = df_i1['turnover_apos_1_ano']"
      ],
      "metadata": {
        "id": "dN76ADIxUkst"
      },
      "execution_count": null,
      "outputs": []
    },
    {
      "cell_type": "code",
      "source": [
        "acerto_v1i    = np.zeros(10)\n",
        "acerto_v2i    = np.zeros(10)\n",
        "acerto_v3i    = np.zeros(10)\n",
        "acerto_v4i    = np.zeros(10)\n",
        "acerto_v5i    = np.zeros(10)\n",
        "\n",
        "\n",
        "j = 0\n",
        "for linhas_treino, linhas_valid in kf.split(X_train1):\n",
        "  acerto_v1i[j] =  resultados(X_train1,y_train,linhas_treino,linhas_valid,0,0,'Dataframe')\n",
        "  acerto_v2i[j] =  resultados(X_train2,y_train,linhas_treino,linhas_valid,0,0,'Dataframe')\n",
        "  acerto_v3i[j] =  resultados(X_train3,y_train,linhas_treino,linhas_valid,0,0,'Dataframe')\n",
        "  acerto_v4i[j] =  resultados(X_train4,y_train,linhas_treino,linhas_valid,'CountEncoder','func_idade_log','Dataframe')\n",
        "  acerto_v5i[j] =  resultados(X_train5,y_train,linhas_treino,linhas_valid,'TargetEncoder','func_idade_log','Dataframe')\n",
        "  print('\\n')\n",
        "\n",
        "\n",
        "  j = j = j+1\n",
        "\n",
        "print('dataset i_1 f1-score:    ',np.format_float_positional(np.mean(acerto_v1i),5),' erro:',np.format_float_positional(np.std(acerto_v1i)/np.sqrt(10),5),' desvio padrão:',np.format_float_positional(np.std(acerto_v1i),5))\n",
        "print('dataset i_2 f1-score:    ',np.format_float_positional(np.mean(acerto_v2i),5),' erro:',np.format_float_positional(np.std(acerto_v2i)/np.sqrt(10),5),' desvio padrão:',np.format_float_positional(np.std(acerto_v2i),5))\n",
        "print('dataset i_3 f1-score:    ',np.format_float_positional(np.mean(acerto_v3i),5),' erro:',np.format_float_positional(np.std(acerto_v3i)/np.sqrt(10),5),' desivo padrão:',np.format_float_positional(np.std(acerto_v3i),5))\n",
        "print('dataset i_4 f1-score:    ',np.format_float_positional(np.mean(acerto_v4i),5),' erro:',np.format_float_positional(np.std(acerto_v4i)/np.sqrt(10),5),' desivo padrão:',np.format_float_positional(np.std(acerto_v4i),5))\n",
        "print('dataset i_5 f1-score:    ',np.format_float_positional(np.mean(acerto_v5i),5),' erro:',np.format_float_positional(np.std(acerto_v5i)/np.sqrt(10),5),' desivo padrão:',np.format_float_positional(np.std(acerto_v5i),5))\n"
      ],
      "metadata": {
        "colab": {
          "base_uri": "https://localhost:8080/"
        },
        "id": "dKwJE5VXUk1m",
        "outputId": "528128d3-2191-4ccd-ef05-f045e01cd8df"
      },
      "execution_count": null,
      "outputs": [
        {
          "output_type": "stream",
          "name": "stdout",
          "text": [
            "f1_score 0.78404\n",
            "f1_score 0.78404\n",
            "f1_score 0.78131\n",
            "f1_score 0.77778\n",
            "f1_score 0.78336\n",
            "\n",
            "\n",
            "f1_score 0.77233\n",
            "f1_score 0.77233\n",
            "f1_score 0.78147\n",
            "f1_score 0.77448\n",
            "f1_score 0.78153\n",
            "\n",
            "\n",
            "f1_score 0.80210\n",
            "f1_score 0.80210\n",
            "f1_score 0.7898\n",
            "f1_score 0.78291\n",
            "f1_score 0.78199\n",
            "\n",
            "\n",
            "f1_score 0.78414\n",
            "f1_score 0.78414\n",
            "f1_score 0.78901\n",
            "f1_score 0.78169\n",
            "f1_score 0.79156\n",
            "\n",
            "\n",
            "f1_score 0.75\n",
            "f1_score 0.75\n",
            "f1_score 0.76314\n",
            "f1_score 0.75921\n",
            "f1_score 0.74544\n",
            "\n",
            "\n",
            "f1_score 0.78032\n",
            "f1_score 0.78032\n",
            "f1_score 0.78276\n",
            "f1_score 0.78131\n",
            "f1_score 0.77511\n",
            "\n",
            "\n",
            "f1_score 0.76717\n",
            "f1_score 0.76717\n",
            "f1_score 0.77156\n",
            "f1_score 0.76896\n",
            "f1_score 0.77059\n",
            "\n",
            "\n",
            "f1_score 0.77597\n",
            "f1_score 0.77597\n",
            "f1_score 0.77893\n",
            "f1_score 0.77635\n",
            "f1_score 0.77148\n",
            "\n",
            "\n",
            "f1_score 0.74094\n",
            "f1_score 0.74094\n",
            "f1_score 0.74020\n",
            "f1_score 0.74014\n",
            "f1_score 0.74208\n",
            "\n",
            "\n",
            "f1_score 0.74927\n",
            "f1_score 0.74927\n",
            "f1_score 0.74514\n",
            "f1_score 0.73951\n",
            "f1_score 0.75097\n",
            "\n",
            "\n",
            "dataset i_1 f1-score:     0.77063  erro: 0.00570  desvio padrão: 0.01804\n",
            "dataset i_2 f1-score:     0.77063  erro: 0.00570  desvio padrão: 0.01804\n",
            "dataset i_3 f1-score:     0.77233  erro: 0.00525  desivo padrão: 0.01660\n",
            "dataset i_4 f1-score:     0.76823  erro: 0.00496  desivo padrão: 0.01568\n",
            "dataset i_5 f1-score:     0.76941  erro: 0.00519  desivo padrão: 0.01640\n"
          ]
        }
      ]
    },
    {
      "cell_type": "markdown",
      "source": [
        "###  Quinto teste: contrato_salario\n",
        " \n",
        "  * Tratamento de outliers\n",
        "  * Transformação nos dados\n",
        " \n",
        " \n"
      ],
      "metadata": {
        "id": "n-6GDAGya1N7"
      }
    },
    {
      "cell_type": "code",
      "source": [
        "df_s1 = df_t1.copy()\n",
        "df_s2 = df_t1.copy()\n",
        "df_s3 = df_t1.copy()"
      ],
      "metadata": {
        "id": "gsS-dhwQa9hZ"
      },
      "execution_count": null,
      "outputs": []
    },
    {
      "cell_type": "code",
      "source": [
        "df_s1['contrato_salario_sqrt'] = df_s1['contrato_salario']**(1/3)\n",
        "df_s2['contrato_salario_log10'] = np.log10(df_s2['contrato_salario'])\n",
        "df_s3['contrato_salario_ls'] = np.log(df_s3['contrato_salario'])"
      ],
      "metadata": {
        "id": "LlEVpmhpc2hI"
      },
      "execution_count": null,
      "outputs": []
    },
    {
      "cell_type": "code",
      "source": [
        "df_s3 =  df_s3.drop(columns='contrato_salario')\n",
        "df_s2 =  df_s2.drop(columns='contrato_salario')\n",
        "df_s1 =   df_s1.drop(columns='contrato_salario')"
      ],
      "metadata": {
        "id": "O9A5i8dCVmYS"
      },
      "execution_count": null,
      "outputs": []
    },
    {
      "cell_type": "code",
      "source": [
        "X_train3  = df_s3.drop(columns='turnover_apos_1_ano')\n",
        "X_train2  = df_s2.drop(columns='turnover_apos_1_ano')\n",
        "X_train1  = df_s1.drop(columns='turnover_apos_1_ano')\n",
        "y_train   = df_i1['turnover_apos_1_ano']"
      ],
      "metadata": {
        "id": "e-i_Dk58c2oP"
      },
      "execution_count": null,
      "outputs": []
    },
    {
      "cell_type": "code",
      "source": [
        "acerto_v1s    = np.zeros(10)\n",
        "acerto_v2s    = np.zeros(10)\n",
        "acerto_v3s    = np.zeros(10)\n",
        "\n",
        "j = 0\n",
        "for linhas_treino, linhas_valid in kf.split(X_train1):\n",
        "  acerto_v1s[j] =  resultados(X_train1,y_train,linhas_treino,linhas_valid,0,0,'Dataframe')\n",
        "  acerto_v2s[j] =  resultados(X_train2,y_train,linhas_treino,linhas_valid,0,0,'Dataframe')\n",
        "  acerto_v3s[j] =  resultados(X_train3,y_train,linhas_treino,linhas_valid,0,0,'Dataframe')\n",
        "  print('\\n')\n",
        "\n",
        "  j = j = j+1\n",
        "\n",
        "print('dataset s_1 f1-score:    ',np.format_float_positional(np.mean(acerto_v1s),5),' erro:',np.format_float_positional(np.std(acerto_v1s)/np.sqrt(10),5),' desvio padrão:',np.format_float_positional(np.std(acerto_v1s),5))\n",
        "print('dataset s_2 f1-score:    ',np.format_float_positional(np.mean(acerto_v2s),5),' erro:',np.format_float_positional(np.std(acerto_v2s)/np.sqrt(10),5),' desvio padrão:',np.format_float_positional(np.std(acerto_v2s),5))\n",
        "print('dataset s_3 f1-score:    ',np.format_float_positional(np.mean(acerto_v3s),5),' erro:',np.format_float_positional(np.std(acerto_v3s)/np.sqrt(10),5),' desivo padrão:',np.format_float_positional(np.std(acerto_v3s),5))\n"
      ],
      "metadata": {
        "colab": {
          "base_uri": "https://localhost:8080/"
        },
        "id": "KKFn1SpOc2rA",
        "outputId": "f05e527e-4141-4e1d-9a6b-a195696405be"
      },
      "execution_count": null,
      "outputs": [
        {
          "output_type": "stream",
          "name": "stdout",
          "text": [
            "f1_score 0.78283\n",
            "f1_score 0.78351\n",
            "f1_score 0.78351\n",
            "\n",
            "\n",
            "f1_score 0.77551\n",
            "f1_score 0.77482\n",
            "f1_score 0.77482\n",
            "\n",
            "\n",
            "f1_score 0.8014\n",
            "f1_score 0.80245\n",
            "f1_score 0.80245\n",
            "\n",
            "\n",
            "f1_score 0.77945\n",
            "f1_score 0.77945\n",
            "f1_score 0.77945\n",
            "\n",
            "\n",
            "f1_score 0.76182\n",
            "f1_score 0.76248\n",
            "f1_score 0.76248\n",
            "\n",
            "\n",
            "f1_score 0.78804\n",
            "f1_score 0.78804\n",
            "f1_score 0.78804\n",
            "\n",
            "\n",
            "f1_score 0.76746\n",
            "f1_score 0.76855\n",
            "f1_score 0.76855\n",
            "\n",
            "\n",
            "f1_score 0.78952\n",
            "f1_score 0.78952\n",
            "f1_score 0.78952\n",
            "\n",
            "\n",
            "f1_score 0.74592\n",
            "f1_score 0.74592\n",
            "f1_score 0.74592\n",
            "\n",
            "\n",
            "f1_score 0.73684\n",
            "f1_score 0.73633\n",
            "f1_score 0.73633\n",
            "\n",
            "\n",
            "dataset s_1 f1-score:     0.77288  erro: 0.00604  desvio padrão: 0.0191\n",
            "dataset s_2 f1-score:     0.77311  erro: 0.00611  desvio padrão: 0.01931\n",
            "dataset s_3 f1-score:     0.77311  erro: 0.00611  desivo padrão: 0.01931\n"
          ]
        }
      ]
    },
    {
      "cell_type": "code",
      "source": [
        "plt.title('contrato_salario')\n",
        "sns.histplot(x='contrato_salario_sqrt',data=df_s1,hue = 'turnover_apos_1_ano')\n",
        "plt.semilogy()"
      ],
      "metadata": {
        "colab": {
          "base_uri": "https://localhost:8080/",
          "height": 317
        },
        "id": "Zdz8PBVzhQQQ",
        "outputId": "d19cd969-083d-469e-912e-ee68799a61b7"
      },
      "execution_count": null,
      "outputs": [
        {
          "output_type": "execute_result",
          "data": {
            "text/plain": [
              "[]"
            ]
          },
          "metadata": {},
          "execution_count": 98
        },
        {
          "output_type": "display_data",
          "data": {
            "text/plain": [
              "<Figure size 432x288 with 1 Axes>"
            ],
            "image/png": "[encoded data removed]"
          },
          "metadata": {
            "needs_background": "light"
          }
        }
      ]
    },
    {
      "cell_type": "code",
      "source": [
        "plt.title('contrato_salario')\n",
        "sns.boxplot(x = 'turnover_apos_1_ano',y='contrato_salario_sqrt',data=df_s1)\n",
        "plt.ylim(32,40)"
      ],
      "metadata": {
        "colab": {
          "base_uri": "https://localhost:8080/"
        },
        "id": "lfSnMW2qjYhC",
        "outputId": "62a68561-e875-46d5-9271-5a2ba29690fb"
      },
      "execution_count": null,
      "outputs": [
        {
          "output_type": "execute_result",
          "data": {
            "text/plain": [
              "(32.0, 40.0)"
            ]
          },
          "metadata": {},
          "execution_count": 99
        },
        {
          "output_type": "display_data",
          "data": {
            "text/plain": [
              "<Figure size 432x288 with 1 Axes>"
            ],
            "image/png": "[encoded data removed]"
          },
          "metadata": {
            "needs_background": "light"
          }
        }
      ]
    },
    {
      "cell_type": "code",
      "source": [
        "df_s1n = df_s1.copy()"
      ],
      "metadata": {
        "id": "b48-V9fij4vB"
      },
      "execution_count": null,
      "outputs": []
    },
    {
      "cell_type": "code",
      "source": [
        "df_s1n['contrato_salario_sqrt'][df_s1n['contrato_salario_sqrt'] >40] = 40\n",
        "df_s1n['contrato_salario_sqrt'][df_s1n['contrato_salario_sqrt'] <9] = 9"
      ],
      "metadata": {
        "id": "OTeMDqakhQTM",
        "colab": {
          "base_uri": "https://localhost:8080/"
        },
        "outputId": "c94da887-8d99-4cf3-921b-d76660316852"
      },
      "execution_count": null,
      "outputs": [
        {
          "output_type": "stream",
          "name": "stderr",
          "text": [
            "/usr/local/lib/python3.7/dist-packages/ipykernel_launcher.py:1: SettingWithCopyWarning: \n",
            "A value is trying to be set on a copy of a slice from a DataFrame\n",
            "\n",
            "See the caveats in the documentation: https://pandas.pydata.org/pandas-docs/stable/user_guide/indexing.html#returning-a-view-versus-a-copy\n",
            "  \"\"\"Entry point for launching an IPython kernel.\n",
            "/usr/local/lib/python3.7/dist-packages/ipykernel_launcher.py:2: SettingWithCopyWarning: \n",
            "A value is trying to be set on a copy of a slice from a DataFrame\n",
            "\n",
            "See the caveats in the documentation: https://pandas.pydata.org/pandas-docs/stable/user_guide/indexing.html#returning-a-view-versus-a-copy\n",
            "  \n"
          ]
        }
      ]
    },
    {
      "cell_type": "code",
      "source": [
        "plt.title('contrato_salario')\n",
        "sns.histplot(x='contrato_salario_sqrt',data=df_s1n,hue = 'turnover_apos_1_ano',bins =30)\n",
        "plt.semilogy()"
      ],
      "metadata": {
        "colab": {
          "base_uri": "https://localhost:8080/",
          "height": 317
        },
        "id": "649EQzlhibiM",
        "outputId": "15e2d411-16e0-4b19-e891-c7ffdab9feca"
      },
      "execution_count": null,
      "outputs": [
        {
          "output_type": "execute_result",
          "data": {
            "text/plain": [
              "[]"
            ]
          },
          "metadata": {},
          "execution_count": 102
        },
        {
          "output_type": "display_data",
          "data": {
            "text/plain": [
              "<Figure size 432x288 with 1 Axes>"
            ],
            "image/png": "[encoded data removed]"
          },
          "metadata": {
            "needs_background": "light"
          }
        }
      ]
    },
    {
      "cell_type": "code",
      "source": [
        "X_train1  = df_s1n.drop(columns='turnover_apos_1_ano')"
      ],
      "metadata": {
        "id": "FF3t4LRjkOyC"
      },
      "execution_count": null,
      "outputs": []
    },
    {
      "cell_type": "code",
      "source": [
        "acerto_v1sn   = np.zeros(10)\n",
        "j = 0\n",
        "for linhas_treino, linhas_valid in kf.split(X_train1):\n",
        "  acerto_v1sn[j] =  resultados(X_train1,y_train,linhas_treino,linhas_valid,0,0,'Dataframe')\n",
        "  j = j = j+1\n",
        "print('dataset sn_1 f1-score:    ',np.format_float_positional(np.mean(acerto_v1sn),5),' erro:',np.format_float_positional(np.std(acerto_v1sn)/np.sqrt(10),5),' desvio padrão:',np.format_float_positional(np.std(acerto_v1sn),5))"
      ],
      "metadata": {
        "colab": {
          "base_uri": "https://localhost:8080/"
        },
        "id": "9VffJQW3i5Jq",
        "outputId": "78a7e804-da8f-44ba-a0be-6f71442b7876"
      },
      "execution_count": null,
      "outputs": [
        {
          "output_type": "stream",
          "name": "stdout",
          "text": [
            "f1_score 0.78283\n",
            "f1_score 0.77551\n",
            "f1_score 0.8014\n",
            "f1_score 0.77945\n",
            "f1_score 0.76182\n",
            "f1_score 0.78804\n",
            "f1_score 0.76746\n",
            "f1_score 0.78952\n",
            "f1_score 0.74592\n",
            "f1_score 0.73684\n",
            "dataset sn_1 f1-score:     0.77288  erro: 0.00604  desvio padrão: 0.0191\n"
          ]
        }
      ]
    },
    {
      "cell_type": "markdown",
      "source": [
        "###Sexto teste: func_racacor\n",
        " \n",
        "* Tratamento dos dados faltantes.\n",
        "* Classe minoritária.\n",
        "* Codificação das variáveis."
      ],
      "metadata": {
        "id": "-cAJzQnGnSPO"
      }
    },
    {
      "cell_type": "markdown",
      "source": [
        "*** Tratamento dos dados faltantes***"
      ],
      "metadata": {
        "id": "Y3FYiOuPb18p"
      }
    },
    {
      "cell_type": "code",
      "source": [
        "df_fr = df_t1.copy() "
      ],
      "metadata": {
        "id": "3bMVXSB6i7f7"
      },
      "execution_count": null,
      "outputs": []
    },
    {
      "cell_type": "code",
      "source": [
        "df_fr['func_racacor'].value_counts()"
      ],
      "metadata": {
        "colab": {
          "base_uri": "https://localhost:8080/"
        },
        "id": "FdS19i6adlhm",
        "outputId": "e1b27a41-98b6-41ed-dc7b-c74591e3b6bf"
      },
      "execution_count": null,
      "outputs": [
        {
          "output_type": "execute_result",
          "data": {
            "text/plain": [
              "2    9682\n",
              "0    2684\n",
              "3    2611\n",
              "1      23\n",
              "Name: func_racacor, dtype: int64"
            ]
          },
          "metadata": {},
          "execution_count": 106
        }
      ]
    },
    {
      "cell_type": "code",
      "source": [
        "df_fr1 = df_fr.copy()\n",
        "df_fr2 = df_fr.copy()\n",
        "df_fr3 = df_fr.copy()"
      ],
      "metadata": {
        "id": "7gUiFCRHaGes"
      },
      "execution_count": null,
      "outputs": []
    },
    {
      "cell_type": "code",
      "source": [
        "df_fr1['func_racacor'].loc[df_fr1['func_racacor'] == 3] = 0\n",
        "df_fr2['func_racacor'].loc[df_fr2['func_racacor'] == 3] = 1\n",
        "df_fr3['func_racacor'].loc[df_fr3['func_racacor'] == 3] = 2"
      ],
      "metadata": {
        "colab": {
          "base_uri": "https://localhost:8080/"
        },
        "id": "5q06p0xTcIIc",
        "outputId": "8df3fa4c-7968-4d09-d82c-a4d9f246c0d5"
      },
      "execution_count": null,
      "outputs": [
        {
          "output_type": "stream",
          "name": "stderr",
          "text": [
            "/usr/local/lib/python3.7/dist-packages/pandas/core/indexing.py:1732: SettingWithCopyWarning: \n",
            "A value is trying to be set on a copy of a slice from a DataFrame\n",
            "\n",
            "See the caveats in the documentation: https://pandas.pydata.org/pandas-docs/stable/user_guide/indexing.html#returning-a-view-versus-a-copy\n",
            "  self._setitem_single_block(indexer, value, name)\n"
          ]
        }
      ]
    },
    {
      "cell_type": "code",
      "source": [
        "X_train3  = df_fr3.drop(columns='turnover_apos_1_ano')\n",
        "X_train2  = df_fr2.drop(columns='turnover_apos_1_ano')\n",
        "X_train1  = df_fr1.drop(columns='turnover_apos_1_ano')\n",
        "y_train   = df_fr['turnover_apos_1_ano']"
      ],
      "metadata": {
        "id": "Wnk0imaYcIKe"
      },
      "execution_count": null,
      "outputs": []
    },
    {
      "cell_type": "code",
      "source": [
        "acerto_v1r    = np.zeros(10)\n",
        "acerto_v2r    = np.zeros(10)\n",
        "acerto_v3r    = np.zeros(10)\n",
        "\n",
        "j = 0\n",
        "for linhas_treino, linhas_valid in kf.split(X_train1):\n",
        "  acerto_v1r[j] =  resultados(X_train1,y_train,linhas_treino,linhas_valid,0,0,'Dataframe')\n",
        "  acerto_v2r[j] =  resultados(X_train2,y_train,linhas_treino,linhas_valid,'CountEncoder','func_racacor','Dataframe')\n",
        "  acerto_v3r[j] =  resultados(X_train3,y_train,linhas_treino,linhas_valid,'TargetEncoder','func_racacor','Dataframe')\n",
        "  print('\\n')\n",
        "\n",
        "  j = j = j+1\n",
        "\n",
        "print('dataset r_1 f1-score:    ',np.format_float_positional(np.mean(acerto_v1r),5),' erro:',np.format_float_positional(np.std(acerto_v1r)/np.sqrt(10),5),' desvio padrão:',np.format_float_positional(np.std(acerto_v1r),5))\n",
        "print('dataset r_2 f1-score:    ',np.format_float_positional(np.mean(acerto_v2r),5),' erro:',np.format_float_positional(np.std(acerto_v2r)/np.sqrt(10),5),' desvio padrão:',np.format_float_positional(np.std(acerto_v2r),5))\n",
        "print('dataset r_3 f1-score:    ',np.format_float_positional(np.mean(acerto_v3r),5),' erro:',np.format_float_positional(np.std(acerto_v3r)/np.sqrt(10),5),' desivo padrão:',np.format_float_positional(np.std(acerto_v3r),5))\n"
      ],
      "metadata": {
        "colab": {
          "base_uri": "https://localhost:8080/"
        },
        "id": "TpQ4C4w_cptl",
        "outputId": "52c8c6e2-f840-4b76-999b-e8bd67388e89"
      },
      "execution_count": null,
      "outputs": [
        {
          "output_type": "stream",
          "name": "stdout",
          "text": [
            "f1_score 0.78049\n",
            "f1_score 0.78571\n",
            "f1_score 0.78646\n",
            "\n",
            "\n",
            "f1_score 0.77352\n",
            "f1_score 0.76801\n",
            "f1_score 0.77963\n",
            "\n",
            "\n",
            "f1_score 0.79861\n",
            "f1_score 0.79789\n",
            "f1_score 0.79755\n",
            "\n",
            "\n",
            "f1_score 0.78616\n",
            "f1_score 0.78092\n",
            "f1_score 0.77562\n",
            "\n",
            "\n",
            "f1_score 0.76042\n",
            "f1_score 0.75514\n",
            "f1_score 0.76379\n",
            "\n",
            "\n",
            "f1_score 0.78169\n",
            "f1_score 0.77454\n",
            "f1_score 0.78169\n",
            "\n",
            "\n",
            "f1_score 0.76267\n",
            "f1_score 0.77580\n",
            "f1_score 0.76523\n",
            "\n",
            "\n",
            "f1_score 0.77579\n",
            "f1_score 0.77607\n",
            "f1_score 0.77844\n",
            "\n",
            "\n",
            "f1_score 0.74088\n",
            "f1_score 0.74229\n",
            "f1_score 0.74270\n",
            "\n",
            "\n",
            "f1_score 0.7468\n",
            "f1_score 0.7534\n",
            "f1_score 0.7483\n",
            "\n",
            "\n",
            "dataset r_1 f1-score:     0.77070  erro: 0.00538  desvio padrão: 0.01703\n",
            "dataset r_2 f1-score:     0.77098  erro: 0.00499  desvio padrão: 0.01579\n",
            "dataset r_3 f1-score:     0.77194  erro: 0.00510  desivo padrão: 0.01613\n"
          ]
        }
      ]
    },
    {
      "cell_type": "markdown",
      "source": [
        "**Classe miniotaria**"
      ],
      "metadata": {
        "id": "SNABNMzTdRy5"
      }
    },
    {
      "cell_type": "code",
      "source": [
        "df_fr2['func_racacor'].value_counts()"
      ],
      "metadata": {
        "colab": {
          "base_uri": "https://localhost:8080/"
        },
        "id": "wRPg2-nUcpyv",
        "outputId": "03578c55-1314-470d-8bc4-7021fedd51c9"
      },
      "execution_count": null,
      "outputs": [
        {
          "output_type": "execute_result",
          "data": {
            "text/plain": [
              "2    9682\n",
              "0    2684\n",
              "1    2634\n",
              "Name: func_racacor, dtype: int64"
            ]
          },
          "metadata": {},
          "execution_count": 111
        }
      ]
    },
    {
      "cell_type": "markdown",
      "source": [
        "* A classe deixou de ser minioritaria"
      ],
      "metadata": {
        "id": "scTRmL60drCE"
      }
    },
    {
      "cell_type": "markdown",
      "source": [
        "**Codificação**"
      ],
      "metadata": {
        "id": "uF8BNkU3dz6l"
      }
    },
    {
      "cell_type": "code",
      "source": [
        "df_f = df_fr2.copy() "
      ],
      "metadata": {
        "id": "0KkR-Qd9eXtN"
      },
      "execution_count": null,
      "outputs": []
    },
    {
      "cell_type": "code",
      "source": [
        "df_f['func_racacor'] = df['func_racacor']"
      ],
      "metadata": {
        "id": "c35K6sJdcINJ"
      },
      "execution_count": null,
      "outputs": []
    },
    {
      "cell_type": "code",
      "source": [
        "df_f['func_racacor'][df_f['func_racacor'] =='SEM INFO'] = 'INDIGENA'"
      ],
      "metadata": {
        "colab": {
          "base_uri": "https://localhost:8080/"
        },
        "id": "LxEnI1_Lekke",
        "outputId": "0a14dafd-0b4d-41fd-d80d-61eda4a98eef"
      },
      "execution_count": null,
      "outputs": [
        {
          "output_type": "stream",
          "name": "stderr",
          "text": [
            "/usr/local/lib/python3.7/dist-packages/ipykernel_launcher.py:1: SettingWithCopyWarning: \n",
            "A value is trying to be set on a copy of a slice from a DataFrame\n",
            "\n",
            "See the caveats in the documentation: https://pandas.pydata.org/pandas-docs/stable/user_guide/indexing.html#returning-a-view-versus-a-copy\n",
            "  \"\"\"Entry point for launching an IPython kernel.\n"
          ]
        }
      ]
    },
    {
      "cell_type": "code",
      "source": [
        "df_f.head()"
      ],
      "metadata": {
        "colab": {
          "base_uri": "https://localhost:8080/"
        },
        "id": "hI5H3fkrhJX6",
        "outputId": "649acb08-3b79-4e7d-8998-c8fd5cf48a99"
      },
      "execution_count": null,
      "outputs": [
        {
          "output_type": "execute_result",
          "data": {
            "text/plain": [
              "   func_sexo    func_racacor  func_escolaridade  func_uf  func_deficiencia  \\\n",
              "0          1  AMARELA-BRANCA                  2        7                 0   \n",
              "1          1        INDIGENA                  2        1                 0   \n",
              "2          0     PRETA-PARDA                  2        8                 0   \n",
              "3          1     PRETA-PARDA                  2        5                 0   \n",
              "4          1     PRETA-PARDA                  2        1                 0   \n",
              "\n",
              "   empresa_porte  empresa_setor  contrato_horastrabalho  contrato_salario  \\\n",
              "0              2              5                      11           1750.65   \n",
              "1              1              2                      11           1002.30   \n",
              "2              4              2                      11           1370.14   \n",
              "3              4              2                      11           1854.68   \n",
              "4              4              2                      11           1126.23   \n",
              "\n",
              "   turnover_apos_1_ano  func_idade_log  \n",
              "0                    1        3.178054  \n",
              "1                    0        3.178054  \n",
              "2                    0        3.218876  \n",
              "3                    1        3.988984  \n",
              "4                    0        3.688879  "
            ],
            "text/html": [
              "\n",
              "  <div id=\"df-9a858391-6d2c-48da-8813-056ec749b145\">\n",
              "    <div class=\"colab-df-container\">\n",
              "      <div>\n",
              "<style scoped>\n",
              "    .dataframe tbody tr th:only-of-type {\n",
              "        vertical-align: middle;\n",
              "    }\n",
              "\n",
              "    .dataframe tbody tr th {\n",
              "        vertical-align: top;\n",
              "    }\n",
              "\n",
              "    .dataframe thead th {\n",
              "        text-align: right;\n",
              "    }\n",
              "</style>\n",
              "<table border=\"1\" class=\"dataframe\">\n",
              "  <thead>\n",
              "    <tr style=\"text-align: right;\">\n",
              "      <th></th>\n",
              "      <th>func_sexo</th>\n",
              "      <th>func_racacor</th>\n",
              "      <th>func_escolaridade</th>\n",
              "      <th>func_uf</th>\n",
              "      <th>func_deficiencia</th>\n",
              "      <th>empresa_porte</th>\n",
              "      <th>empresa_setor</th>\n",
              "      <th>contrato_horastrabalho</th>\n",
              "      <th>contrato_salario</th>\n",
              "      <th>turnover_apos_1_ano</th>\n",
              "      <th>func_idade_log</th>\n",
              "    </tr>\n",
              "  </thead>\n",
              "  <tbody>\n",
              "    <tr>\n",
              "      <th>0</th>\n",
              "      <td>1</td>\n",
              "      <td>AMARELA-BRANCA</td>\n",
              "      <td>2</td>\n",
              "      <td>7</td>\n",
              "      <td>0</td>\n",
              "      <td>2</td>\n",
              "      <td>5</td>\n",
              "      <td>11</td>\n",
              "      <td>1750.65</td>\n",
              "      <td>1</td>\n",
              "      <td>3.178054</td>\n",
              "    </tr>\n",
              "    <tr>\n",
              "      <th>1</th>\n",
              "      <td>1</td>\n",
              "      <td>INDIGENA</td>\n",
              "      <td>2</td>\n",
              "      <td>1</td>\n",
              "      <td>0</td>\n",
              "      <td>1</td>\n",
              "      <td>2</td>\n",
              "      <td>11</td>\n",
              "      <td>1002.30</td>\n",
              "      <td>0</td>\n",
              "      <td>3.178054</td>\n",
              "    </tr>\n",
              "    <tr>\n",
              "      <th>2</th>\n",
              "      <td>0</td>\n",
              "      <td>PRETA-PARDA</td>\n",
              "      <td>2</td>\n",
              "      <td>8</td>\n",
              "      <td>0</td>\n",
              "      <td>4</td>\n",
              "      <td>2</td>\n",
              "      <td>11</td>\n",
              "      <td>1370.14</td>\n",
              "      <td>0</td>\n",
              "      <td>3.218876</td>\n",
              "    </tr>\n",
              "    <tr>\n",
              "      <th>3</th>\n",
              "      <td>1</td>\n",
              "      <td>PRETA-PARDA</td>\n",
              "      <td>2</td>\n",
              "      <td>5</td>\n",
              "      <td>0</td>\n",
              "      <td>4</td>\n",
              "      <td>2</td>\n",
              "      <td>11</td>\n",
              "      <td>1854.68</td>\n",
              "      <td>1</td>\n",
              "      <td>3.988984</td>\n",
              "    </tr>\n",
              "    <tr>\n",
              "      <th>4</th>\n",
              "      <td>1</td>\n",
              "      <td>PRETA-PARDA</td>\n",
              "      <td>2</td>\n",
              "      <td>1</td>\n",
              "      <td>0</td>\n",
              "      <td>4</td>\n",
              "      <td>2</td>\n",
              "      <td>11</td>\n",
              "      <td>1126.23</td>\n",
              "      <td>0</td>\n",
              "      <td>3.688879</td>\n",
              "    </tr>\n",
              "  </tbody>\n",
              "</table>\n",
              "</div>\n",
              "      <button class=\"colab-df-convert\" onclick=\"convertToInteractive('df-9a858391-6d2c-48da-8813-056ec749b145')\"\n",
              "              title=\"Convert this dataframe to an interactive table.\"\n",
              "              style=\"display:none;\">\n",
              "        \n",
              "  <svg xmlns=\"http://www.w3.org/2000/svg\" height=\"24px\"viewBox=\"0 0 24 24\"\n",
              "       width=\"24px\">\n",
              "    <path d=\"M0 0h24v24H0V0z\" fill=\"none\"/>\n",
              "    <path d=\"M18.56 5.44l.94 2.06.94-2.06 2.06-.94-2.06-.94-.94-2.06-.94 2.06-2.06.94zm-11 1L8.5 8.5l.94-2.06 2.06-.94-2.06-.94L8.5 2.5l-.94 2.06-2.06.94zm10 10l.94 2.06.94-2.06 2.06-.94-2.06-.94-.94-2.06-.94 2.06-2.06.94z\"/><path d=\"M17.41 7.96l-1.37-1.37c-.4-.4-.92-.59-1.43-.59-.52 0-1.04.2-1.43.59L10.3 9.45l-7.72 7.72c-.78.78-.78 2.05 0 2.83L4 21.41c.39.39.9.59 1.41.59.51 0 1.02-.2 1.41-.59l7.78-7.78 2.81-2.81c.8-.78.8-2.07 0-2.86zM5.41 20L4 18.59l7.72-7.72 1.47 1.35L5.41 20z\"/>\n",
              "  </svg>\n",
              "      </button>\n",
              "      \n",
              "  <style>\n",
              "    .colab-df-container {\n",
              "      display:flex;\n",
              "      flex-wrap:wrap;\n",
              "      gap: 12px;\n",
              "    }\n",
              "\n",
              "    .colab-df-convert {\n",
              "      background-color: #E8F0FE;\n",
              "      border: none;\n",
              "      border-radius: 50%;\n",
              "      cursor: pointer;\n",
              "      display: none;\n",
              "      fill: #1967D2;\n",
              "      height: 32px;\n",
              "      padding: 0 0 0 0;\n",
              "      width: 32px;\n",
              "    }\n",
              "\n",
              "    .colab-df-convert:hover {\n",
              "      background-color: #E2EBFA;\n",
              "      box-shadow: 0px 1px 2px rgba(60, 64, 67, 0.3), 0px 1px 3px 1px rgba(60, 64, 67, 0.15);\n",
              "      fill: #174EA6;\n",
              "    }\n",
              "\n",
              "    [theme=dark] .colab-df-convert {\n",
              "      background-color: #3B4455;\n",
              "      fill: #D2E3FC;\n",
              "    }\n",
              "\n",
              "    [theme=dark] .colab-df-convert:hover {\n",
              "      background-color: #434B5C;\n",
              "      box-shadow: 0px 1px 3px 1px rgba(0, 0, 0, 0.15);\n",
              "      filter: drop-shadow(0px 1px 2px rgba(0, 0, 0, 0.3));\n",
              "      fill: #FFFFFF;\n",
              "    }\n",
              "  </style>\n",
              "\n",
              "      <script>\n",
              "        const buttonEl =\n",
              "          document.querySelector('#df-9a858391-6d2c-48da-8813-056ec749b145 button.colab-df-convert');\n",
              "        buttonEl.style.display =\n",
              "          google.colab.kernel.accessAllowed ? 'block' : 'none';\n",
              "\n",
              "        async function convertToInteractive(key) {\n",
              "          const element = document.querySelector('#df-9a858391-6d2c-48da-8813-056ec749b145');\n",
              "          const dataTable =\n",
              "            await google.colab.kernel.invokeFunction('convertToInteractive',\n",
              "                                                     [key], {});\n",
              "          if (!dataTable) return;\n",
              "\n",
              "          const docLinkHtml = 'Like what you see? Visit the ' +\n",
              "            '<a target=\"_blank\" href=https://colab.research.google.com/notebooks/data_table.ipynb>data table notebook</a>'\n",
              "            + ' to learn more about interactive tables.';\n",
              "          element.innerHTML = '';\n",
              "          dataTable['output_type'] = 'display_data';\n",
              "          await google.colab.output.renderOutput(dataTable, element);\n",
              "          const docLink = document.createElement('div');\n",
              "          docLink.innerHTML = docLinkHtml;\n",
              "          element.appendChild(docLink);\n",
              "        }\n",
              "      </script>\n",
              "    </div>\n",
              "  </div>\n",
              "  "
            ]
          },
          "metadata": {},
          "execution_count": 115
        }
      ]
    },
    {
      "cell_type": "code",
      "source": [
        "df_f1 = df_f.copy()\n",
        "df_f2 = df_f.copy()\n",
        "df_f3 = df_f.copy()"
      ],
      "metadata": {
        "id": "y-R1SW00gXKB"
      },
      "execution_count": null,
      "outputs": []
    },
    {
      "cell_type": "code",
      "source": [
        "df_f1 = df_f1.join(pd.get_dummies(df_f1['func_racacor'], prefix=['func_racacor']))"
      ],
      "metadata": {
        "id": "vPVwSsXpaMvl"
      },
      "execution_count": null,
      "outputs": []
    },
    {
      "cell_type": "code",
      "source": [
        "df_f1 = df_f1.drop(columns =['func_racacor'] )"
      ],
      "metadata": {
        "id": "8Mq5eRbvcJa4"
      },
      "execution_count": null,
      "outputs": []
    },
    {
      "cell_type": "code",
      "source": [
        "df_f1.head()"
      ],
      "metadata": {
        "colab": {
          "base_uri": "https://localhost:8080/",
          "height": 288
        },
        "id": "NimLsuqVg49P",
        "outputId": "faeefdc4-51f1-4fa0-ca0d-50147a420cee"
      },
      "execution_count": null,
      "outputs": [
        {
          "output_type": "execute_result",
          "data": {
            "text/plain": [
              "   func_sexo  func_escolaridade  func_uf  func_deficiencia  empresa_porte  \\\n",
              "0          1                  2        7                 0              2   \n",
              "1          1                  2        1                 0              1   \n",
              "2          0                  2        8                 0              4   \n",
              "3          1                  2        5                 0              4   \n",
              "4          1                  2        1                 0              4   \n",
              "\n",
              "   empresa_setor  contrato_horastrabalho  contrato_salario  \\\n",
              "0              5                      11           1750.65   \n",
              "1              2                      11           1002.30   \n",
              "2              2                      11           1370.14   \n",
              "3              2                      11           1854.68   \n",
              "4              2                      11           1126.23   \n",
              "\n",
              "   turnover_apos_1_ano  func_idade_log  ['func_racacor']_AMARELA-BRANCA  \\\n",
              "0                    1        3.178054                                1   \n",
              "1                    0        3.178054                                0   \n",
              "2                    0        3.218876                                0   \n",
              "3                    1        3.988984                                0   \n",
              "4                    0        3.688879                                0   \n",
              "\n",
              "   ['func_racacor']_INDIGENA  ['func_racacor']_PRETA-PARDA  \n",
              "0                          0                             0  \n",
              "1                          1                             0  \n",
              "2                          0                             1  \n",
              "3                          0                             1  \n",
              "4                          0                             1  "
            ],
            "text/html": [
              "\n",
              "  <div id=\"df-4917ca04-da18-4a0a-829c-26c5017bb188\">\n",
              "    <div class=\"colab-df-container\">\n",
              "      <div>\n",
              "<style scoped>\n",
              "    .dataframe tbody tr th:only-of-type {\n",
              "        vertical-align: middle;\n",
              "    }\n",
              "\n",
              "    .dataframe tbody tr th {\n",
              "        vertical-align: top;\n",
              "    }\n",
              "\n",
              "    .dataframe thead th {\n",
              "        text-align: right;\n",
              "    }\n",
              "</style>\n",
              "<table border=\"1\" class=\"dataframe\">\n",
              "  <thead>\n",
              "    <tr style=\"text-align: right;\">\n",
              "      <th></th>\n",
              "      <th>func_sexo</th>\n",
              "      <th>func_escolaridade</th>\n",
              "      <th>func_uf</th>\n",
              "      <th>func_deficiencia</th>\n",
              "      <th>empresa_porte</th>\n",
              "      <th>empresa_setor</th>\n",
              "      <th>contrato_horastrabalho</th>\n",
              "      <th>contrato_salario</th>\n",
              "      <th>turnover_apos_1_ano</th>\n",
              "      <th>func_idade_log</th>\n",
              "      <th>['func_racacor']_AMARELA-BRANCA</th>\n",
              "      <th>['func_racacor']_INDIGENA</th>\n",
              "      <th>['func_racacor']_PRETA-PARDA</th>\n",
              "    </tr>\n",
              "  </thead>\n",
              "  <tbody>\n",
              "    <tr>\n",
              "      <th>0</th>\n",
              "      <td>1</td>\n",
              "      <td>2</td>\n",
              "      <td>7</td>\n",
              "      <td>0</td>\n",
              "      <td>2</td>\n",
              "      <td>5</td>\n",
              "      <td>11</td>\n",
              "      <td>1750.65</td>\n",
              "      <td>1</td>\n",
              "      <td>3.178054</td>\n",
              "      <td>1</td>\n",
              "      <td>0</td>\n",
              "      <td>0</td>\n",
              "    </tr>\n",
              "    <tr>\n",
              "      <th>1</th>\n",
              "      <td>1</td>\n",
              "      <td>2</td>\n",
              "      <td>1</td>\n",
              "      <td>0</td>\n",
              "      <td>1</td>\n",
              "      <td>2</td>\n",
              "      <td>11</td>\n",
              "      <td>1002.30</td>\n",
              "      <td>0</td>\n",
              "      <td>3.178054</td>\n",
              "      <td>0</td>\n",
              "      <td>1</td>\n",
              "      <td>0</td>\n",
              "    </tr>\n",
              "    <tr>\n",
              "      <th>2</th>\n",
              "      <td>0</td>\n",
              "      <td>2</td>\n",
              "      <td>8</td>\n",
              "      <td>0</td>\n",
              "      <td>4</td>\n",
              "      <td>2</td>\n",
              "      <td>11</td>\n",
              "      <td>1370.14</td>\n",
              "      <td>0</td>\n",
              "      <td>3.218876</td>\n",
              "      <td>0</td>\n",
              "      <td>0</td>\n",
              "      <td>1</td>\n",
              "    </tr>\n",
              "    <tr>\n",
              "      <th>3</th>\n",
              "      <td>1</td>\n",
              "      <td>2</td>\n",
              "      <td>5</td>\n",
              "      <td>0</td>\n",
              "      <td>4</td>\n",
              "      <td>2</td>\n",
              "      <td>11</td>\n",
              "      <td>1854.68</td>\n",
              "      <td>1</td>\n",
              "      <td>3.988984</td>\n",
              "      <td>0</td>\n",
              "      <td>0</td>\n",
              "      <td>1</td>\n",
              "    </tr>\n",
              "    <tr>\n",
              "      <th>4</th>\n",
              "      <td>1</td>\n",
              "      <td>2</td>\n",
              "      <td>1</td>\n",
              "      <td>0</td>\n",
              "      <td>4</td>\n",
              "      <td>2</td>\n",
              "      <td>11</td>\n",
              "      <td>1126.23</td>\n",
              "      <td>0</td>\n",
              "      <td>3.688879</td>\n",
              "      <td>0</td>\n",
              "      <td>0</td>\n",
              "      <td>1</td>\n",
              "    </tr>\n",
              "  </tbody>\n",
              "</table>\n",
              "</div>\n",
              "      <button class=\"colab-df-convert\" onclick=\"convertToInteractive('df-4917ca04-da18-4a0a-829c-26c5017bb188')\"\n",
              "              title=\"Convert this dataframe to an interactive table.\"\n",
              "              style=\"display:none;\">\n",
              "        \n",
              "  <svg xmlns=\"http://www.w3.org/2000/svg\" height=\"24px\"viewBox=\"0 0 24 24\"\n",
              "       width=\"24px\">\n",
              "    <path d=\"M0 0h24v24H0V0z\" fill=\"none\"/>\n",
              "    <path d=\"M18.56 5.44l.94 2.06.94-2.06 2.06-.94-2.06-.94-.94-2.06-.94 2.06-2.06.94zm-11 1L8.5 8.5l.94-2.06 2.06-.94-2.06-.94L8.5 2.5l-.94 2.06-2.06.94zm10 10l.94 2.06.94-2.06 2.06-.94-2.06-.94-.94-2.06-.94 2.06-2.06.94z\"/><path d=\"M17.41 7.96l-1.37-1.37c-.4-.4-.92-.59-1.43-.59-.52 0-1.04.2-1.43.59L10.3 9.45l-7.72 7.72c-.78.78-.78 2.05 0 2.83L4 21.41c.39.39.9.59 1.41.59.51 0 1.02-.2 1.41-.59l7.78-7.78 2.81-2.81c.8-.78.8-2.07 0-2.86zM5.41 20L4 18.59l7.72-7.72 1.47 1.35L5.41 20z\"/>\n",
              "  </svg>\n",
              "      </button>\n",
              "      \n",
              "  <style>\n",
              "    .colab-df-container {\n",
              "      display:flex;\n",
              "      flex-wrap:wrap;\n",
              "      gap: 12px;\n",
              "    }\n",
              "\n",
              "    .colab-df-convert {\n",
              "      background-color: #E8F0FE;\n",
              "      border: none;\n",
              "      border-radius: 50%;\n",
              "      cursor: pointer;\n",
              "      display: none;\n",
              "      fill: #1967D2;\n",
              "      height: 32px;\n",
              "      padding: 0 0 0 0;\n",
              "      width: 32px;\n",
              "    }\n",
              "\n",
              "    .colab-df-convert:hover {\n",
              "      background-color: #E2EBFA;\n",
              "      box-shadow: 0px 1px 2px rgba(60, 64, 67, 0.3), 0px 1px 3px 1px rgba(60, 64, 67, 0.15);\n",
              "      fill: #174EA6;\n",
              "    }\n",
              "\n",
              "    [theme=dark] .colab-df-convert {\n",
              "      background-color: #3B4455;\n",
              "      fill: #D2E3FC;\n",
              "    }\n",
              "\n",
              "    [theme=dark] .colab-df-convert:hover {\n",
              "      background-color: #434B5C;\n",
              "      box-shadow: 0px 1px 3px 1px rgba(0, 0, 0, 0.15);\n",
              "      filter: drop-shadow(0px 1px 2px rgba(0, 0, 0, 0.3));\n",
              "      fill: #FFFFFF;\n",
              "    }\n",
              "  </style>\n",
              "\n",
              "      <script>\n",
              "        const buttonEl =\n",
              "          document.querySelector('#df-4917ca04-da18-4a0a-829c-26c5017bb188 button.colab-df-convert');\n",
              "        buttonEl.style.display =\n",
              "          google.colab.kernel.accessAllowed ? 'block' : 'none';\n",
              "\n",
              "        async function convertToInteractive(key) {\n",
              "          const element = document.querySelector('#df-4917ca04-da18-4a0a-829c-26c5017bb188');\n",
              "          const dataTable =\n",
              "            await google.colab.kernel.invokeFunction('convertToInteractive',\n",
              "                                                     [key], {});\n",
              "          if (!dataTable) return;\n",
              "\n",
              "          const docLinkHtml = 'Like what you see? Visit the ' +\n",
              "            '<a target=\"_blank\" href=https://colab.research.google.com/notebooks/data_table.ipynb>data table notebook</a>'\n",
              "            + ' to learn more about interactive tables.';\n",
              "          element.innerHTML = '';\n",
              "          dataTable['output_type'] = 'display_data';\n",
              "          await google.colab.output.renderOutput(dataTable, element);\n",
              "          const docLink = document.createElement('div');\n",
              "          docLink.innerHTML = docLinkHtml;\n",
              "          element.appendChild(docLink);\n",
              "        }\n",
              "      </script>\n",
              "    </div>\n",
              "  </div>\n",
              "  "
            ]
          },
          "metadata": {},
          "execution_count": 119
        }
      ]
    },
    {
      "cell_type": "code",
      "source": [
        "X_train3  = df_f3.drop(columns='turnover_apos_1_ano')\n",
        "X_train2  = df_f2.drop(columns='turnover_apos_1_ano')\n",
        "X_train1  = df_f1.drop(columns='turnover_apos_1_ano')\n",
        "y_train   = df_f['turnover_apos_1_ano']"
      ],
      "metadata": {
        "id": "_UwQgGdZcckH"
      },
      "execution_count": null,
      "outputs": []
    },
    {
      "cell_type": "code",
      "source": [
        "acerto_v1r    = np.zeros(10)\n",
        "acerto_v2r    = np.zeros(10)\n",
        "acerto_v3r    = np.zeros(10)\n",
        "\n",
        "j = 0\n",
        "for linhas_treino, linhas_valid in kf.split(X_train1):\n",
        "  acerto_v1r[j] =  resultados(X_train1,y_train,linhas_treino,linhas_valid,0,0,'Dataframe')\n",
        "  acerto_v2r[j] =  resultados(X_train2,y_train,linhas_treino,linhas_valid,'CountEncoder','func_racacor','Dataframe')\n",
        "  acerto_v3r[j] =  resultados(X_train3,y_train,linhas_treino,linhas_valid,'TargetEncoder','func_racacor','Dataframe')\n",
        "  print('\\n')\n",
        "\n",
        "  j = j = j+1\n",
        "\n",
        "print('dataset r_1 f1-score:    ',np.format_float_positional(np.mean(acerto_v1r),5),' erro:',np.format_float_positional(np.std(acerto_v1r)/np.sqrt(10),5),' desvio padrão:',np.format_float_positional(np.std(acerto_v1r),5))\n",
        "print('dataset r_2 f1-score:    ',np.format_float_positional(np.mean(acerto_v2r),5),' erro:',np.format_float_positional(np.std(acerto_v2r)/np.sqrt(10),5),' desvio padrão:',np.format_float_positional(np.std(acerto_v2r),5))\n",
        "print('dataset r_3 f1-score:    ',np.format_float_positional(np.mean(acerto_v3r),5),' erro:',np.format_float_positional(np.std(acerto_v3r)/np.sqrt(10),5),' desivo padrão:',np.format_float_positional(np.std(acerto_v3r),5))\n"
      ],
      "metadata": {
        "colab": {
          "base_uri": "https://localhost:8080/"
        },
        "id": "DMzUhV9IaM5K",
        "outputId": "34b01eb4-fae7-4639-e1de-1227390c739f"
      },
      "execution_count": null,
      "outputs": [
        {
          "output_type": "stream",
          "name": "stdout",
          "text": [
            "f1_score 0.79098\n",
            "f1_score 0.78238\n",
            "f1_score 0.79034\n",
            "\n",
            "\n",
            "f1_score 0.771\n",
            "f1_score 0.76775\n",
            "f1_score 0.763\n",
            "\n",
            "\n",
            "f1_score 0.78665\n",
            "f1_score 0.79471\n",
            "f1_score 0.79507\n",
            "\n",
            "\n",
            "f1_score 0.78628\n",
            "f1_score 0.79218\n",
            "f1_score 0.78023\n",
            "\n",
            "\n",
            "f1_score 0.76052\n",
            "f1_score 0.75236\n",
            "f1_score 0.76141\n",
            "\n",
            "\n",
            "f1_score 0.78284\n",
            "f1_score 0.77954\n",
            "f1_score 0.78314\n",
            "\n",
            "\n",
            "f1_score 0.76224\n",
            "f1_score 0.76814\n",
            "f1_score 0.77728\n",
            "\n",
            "\n",
            "f1_score 0.77277\n",
            "f1_score 0.77816\n",
            "f1_score 0.78803\n",
            "\n",
            "\n",
            "f1_score 0.74094\n",
            "f1_score 0.74613\n",
            "f1_score 0.75204\n",
            "\n",
            "\n",
            "f1_score 0.73366\n",
            "f1_score 0.73994\n",
            "f1_score 0.74219\n",
            "\n",
            "\n",
            "dataset r_1 f1-score:     0.76879  erro: 0.00588  desvio padrão: 0.01859\n",
            "dataset r_2 f1-score:     0.77013  erro: 0.00566  desvio padrão: 0.01791\n",
            "dataset r_3 f1-score:     0.77327  erro: 0.00530  desivo padrão: 0.01676\n"
          ]
        }
      ]
    },
    {
      "cell_type": "markdown",
      "source": [
        "### Teste sete: func_escolaridade\n",
        "\n",
        "* Codificação da variável func_escolaridade"
      ],
      "metadata": {
        "id": "_iUQv_snm_Ja"
      }
    },
    {
      "cell_type": "code",
      "source": [
        "df_fe = df_fr2.copy() "
      ],
      "metadata": {
        "id": "JSnhDz0onMIN"
      },
      "execution_count": null,
      "outputs": []
    },
    {
      "cell_type": "code",
      "source": [
        "df_fe1 = df_fe.copy()\n",
        "df_fe2 = df_fe.copy()\n",
        "df_fe3 = df_fe.copy()"
      ],
      "metadata": {
        "id": "0sE4tHqsnMaL"
      },
      "execution_count": null,
      "outputs": []
    },
    {
      "cell_type": "code",
      "source": [
        "df_fe1['func_escolaridade'] = df['func_escolaridade']\n",
        "df_fe2['func_escolaridade'] = df['func_escolaridade']\n",
        "df_fe3['func_escolaridade'] = df['func_escolaridade']"
      ],
      "metadata": {
        "id": "KAtMpBUEnMiZ"
      },
      "execution_count": null,
      "outputs": []
    },
    {
      "cell_type": "code",
      "source": [
        "df_fe1 = df_fe1.join(pd.get_dummies(df_fe1['func_escolaridade'], prefix=['func_escolaridade']))\n",
        "df_fe1 = df_fe1.drop(columns =['func_escolaridade'] )"
      ],
      "metadata": {
        "id": "kSzx_SX4aM8y"
      },
      "execution_count": null,
      "outputs": []
    },
    {
      "cell_type": "code",
      "source": [
        "X_train3  = df_fe3.drop(columns='turnover_apos_1_ano')\n",
        "X_train2  = df_fe2.drop(columns='turnover_apos_1_ano')\n",
        "X_train1  = df_fe1.drop(columns='turnover_apos_1_ano')\n",
        "y_train   = df_fe['turnover_apos_1_ano']"
      ],
      "metadata": {
        "id": "touJON5fn1DN"
      },
      "execution_count": null,
      "outputs": []
    },
    {
      "cell_type": "code",
      "source": [
        "acerto_v1re    = np.zeros(10)\n",
        "acerto_v2re    = np.zeros(10)\n",
        "acerto_v3re    = np.zeros(10)\n",
        "\n",
        "j = 0\n",
        "for linhas_treino, linhas_valid in kf.split(X_train1):\n",
        "  acerto_v1re[j] =  resultados(X_train1,y_train,linhas_treino,linhas_valid,0,0,'Dataframe')\n",
        "  acerto_v2re[j] =  resultados(X_train2,y_train,linhas_treino,linhas_valid,'CountEncoder','func_escolaridade','Dataframe')\n",
        "  acerto_v3re[j] =  resultados(X_train3,y_train,linhas_treino,linhas_valid,'TargetEncoder','func_escolaridade','Dataframe')\n",
        "  print('\\n')\n",
        "  j = j = j+1\n",
        "\n",
        "print('dataset re_1 f1-score:    ',np.format_float_positional(np.mean(acerto_v1re),5),' erro:',np.format_float_positional(np.std(acerto_v1re)/np.sqrt(10),5),' desvio padrão:',np.format_float_positional(np.std(acerto_v1re),5))\n",
        "print('dataset re_2 f1-score:    ',np.format_float_positional(np.mean(acerto_v2re),5),' erro:',np.format_float_positional(np.std(acerto_v2re)/np.sqrt(10),5),' desvio padrão:',np.format_float_positional(np.std(acerto_v2re),5))\n",
        "print('dataset re_3 f1-score:    ',np.format_float_positional(np.mean(acerto_v3re),5),' erro:',np.format_float_positional(np.std(acerto_v3re)/np.sqrt(10),5),' desivo padrão:',np.format_float_positional(np.std(acerto_v3re),5))\n"
      ],
      "metadata": {
        "colab": {
          "base_uri": "https://localhost:8080/"
        },
        "id": "3xUoRTvOn1F-",
        "outputId": "1b55bbce-bafe-406d-9313-b2d2dcdd22cb"
      },
      "execution_count": null,
      "outputs": [
        {
          "output_type": "stream",
          "name": "stdout",
          "text": [
            "f1_score 0.78390\n",
            "f1_score 0.79074\n",
            "f1_score 0.78299\n",
            "\n",
            "\n",
            "f1_score 0.77493\n",
            "f1_score 0.76762\n",
            "f1_score 0.77778\n",
            "\n",
            "\n",
            "f1_score 0.79789\n",
            "f1_score 0.80279\n",
            "f1_score 0.79861\n",
            "\n",
            "\n",
            "f1_score 0.77580\n",
            "f1_score 0.78062\n",
            "f1_score 0.78092\n",
            "\n",
            "\n",
            "f1_score 0.75413\n",
            "f1_score 0.75427\n",
            "f1_score 0.7569\n",
            "\n",
            "\n",
            "f1_score 0.77641\n",
            "f1_score 0.78329\n",
            "f1_score 0.77193\n",
            "\n",
            "\n",
            "f1_score 0.76011\n",
            "f1_score 0.76089\n",
            "f1_score 0.76854\n",
            "\n",
            "\n",
            "f1_score 0.77108\n",
            "f1_score 0.77002\n",
            "f1_score 0.7691\n",
            "\n",
            "\n",
            "f1_score 0.74244\n",
            "f1_score 0.74229\n",
            "f1_score 0.75022\n",
            "\n",
            "\n",
            "f1_score 0.74241\n",
            "f1_score 0.75432\n",
            "f1_score 0.73798\n",
            "\n",
            "\n",
            "dataset re_1 f1-score:     0.76791  erro: 0.00538  desvio padrão: 0.01702\n",
            "dataset re_2 f1-score:     0.77068  erro: 0.00560  desvio padrão: 0.01772\n",
            "dataset re_3 f1-score:     0.7695  erro: 0.00525  desivo padrão: 0.01661\n"
          ]
        }
      ]
    },
    {
      "cell_type": "markdown",
      "source": [
        "### Teste oito: Estados\n",
        "\n",
        "* Codificação da variável"
      ],
      "metadata": {
        "id": "O8Hz78MesaPt"
      }
    },
    {
      "cell_type": "code",
      "source": [
        "df_es = df_fr2.copy() "
      ],
      "metadata": {
        "id": "MmE_OuSon1LM"
      },
      "execution_count": null,
      "outputs": []
    },
    {
      "cell_type": "code",
      "source": [
        "df_es1 = df_es.copy()\n",
        "df_es2 = df_es.copy()\n",
        "df_es3 = df_es.copy()"
      ],
      "metadata": {
        "id": "tMqlFwDQskcz"
      },
      "execution_count": null,
      "outputs": []
    },
    {
      "cell_type": "code",
      "source": [
        "df_es1['func_uf'] = df['func_uf']\n",
        "df_es2['func_uf'] = df['func_uf']\n",
        "df_es3['func_uf'] = df['func_uf']"
      ],
      "metadata": {
        "id": "dF_vxj-Askgc"
      },
      "execution_count": null,
      "outputs": []
    },
    {
      "cell_type": "code",
      "source": [
        "plt.title('Estados')\n",
        "sns.countplot(x = 'func_uf',data = df,hue = 'turnover_apos_1_ano')"
      ],
      "metadata": {
        "colab": {
          "base_uri": "https://localhost:8080/"
        },
        "id": "pfBaPZ5un1NV",
        "outputId": "cdadeb1c-482e-4975-ef62-da50af9d2cf5"
      },
      "execution_count": null,
      "outputs": [
        {
          "output_type": "execute_result",
          "data": {
            "text/plain": [
              "<matplotlib.axes._subplots.AxesSubplot at 0x7feadfcdb950>"
            ]
          },
          "metadata": {},
          "execution_count": 131
        },
        {
          "output_type": "display_data",
          "data": {
            "text/plain": [
              "<Figure size 432x288 with 1 Axes>"
            ],
            "image/png": "[encoded data removed]"
          },
          "metadata": {
            "needs_background": "light"
          }
        }
      ]
    },
    {
      "cell_type": "code",
      "source": [
        "df_es1 = df_es1.join(pd.get_dummies(df_es1['func_uf'], prefix=['func_uf']))\n",
        "df_es1 = df_es1.drop(columns =['func_uf'] )"
      ],
      "metadata": {
        "id": "jGLZtF_Sn1Pn"
      },
      "execution_count": null,
      "outputs": []
    },
    {
      "cell_type": "code",
      "source": [
        "X_train3  = df_es3.drop(columns='turnover_apos_1_ano')\n",
        "X_train2  = df_es2.drop(columns='turnover_apos_1_ano')\n",
        "X_train1  = df_es1.drop(columns='turnover_apos_1_ano')\n",
        "y_train   = df_es['turnover_apos_1_ano']"
      ],
      "metadata": {
        "id": "t5Rh_55MtGKP"
      },
      "execution_count": null,
      "outputs": []
    },
    {
      "cell_type": "code",
      "source": [
        "acerto_v1es    = np.zeros(10)\n",
        "acerto_v2es    = np.zeros(10)\n",
        "acerto_v3es    = np.zeros(10)\n",
        "\n",
        "j = 0\n",
        "for linhas_treino, linhas_valid in kf.split(X_train1):\n",
        "  acerto_v1es[j] =  resultados(X_train1,y_train,linhas_treino,linhas_valid,0,0,'Dataframe')\n",
        "  acerto_v2es[j] =  resultados(X_train2,y_train,linhas_treino,linhas_valid,'CountEncoder','func_uf','Dataframe')\n",
        "  acerto_v3es[j] =  resultados(X_train3,y_train,linhas_treino,linhas_valid,'TargetEncoder','func_uf','Dataframe')\n",
        "  print('\\n')\n",
        "\n",
        "  j = j = j+1\n",
        "\n",
        "print('dataset es_1 f1-score:    ',np.format_float_positional(np.mean(acerto_v1es),5),' erro:',np.format_float_positional(np.std(acerto_v1es)/np.sqrt(10),5),' desvio padrão:',np.format_float_positional(np.std(acerto_v1es),5))\n",
        "print('dataset es_2 f1-score:    ',np.format_float_positional(np.mean(acerto_v2es),5),' erro:',np.format_float_positional(np.std(acerto_v2es)/np.sqrt(10),5),' desvio padrão:',np.format_float_positional(np.std(acerto_v2es),5))\n",
        "print('dataset es_3 f1-score:    ',np.format_float_positional(np.mean(acerto_v3es),5),' erro:',np.format_float_positional(np.std(acerto_v3es)/np.sqrt(10),5),' desivo padrão:',np.format_float_positional(np.std(acerto_v3es),5))\n"
      ],
      "metadata": {
        "colab": {
          "base_uri": "https://localhost:8080/"
        },
        "id": "0zQIpjtHtGMm",
        "outputId": "f14065ea-8489-4a9e-e63b-2cf077ceff07"
      },
      "execution_count": null,
      "outputs": [
        {
          "output_type": "stream",
          "name": "stdout",
          "text": [
            "f1_score 0.78665\n",
            "f1_score 0.79053\n",
            "f1_score 0.78201\n",
            "\n",
            "\n",
            "f1_score 0.75375\n",
            "f1_score 0.77836\n",
            "f1_score 0.77098\n",
            "\n",
            "\n",
            "f1_score 0.79396\n",
            "f1_score 0.81157\n",
            "f1_score 0.80594\n",
            "\n",
            "\n",
            "f1_score 0.77807\n",
            "f1_score 0.78345\n",
            "f1_score 0.77836\n",
            "\n",
            "\n",
            "f1_score 0.75\n",
            "f1_score 0.7526\n",
            "f1_score 0.75\n",
            "\n",
            "\n",
            "f1_score 0.77385\n",
            "f1_score 0.77277\n",
            "f1_score 0.77719\n",
            "\n",
            "\n",
            "f1_score 0.75536\n",
            "f1_score 0.76868\n",
            "f1_score 0.76992\n",
            "\n",
            "\n",
            "f1_score 0.77949\n",
            "f1_score 0.77778\n",
            "f1_score 0.78535\n",
            "\n",
            "\n",
            "f1_score 0.74255\n",
            "f1_score 0.74865\n",
            "f1_score 0.73429\n",
            "\n",
            "\n",
            "f1_score 0.74133\n",
            "f1_score 0.75342\n",
            "f1_score 0.7534\n",
            "\n",
            "\n",
            "dataset es_1 f1-score:     0.76550  erro: 0.00572  desvio padrão: 0.01809\n",
            "dataset es_2 f1-score:     0.77378  erro: 0.0058  desvio padrão: 0.01833\n",
            "dataset es_3 f1-score:     0.77074  erro: 0.00612  desivo padrão: 0.01934\n"
          ]
        }
      ]
    },
    {
      "cell_type": "markdown",
      "source": [
        " \n",
        " \n",
        "### Teste 9: empresa_porte\n",
        " \n",
        "* Codificação da variável.\n",
        " \n",
        " \n"
      ],
      "metadata": {
        "id": "XBafLiAvqNR1"
      }
    },
    {
      "cell_type": "code",
      "source": [
        "df_ep = df_fr2.copy() "
      ],
      "metadata": {
        "id": "ShdS5UFwqWUc"
      },
      "execution_count": null,
      "outputs": []
    },
    {
      "cell_type": "code",
      "source": [
        "df_ep1 = df_ep.copy()\n",
        "df_ep2 = df_ep.copy()\n",
        "df_ep3 = df_ep.copy()"
      ],
      "metadata": {
        "id": "3LBwkKjfqWbr"
      },
      "execution_count": null,
      "outputs": []
    },
    {
      "cell_type": "code",
      "source": [
        "df_ep1['empresa_porte'] = df['empresa_porte']\n",
        "df_ep2['empresa_porte'] = df['empresa_porte']\n",
        "df_ep3['empresa_porte'] = df['empresa_porte']"
      ],
      "metadata": {
        "id": "iVQr3pjnqjU-"
      },
      "execution_count": null,
      "outputs": []
    },
    {
      "cell_type": "code",
      "source": [
        "df_ep1 = df_ep1.join(pd.get_dummies(df_ep1['empresa_porte'], prefix=['empresa_porte']))\n",
        "df_ep1 = df_ep1.drop(columns =['empresa_porte'])"
      ],
      "metadata": {
        "id": "gOjDLX8EqjeV"
      },
      "execution_count": null,
      "outputs": []
    },
    {
      "cell_type": "code",
      "source": [
        "X_train3  = df_ep3.drop(columns='turnover_apos_1_ano')\n",
        "X_train2  = df_ep2.drop(columns='turnover_apos_1_ano')\n",
        "X_train1  = df_ep1.drop(columns='turnover_apos_1_ano')\n",
        "y_train   = df_ep['turnover_apos_1_ano']"
      ],
      "metadata": {
        "id": "pwE9F35htGOn"
      },
      "execution_count": null,
      "outputs": []
    },
    {
      "cell_type": "code",
      "source": [
        "acerto_v1ep    = np.zeros(10)\n",
        "acerto_v2ep    = np.zeros(10)\n",
        "acerto_v3ep    = np.zeros(10)\n",
        "\n",
        "j = 0\n",
        "for linhas_treino, linhas_valid in kf.split(X_train1):\n",
        "  acerto_v1ep[j] =  resultados(X_train1,y_train,linhas_treino,linhas_valid,0,0,'Dataframe')\n",
        "  acerto_v2ep[j] =  resultados(X_train2,y_train,linhas_treino,linhas_valid,'CountEncoder','empresa_porte','Dataframe')\n",
        "  acerto_v3ep[j] =  resultados(X_train3,y_train,linhas_treino,linhas_valid,'TargetEncoder','empresa_porte','Dataframe')\n",
        "  print('\\n')\n",
        "\n",
        "  j = j = j+1\n",
        "\n",
        "print('dataset ep_1 f1-score:    ',np.format_float_positional(np.mean(acerto_v1ep),5),' erro:',np.format_float_positional(np.std(acerto_v1ep)/np.sqrt(10),5),' desvio padrão:',np.format_float_positional(np.std(acerto_v1ep),5))\n",
        "print('dataset ep_2 f1-score:    ',np.format_float_positional(np.mean(acerto_v2ep),5),' erro:',np.format_float_positional(np.std(acerto_v2ep)/np.sqrt(10),5),' desvio padrão:',np.format_float_positional(np.std(acerto_v2ep),5))\n",
        "print('dataset ep_3 f1-score:    ',np.format_float_positional(np.mean(acerto_v3ep),5),' erro:',np.format_float_positional(np.std(acerto_v3ep)/np.sqrt(10),5),' desivo padrão:',np.format_float_positional(np.std(acerto_v3ep),5))\n"
      ],
      "metadata": {
        "colab": {
          "base_uri": "https://localhost:8080/"
        },
        "id": "xmFjM0TLrAFN",
        "outputId": "cb8d2e7d-bf3b-42f5-fecd-fb6407094f31"
      },
      "execution_count": null,
      "outputs": [
        {
          "output_type": "stream",
          "name": "stdout",
          "text": [
            "f1_score 0.79034\n",
            "f1_score 0.79512\n",
            "f1_score 0.77622\n",
            "\n",
            "\n",
            "f1_score 0.77739\n",
            "f1_score 0.78185\n",
            "f1_score 0.78049\n",
            "\n",
            "\n",
            "f1_score 0.79965\n",
            "f1_score 0.80279\n",
            "f1_score 0.80352\n",
            "\n",
            "\n",
            "f1_score 0.78238\n",
            "f1_score 0.79543\n",
            "f1_score 0.79505\n",
            "\n",
            "\n",
            "f1_score 0.7541\n",
            "f1_score 0.75897\n",
            "f1_score 0.76607\n",
            "\n",
            "\n",
            "f1_score 0.77942\n",
            "f1_score 0.77981\n",
            "f1_score 0.79086\n",
            "\n",
            "\n",
            "f1_score 0.76165\n",
            "f1_score 0.76182\n",
            "f1_score 0.76386\n",
            "\n",
            "\n",
            "f1_score 0.77673\n",
            "f1_score 0.77586\n",
            "f1_score 0.79156\n",
            "\n",
            "\n",
            "f1_score 0.73905\n",
            "f1_score 0.75386\n",
            "f1_score 0.75862\n",
            "\n",
            "\n",
            "f1_score 0.74927\n",
            "f1_score 0.74833\n",
            "f1_score 0.75624\n",
            "\n",
            "\n",
            "dataset ep_1 f1-score:     0.771  erro: 0.00577  desvio padrão: 0.01826\n",
            "dataset ep_2 f1-score:     0.77538  erro: 0.00570  desvio padrão: 0.01804\n",
            "dataset ep_3 f1-score:     0.77825  erro: 0.00499  desivo padrão: 0.01579\n"
          ]
        }
      ]
    },
    {
      "cell_type": "markdown",
      "source": [
        "### Teste 10 : empresa_setor\n",
        "\n",
        "* Codificação da variável"
      ],
      "metadata": {
        "id": "qecscExfta9z"
      }
    },
    {
      "cell_type": "code",
      "source": [
        "df_est = df_fr2.copy() "
      ],
      "metadata": {
        "id": "GfbGa3xltDXs"
      },
      "execution_count": null,
      "outputs": []
    },
    {
      "cell_type": "code",
      "source": [
        "df_est1 = df_est.copy()\n",
        "df_est2 = df_est.copy()\n",
        "df_est3 = df_est.copy()"
      ],
      "metadata": {
        "id": "FsGqqKx-t2LN"
      },
      "execution_count": null,
      "outputs": []
    },
    {
      "cell_type": "code",
      "source": [
        "df_est1['empresa_setor'] = df['empresa_setor']\n",
        "df_est2['empresa_setor'] = df['empresa_setor']\n",
        "df_est3['empresa_setor'] = df['empresa_setor']"
      ],
      "metadata": {
        "id": "LYQal3sjt2Nm"
      },
      "execution_count": null,
      "outputs": []
    },
    {
      "cell_type": "code",
      "source": [
        "df_est1 = df_est1.join(pd.get_dummies(df_est1['empresa_setor'], prefix=['empresa_setor']))\n",
        "df_est1 = df_est1.drop(columns =['empresa_setor'])"
      ],
      "metadata": {
        "id": "CLARyIBIt2Yj"
      },
      "execution_count": null,
      "outputs": []
    },
    {
      "cell_type": "code",
      "source": [
        "X_train3  = df_est3.drop(columns='turnover_apos_1_ano')\n",
        "X_train2  = df_est2.drop(columns='turnover_apos_1_ano')\n",
        "X_train1  = df_est1.drop(columns='turnover_apos_1_ano')\n",
        "y_train   = df_est['turnover_apos_1_ano']"
      ],
      "metadata": {
        "id": "eRFAjE4yuVGQ"
      },
      "execution_count": null,
      "outputs": []
    },
    {
      "cell_type": "code",
      "source": [
        "df_est1.head()"
      ],
      "metadata": {
        "colab": {
          "base_uri": "https://localhost:8080/"
        },
        "id": "WGhVLvqmuxPD",
        "outputId": "debea004-c4ff-4074-96fe-8a4d4fe33db6"
      },
      "execution_count": null,
      "outputs": [
        {
          "output_type": "execute_result",
          "data": {
            "text/plain": [
              "   func_sexo  func_racacor  func_escolaridade  func_uf  func_deficiencia  \\\n",
              "0          1             0                  2        7                 0   \n",
              "1          1             1                  2        1                 0   \n",
              "2          0             2                  2        8                 0   \n",
              "3          1             2                  2        5                 0   \n",
              "4          1             2                  2        1                 0   \n",
              "\n",
              "   empresa_porte  contrato_horastrabalho  contrato_salario  \\\n",
              "0              2                      11           1750.65   \n",
              "1              1                      11           1002.30   \n",
              "2              4                      11           1370.14   \n",
              "3              4                      11           1854.68   \n",
              "4              4                      11           1126.23   \n",
              "\n",
              "   turnover_apos_1_ano  func_idade_log  \\\n",
              "0                    1        3.178054   \n",
              "1                    0        3.178054   \n",
              "2                    0        3.218876   \n",
              "3                    1        3.988984   \n",
              "4                    0        3.688879   \n",
              "\n",
              "   ['empresa_setor']_Administraçao pública  ['empresa_setor']_Agricultura  \\\n",
              "0                                        0                              0   \n",
              "1                                        0                              0   \n",
              "2                                        0                              0   \n",
              "3                                        0                              0   \n",
              "4                                        0                              0   \n",
              "\n",
              "   ['empresa_setor']_Comércio  ['empresa_setor']_Construçao civil  \\\n",
              "0                           0                                   0   \n",
              "1                           1                                   0   \n",
              "2                           1                                   0   \n",
              "3                           1                                   0   \n",
              "4                           1                                   0   \n",
              "\n",
              "   ['empresa_setor']_Indústria  ['empresa_setor']_Serviços  \n",
              "0                            0                           1  \n",
              "1                            0                           0  \n",
              "2                            0                           0  \n",
              "3                            0                           0  \n",
              "4                            0                           0  "
            ],
            "text/html": [
              "\n",
              "  <div id=\"df-2eb1a111-960e-46c9-9d9e-dd91b36d219d\">\n",
              "    <div class=\"colab-df-container\">\n",
              "      <div>\n",
              "<style scoped>\n",
              "    .dataframe tbody tr th:only-of-type {\n",
              "        vertical-align: middle;\n",
              "    }\n",
              "\n",
              "    .dataframe tbody tr th {\n",
              "        vertical-align: top;\n",
              "    }\n",
              "\n",
              "    .dataframe thead th {\n",
              "        text-align: right;\n",
              "    }\n",
              "</style>\n",
              "<table border=\"1\" class=\"dataframe\">\n",
              "  <thead>\n",
              "    <tr style=\"text-align: right;\">\n",
              "      <th></th>\n",
              "      <th>func_sexo</th>\n",
              "      <th>func_racacor</th>\n",
              "      <th>func_escolaridade</th>\n",
              "      <th>func_uf</th>\n",
              "      <th>func_deficiencia</th>\n",
              "      <th>empresa_porte</th>\n",
              "      <th>contrato_horastrabalho</th>\n",
              "      <th>contrato_salario</th>\n",
              "      <th>turnover_apos_1_ano</th>\n",
              "      <th>func_idade_log</th>\n",
              "      <th>['empresa_setor']_Administraçao pública</th>\n",
              "      <th>['empresa_setor']_Agricultura</th>\n",
              "      <th>['empresa_setor']_Comércio</th>\n",
              "      <th>['empresa_setor']_Construçao civil</th>\n",
              "      <th>['empresa_setor']_Indústria</th>\n",
              "      <th>['empresa_setor']_Serviços</th>\n",
              "    </tr>\n",
              "  </thead>\n",
              "  <tbody>\n",
              "    <tr>\n",
              "      <th>0</th>\n",
              "      <td>1</td>\n",
              "      <td>0</td>\n",
              "      <td>2</td>\n",
              "      <td>7</td>\n",
              "      <td>0</td>\n",
              "      <td>2</td>\n",
              "      <td>11</td>\n",
              "      <td>1750.65</td>\n",
              "      <td>1</td>\n",
              "      <td>3.178054</td>\n",
              "      <td>0</td>\n",
              "      <td>0</td>\n",
              "      <td>0</td>\n",
              "      <td>0</td>\n",
              "      <td>0</td>\n",
              "      <td>1</td>\n",
              "    </tr>\n",
              "    <tr>\n",
              "      <th>1</th>\n",
              "      <td>1</td>\n",
              "      <td>1</td>\n",
              "      <td>2</td>\n",
              "      <td>1</td>\n",
              "      <td>0</td>\n",
              "      <td>1</td>\n",
              "      <td>11</td>\n",
              "      <td>1002.30</td>\n",
              "      <td>0</td>\n",
              "      <td>3.178054</td>\n",
              "      <td>0</td>\n",
              "      <td>0</td>\n",
              "      <td>1</td>\n",
              "      <td>0</td>\n",
              "      <td>0</td>\n",
              "      <td>0</td>\n",
              "    </tr>\n",
              "    <tr>\n",
              "      <th>2</th>\n",
              "      <td>0</td>\n",
              "      <td>2</td>\n",
              "      <td>2</td>\n",
              "      <td>8</td>\n",
              "      <td>0</td>\n",
              "      <td>4</td>\n",
              "      <td>11</td>\n",
              "      <td>1370.14</td>\n",
              "      <td>0</td>\n",
              "      <td>3.218876</td>\n",
              "      <td>0</td>\n",
              "      <td>0</td>\n",
              "      <td>1</td>\n",
              "      <td>0</td>\n",
              "      <td>0</td>\n",
              "      <td>0</td>\n",
              "    </tr>\n",
              "    <tr>\n",
              "      <th>3</th>\n",
              "      <td>1</td>\n",
              "      <td>2</td>\n",
              "      <td>2</td>\n",
              "      <td>5</td>\n",
              "      <td>0</td>\n",
              "      <td>4</td>\n",
              "      <td>11</td>\n",
              "      <td>1854.68</td>\n",
              "      <td>1</td>\n",
              "      <td>3.988984</td>\n",
              "      <td>0</td>\n",
              "      <td>0</td>\n",
              "      <td>1</td>\n",
              "      <td>0</td>\n",
              "      <td>0</td>\n",
              "      <td>0</td>\n",
              "    </tr>\n",
              "    <tr>\n",
              "      <th>4</th>\n",
              "      <td>1</td>\n",
              "      <td>2</td>\n",
              "      <td>2</td>\n",
              "      <td>1</td>\n",
              "      <td>0</td>\n",
              "      <td>4</td>\n",
              "      <td>11</td>\n",
              "      <td>1126.23</td>\n",
              "      <td>0</td>\n",
              "      <td>3.688879</td>\n",
              "      <td>0</td>\n",
              "      <td>0</td>\n",
              "      <td>1</td>\n",
              "      <td>0</td>\n",
              "      <td>0</td>\n",
              "      <td>0</td>\n",
              "    </tr>\n",
              "  </tbody>\n",
              "</table>\n",
              "</div>\n",
              "      <button class=\"colab-df-convert\" onclick=\"convertToInteractive('df-2eb1a111-960e-46c9-9d9e-dd91b36d219d')\"\n",
              "              title=\"Convert this dataframe to an interactive table.\"\n",
              "              style=\"display:none;\">\n",
              "        \n",
              "  <svg xmlns=\"http://www.w3.org/2000/svg\" height=\"24px\"viewBox=\"0 0 24 24\"\n",
              "       width=\"24px\">\n",
              "    <path d=\"M0 0h24v24H0V0z\" fill=\"none\"/>\n",
              "    <path d=\"M18.56 5.44l.94 2.06.94-2.06 2.06-.94-2.06-.94-.94-2.06-.94 2.06-2.06.94zm-11 1L8.5 8.5l.94-2.06 2.06-.94-2.06-.94L8.5 2.5l-.94 2.06-2.06.94zm10 10l.94 2.06.94-2.06 2.06-.94-2.06-.94-.94-2.06-.94 2.06-2.06.94z\"/><path d=\"M17.41 7.96l-1.37-1.37c-.4-.4-.92-.59-1.43-.59-.52 0-1.04.2-1.43.59L10.3 9.45l-7.72 7.72c-.78.78-.78 2.05 0 2.83L4 21.41c.39.39.9.59 1.41.59.51 0 1.02-.2 1.41-.59l7.78-7.78 2.81-2.81c.8-.78.8-2.07 0-2.86zM5.41 20L4 18.59l7.72-7.72 1.47 1.35L5.41 20z\"/>\n",
              "  </svg>\n",
              "      </button>\n",
              "      \n",
              "  <style>\n",
              "    .colab-df-container {\n",
              "      display:flex;\n",
              "      flex-wrap:wrap;\n",
              "      gap: 12px;\n",
              "    }\n",
              "\n",
              "    .colab-df-convert {\n",
              "      background-color: #E8F0FE;\n",
              "      border: none;\n",
              "      border-radius: 50%;\n",
              "      cursor: pointer;\n",
              "      display: none;\n",
              "      fill: #1967D2;\n",
              "      height: 32px;\n",
              "      padding: 0 0 0 0;\n",
              "      width: 32px;\n",
              "    }\n",
              "\n",
              "    .colab-df-convert:hover {\n",
              "      background-color: #E2EBFA;\n",
              "      box-shadow: 0px 1px 2px rgba(60, 64, 67, 0.3), 0px 1px 3px 1px rgba(60, 64, 67, 0.15);\n",
              "      fill: #174EA6;\n",
              "    }\n",
              "\n",
              "    [theme=dark] .colab-df-convert {\n",
              "      background-color: #3B4455;\n",
              "      fill: #D2E3FC;\n",
              "    }\n",
              "\n",
              "    [theme=dark] .colab-df-convert:hover {\n",
              "      background-color: #434B5C;\n",
              "      box-shadow: 0px 1px 3px 1px rgba(0, 0, 0, 0.15);\n",
              "      filter: drop-shadow(0px 1px 2px rgba(0, 0, 0, 0.3));\n",
              "      fill: #FFFFFF;\n",
              "    }\n",
              "  </style>\n",
              "\n",
              "      <script>\n",
              "        const buttonEl =\n",
              "          document.querySelector('#df-2eb1a111-960e-46c9-9d9e-dd91b36d219d button.colab-df-convert');\n",
              "        buttonEl.style.display =\n",
              "          google.colab.kernel.accessAllowed ? 'block' : 'none';\n",
              "\n",
              "        async function convertToInteractive(key) {\n",
              "          const element = document.querySelector('#df-2eb1a111-960e-46c9-9d9e-dd91b36d219d');\n",
              "          const dataTable =\n",
              "            await google.colab.kernel.invokeFunction('convertToInteractive',\n",
              "                                                     [key], {});\n",
              "          if (!dataTable) return;\n",
              "\n",
              "          const docLinkHtml = 'Like what you see? Visit the ' +\n",
              "            '<a target=\"_blank\" href=https://colab.research.google.com/notebooks/data_table.ipynb>data table notebook</a>'\n",
              "            + ' to learn more about interactive tables.';\n",
              "          element.innerHTML = '';\n",
              "          dataTable['output_type'] = 'display_data';\n",
              "          await google.colab.output.renderOutput(dataTable, element);\n",
              "          const docLink = document.createElement('div');\n",
              "          docLink.innerHTML = docLinkHtml;\n",
              "          element.appendChild(docLink);\n",
              "        }\n",
              "      </script>\n",
              "    </div>\n",
              "  </div>\n",
              "  "
            ]
          },
          "metadata": {},
          "execution_count": 146
        }
      ]
    },
    {
      "cell_type": "code",
      "source": [
        "acerto_v1est    = np.zeros(10)\n",
        "acerto_v2est    = np.zeros(10)\n",
        "acerto_v3est    = np.zeros(10)\n",
        "\n",
        "j = 0\n",
        "for linhas_treino, linhas_valid in kf.split(X_train1):\n",
        "  acerto_v1est[j] =  resultados(X_train1,y_train,linhas_treino,linhas_valid,0,0,'Dataframe')\n",
        "  acerto_v2est[j] =  resultados(X_train2,y_train,linhas_treino,linhas_valid,'CountEncoder','empresa_setor','Dataframe')\n",
        "  acerto_v3est[j] =  resultados(X_train3,y_train,linhas_treino,linhas_valid,'TargetEncoder','empresa_setor','Dataframe')\n",
        "  print('\\n')\n",
        "\n",
        "  j = j = j+1\n",
        "\n",
        "print('dataset est_1 f1-score:    ',np.format_float_positional(np.mean(acerto_v1est),5),' erro:',np.format_float_positional(np.std(acerto_v1est)/np.sqrt(10),5),' desvio padrão:',np.format_float_positional(np.std(acerto_v1est),5))\n",
        "print('dataset est_2 f1-score:    ',np.format_float_positional(np.mean(acerto_v2est),5),' erro:',np.format_float_positional(np.std(acerto_v2est)/np.sqrt(10),5),' desvio padrão:',np.format_float_positional(np.std(acerto_v2est),5))\n",
        "print('dataset est_3 f1-score:    ',np.format_float_positional(np.mean(acerto_v3est),5),' erro:',np.format_float_positional(np.std(acerto_v3est)/np.sqrt(10),5),' desivo padrão:',np.format_float_positional(np.std(acerto_v3est),5))\n"
      ],
      "metadata": {
        "colab": {
          "base_uri": "https://localhost:8080/"
        },
        "id": "iWiWWMPXuVOA",
        "outputId": "05f0305f-b236-427b-915a-c715eb45c75b"
      },
      "execution_count": null,
      "outputs": [
        {
          "output_type": "stream",
          "name": "stdout",
          "text": [
            "f1_score 0.7864\n",
            "f1_score 0.79021\n",
            "f1_score 0.78540\n",
            "\n",
            "\n",
            "f1_score 0.77289\n",
            "f1_score 0.77487\n",
            "f1_score 0.77352\n",
            "\n",
            "\n",
            "f1_score 0.7951\n",
            "f1_score 0.79754\n",
            "f1_score 0.80494\n",
            "\n",
            "\n",
            "f1_score 0.78376\n",
            "f1_score 0.78393\n",
            "f1_score 0.77591\n",
            "\n",
            "\n",
            "f1_score 0.76027\n",
            "f1_score 0.76199\n",
            "f1_score 0.76166\n",
            "\n",
            "\n",
            "f1_score 0.76978\n",
            "f1_score 0.78023\n",
            "f1_score 0.77544\n",
            "\n",
            "\n",
            "f1_score 0.76418\n",
            "f1_score 0.76283\n",
            "f1_score 0.76622\n",
            "\n",
            "\n",
            "f1_score 0.76870\n",
            "f1_score 0.78186\n",
            "f1_score 0.77042\n",
            "\n",
            "\n",
            "f1_score 0.75113\n",
            "f1_score 0.74662\n",
            "f1_score 0.74503\n",
            "\n",
            "\n",
            "f1_score 0.74432\n",
            "f1_score 0.75\n",
            "f1_score 0.75294\n",
            "\n",
            "\n",
            "dataset est_1 f1-score:     0.76965  erro: 0.00473  desvio padrão: 0.01497\n",
            "dataset est_2 f1-score:     0.77301  erro: 0.00510  desvio padrão: 0.01613\n",
            "dataset est_3 f1-score:     0.77115  erro: 0.00502  desivo padrão: 0.01588\n"
          ]
        }
      ]
    },
    {
      "cell_type": "markdown",
      "source": [
        "# Conclusão.\n",
        " \n",
        "* Nesse notebook foi visto que a melhor maneira encontrada de tratar os dados strings foi através da aplicação do Label Encoder. E foi tratado os valores zero da variável horas de trabalho pela sua média e esses dados também foram agrupados.\n",
        " \n",
        "* Também foi visto que a variável de Target está desequilibrada. Logo, vale tentar equilibrar as classes para ver como o modelo vai empenhar.\n",
        "\n",
        "\n"
      ],
      "metadata": {
        "id": "I1Mcn1Nozy0_"
      }
    },
    {
      "cell_type": "code",
      "execution_count": null,
      "metadata": {
        "id": "J9lUesKM6a83"
      },
      "outputs": [],
      "source": [
        ""
      ]
    }
  ],
  "metadata": {
    "colab": {
      "collapsed_sections": [],
      "name": "Competição parte 1.ipynb",
      "provenance": []
    },
    "kernelspec": {
      "display_name": "Python 3",
      "name": "python3"
    },
    "language_info": {
      "name": "python"
    }
  },
  "nbformat": 4,
  "nbformat_minor": 0
}